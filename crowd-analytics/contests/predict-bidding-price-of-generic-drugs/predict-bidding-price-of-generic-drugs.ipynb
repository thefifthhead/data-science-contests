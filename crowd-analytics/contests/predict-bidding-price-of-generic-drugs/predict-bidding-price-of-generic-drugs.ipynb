{
 "cells": [
  {
   "cell_type": "code",
   "execution_count": 1,
   "metadata": {
    "collapsed": false
   },
   "outputs": [],
   "source": [
    "import pandas as pd\n",
    "import numpy as np\n",
    "from sklearn import linear_model\n",
    "from sklearn.cross_validation import train_test_split\n",
    "import matplotlib.pyplot as plt\n",
    "%matplotlib inline"
   ]
  },
  {
   "cell_type": "code",
   "execution_count": 2,
   "metadata": {
    "collapsed": true
   },
   "outputs": [],
   "source": [
    "df = pd.read_csv('data/CAX_Bidding_TRAIN_Molecule_3_4_5.csv')\n"
   ]
  },
  {
   "cell_type": "code",
   "execution_count": 11,
   "metadata": {
    "collapsed": false
   },
   "outputs": [],
   "source": [
    "df.columns\n",
    "cols = ['ID', 'Account', 'Province', 'Region', 'Tender_Type', 'Start_date', 'End_date_including_extension', 'Length_of_contract_in_Months', 'Market', 'Tender_Standard_Unit_per_year', 'Winning_price_per_standard_unit', 'Molecule', 'Presentation','Winning_Product','Winning_Company']\n",
    "df2 = df[cols]\n"
   ]
  },
  {
   "cell_type": "code",
   "execution_count": 21,
   "metadata": {
    "collapsed": true
   },
   "outputs": [],
   "source": [
    "y=df['Winning_price_per_standard_unit']"
   ]
  },
  {
   "cell_type": "code",
   "execution_count": 22,
   "metadata": {
    "collapsed": true
   },
   "outputs": [],
   "source": [
    "x=df['Length_of_contract_in_Months']"
   ]
  },
  {
   "cell_type": "code",
   "execution_count": 30,
   "metadata": {
    "collapsed": true
   },
   "outputs": [],
   "source": [
    "x_train,x_test,y_train,y_test=train_test_split(x,y)"
   ]
  },
  {
   "cell_type": "code",
   "execution_count": 31,
   "metadata": {
    "collapsed": true
   },
   "outputs": [],
   "source": [
    "regr = linear_model.LinearRegression()"
   ]
  },
  {
   "cell_type": "code",
   "execution_count": 32,
   "metadata": {
    "collapsed": false
   },
   "outputs": [
    {
     "ename": "ValueError",
     "evalue": "Input contains NaN, infinity or a value too large for dtype('float64').",
     "output_type": "error",
     "traceback": [
      "\u001b[0;31m---------------------------------------------------------------------------\u001b[0m",
      "\u001b[0;31mValueError\u001b[0m                                Traceback (most recent call last)",
      "\u001b[0;32m<ipython-input-32-783844a05b9c>\u001b[0m in \u001b[0;36m<module>\u001b[0;34m()\u001b[0m\n\u001b[0;32m----> 1\u001b[0;31m \u001b[0mregr\u001b[0m\u001b[0;34m.\u001b[0m\u001b[0mfit\u001b[0m\u001b[0;34m(\u001b[0m\u001b[0mx_train\u001b[0m\u001b[0;34m,\u001b[0m\u001b[0my_train\u001b[0m\u001b[0;34m)\u001b[0m\u001b[0;34m\u001b[0m\u001b[0m\n\u001b[0m",
      "\u001b[0;32m/Users/ssing25/anaconda2/lib/python2.7/site-packages/sklearn/linear_model/base.pyc\u001b[0m in \u001b[0;36mfit\u001b[0;34m(self, X, y, n_jobs)\u001b[0m\n\u001b[1;32m    374\u001b[0m             \u001b[0mn_jobs_\u001b[0m \u001b[0;34m=\u001b[0m \u001b[0mself\u001b[0m\u001b[0;34m.\u001b[0m\u001b[0mn_jobs\u001b[0m\u001b[0;34m\u001b[0m\u001b[0m\n\u001b[1;32m    375\u001b[0m         X, y = check_X_y(X, y, accept_sparse=['csr', 'csc', 'coo'],\n\u001b[0;32m--> 376\u001b[0;31m                          y_numeric=True, multi_output=True)\n\u001b[0m\u001b[1;32m    377\u001b[0m \u001b[0;34m\u001b[0m\u001b[0m\n\u001b[1;32m    378\u001b[0m         X, y, X_mean, y_mean, X_std = self._center_data(\n",
      "\u001b[0;32m/Users/ssing25/anaconda2/lib/python2.7/site-packages/sklearn/utils/validation.pyc\u001b[0m in \u001b[0;36mcheck_X_y\u001b[0;34m(X, y, accept_sparse, dtype, order, copy, force_all_finite, ensure_2d, allow_nd, multi_output, ensure_min_samples, ensure_min_features, y_numeric)\u001b[0m\n\u001b[1;32m    445\u001b[0m     \u001b[0;32mif\u001b[0m \u001b[0mmulti_output\u001b[0m\u001b[0;34m:\u001b[0m\u001b[0;34m\u001b[0m\u001b[0m\n\u001b[1;32m    446\u001b[0m         y = check_array(y, 'csr', force_all_finite=True, ensure_2d=False,\n\u001b[0;32m--> 447\u001b[0;31m                         dtype=None)\n\u001b[0m\u001b[1;32m    448\u001b[0m     \u001b[0;32melse\u001b[0m\u001b[0;34m:\u001b[0m\u001b[0;34m\u001b[0m\u001b[0m\n\u001b[1;32m    449\u001b[0m         \u001b[0my\u001b[0m \u001b[0;34m=\u001b[0m \u001b[0mcolumn_or_1d\u001b[0m\u001b[0;34m(\u001b[0m\u001b[0my\u001b[0m\u001b[0;34m,\u001b[0m \u001b[0mwarn\u001b[0m\u001b[0;34m=\u001b[0m\u001b[0mTrue\u001b[0m\u001b[0;34m)\u001b[0m\u001b[0;34m\u001b[0m\u001b[0m\n",
      "\u001b[0;32m/Users/ssing25/anaconda2/lib/python2.7/site-packages/sklearn/utils/validation.pyc\u001b[0m in \u001b[0;36mcheck_array\u001b[0;34m(array, accept_sparse, dtype, order, copy, force_all_finite, ensure_2d, allow_nd, ensure_min_samples, ensure_min_features)\u001b[0m\n\u001b[1;32m    350\u001b[0m                              array.ndim)\n\u001b[1;32m    351\u001b[0m         \u001b[0;32mif\u001b[0m \u001b[0mforce_all_finite\u001b[0m\u001b[0;34m:\u001b[0m\u001b[0;34m\u001b[0m\u001b[0m\n\u001b[0;32m--> 352\u001b[0;31m             \u001b[0m_assert_all_finite\u001b[0m\u001b[0;34m(\u001b[0m\u001b[0marray\u001b[0m\u001b[0;34m)\u001b[0m\u001b[0;34m\u001b[0m\u001b[0m\n\u001b[0m\u001b[1;32m    353\u001b[0m \u001b[0;34m\u001b[0m\u001b[0m\n\u001b[1;32m    354\u001b[0m     \u001b[0mshape_repr\u001b[0m \u001b[0;34m=\u001b[0m \u001b[0m_shape_repr\u001b[0m\u001b[0;34m(\u001b[0m\u001b[0marray\u001b[0m\u001b[0;34m.\u001b[0m\u001b[0mshape\u001b[0m\u001b[0;34m)\u001b[0m\u001b[0;34m\u001b[0m\u001b[0m\n",
      "\u001b[0;32m/Users/ssing25/anaconda2/lib/python2.7/site-packages/sklearn/utils/validation.pyc\u001b[0m in \u001b[0;36m_assert_all_finite\u001b[0;34m(X)\u001b[0m\n\u001b[1;32m     50\u001b[0m             and not np.isfinite(X).all()):\n\u001b[1;32m     51\u001b[0m         raise ValueError(\"Input contains NaN, infinity\"\n\u001b[0;32m---> 52\u001b[0;31m                          \" or a value too large for %r.\" % X.dtype)\n\u001b[0m\u001b[1;32m     53\u001b[0m \u001b[0;34m\u001b[0m\u001b[0m\n\u001b[1;32m     54\u001b[0m \u001b[0;34m\u001b[0m\u001b[0m\n",
      "\u001b[0;31mValueError\u001b[0m: Input contains NaN, infinity or a value too large for dtype('float64')."
     ]
    }
   ],
   "source": [
    "regr.fit(x_train,y_train)"
   ]
  },
  {
   "cell_type": "code",
   "execution_count": null,
   "metadata": {
    "collapsed": true
   },
   "outputs": [],
   "source": [
    "regr."
   ]
  },
  {
   "cell_type": "code",
   "execution_count": null,
   "metadata": {
    "collapsed": true
   },
   "outputs": [],
   "source": []
  },
  {
   "cell_type": "code",
   "execution_count": 25,
   "metadata": {
    "collapsed": false
   },
   "outputs": [
    {
     "data": {
      "text/plain": [
       "<matplotlib.collections.PathCollection at 0x11571cf10>"
      ]
     },
     "execution_count": 25,
     "metadata": {},
     "output_type": "execute_result"
    },
    {
     "data": {
      "image/png": "[encoded data removed]",
      "text/plain": [
       "<matplotlib.figure.Figure at 0x112e72e10>"
      ]
     },
     "metadata": {},
     "output_type": "display_data"
    }
   ],
   "source": [
    "df3 = df[df['Molecule'] == 'Molecule3']\n",
    "#df3['Start_date'].hist(by=df['Winning_price_per_standard_unit'])\n",
    "plt.scatter(df3['Winning_price_per_standard_unit'],df3['Length_of_contract_in_Months'])"
   ]
  },
  {
   "cell_type": "code",
   "execution_count": 5,
   "metadata": {
    "collapsed": false
   },
   "outputs": [
    {
     "name": "stdout",
     "output_type": "stream",
     "text": [
      "<class 'pandas.core.frame.DataFrame'>\n",
      "Int64Index: 786 entries, 0 to 785\n",
      "Data columns (total 34 columns):\n",
      "ID                                                786 non-null int64\n",
      "Account                                           786 non-null object\n",
      "Province                                          786 non-null object\n",
      "Region                                            786 non-null object\n",
      "Tender_Type                                       786 non-null object\n",
      "Offer_date                                        786 non-null object\n",
      "Start_date                                        786 non-null object\n",
      "End_date_including_extension                      786 non-null object\n",
      "Length_of_contract_in_Months                      786 non-null int64\n",
      "Market                                            786 non-null object\n",
      "Tender_Standard_Unit_per_year                     786 non-null float64\n",
      "Winning_price_per_standard_unit                   745 non-null float64\n",
      "Molecule                                          786 non-null object\n",
      "Presentation                                      786 non-null object\n",
      "Winning_Product                                   747 non-null object\n",
      "Winning_Company                                   747 non-null object\n",
      "Competitor_with_2nd_Lowest_Price                  626 non-null object\n",
      "Competitor_2nd_Lowest_Price_per_standard_unit     621 non-null float64\n",
      "Competitor_with_3rd_Lowest_Price                  508 non-null object\n",
      "Competitor_3rd_Lowest_Price_per_standard_unit     493 non-null float64\n",
      "Competitor_with_4th_Lowest_Price                  402 non-null object\n",
      "Competitor_4th_Lowest_Price_per_standard_unit     382 non-null float64\n",
      "Competitor_with_5th_Lowest_Price                  277 non-null object\n",
      "Competitor_5th_Lowest_Price_per_standard_unit     263 non-null float64\n",
      "Competitor_with_6th_Lowest_Price                  165 non-null object\n",
      "Competitor_6th_Lowest_Price_per_standard_unit     155 non-null float64\n",
      "Competitor_with_7th_Lowest_Price                  88 non-null object\n",
      "Competitor_7th_Lowest_Price_per_standard_unit     81 non-null float64\n",
      "Competitor_with_8th_Lowest_Price                  34 non-null object\n",
      "Competitor_8th_Lowest_Price_per_standard_unit     31 non-null float64\n",
      "Competitor_with_9th_Lowest_Price                  10 non-null object\n",
      "Competitor_9th_Lowest_Price_per_standard_unit     9 non-null float64\n",
      "Competitor_with_10th_Lowest_Price                 2 non-null object\n",
      "Competitor_10th_Lowest_Price_per_standard_unit    2 non-null float64\n",
      "dtypes: float64(11), int64(2), object(21)\n",
      "memory usage: 214.9+ KB\n"
     ]
    }
   ],
   "source": [
    "df.info()"
   ]
  },
  {
   "cell_type": "code",
   "execution_count": 4,
   "metadata": {
    "collapsed": false
   },
   "outputs": [
    {
     "data": {
      "text/plain": [
       "Index([u'ID', u'Account', u'Province', u'Region', u'Tender_Type',\n",
       "       u'Offer_date', u'Start_date', u'End_date_including_extension',\n",
       "       u'Length_of_contract_in_Months', u'Market',\n",
       "       u'Tender_Standard_Unit_per_year', u'Winning_price_per_standard_unit',\n",
       "       u'Molecule', u'Presentation', u'Winning_Product', u'Winning_Company',\n",
       "       u'Competitor_with_2nd_Lowest_Price',\n",
       "       u'Competitor_2nd_Lowest_Price_per_standard_unit',\n",
       "       u'Competitor_with_3rd_Lowest_Price',\n",
       "       u'Competitor_3rd_Lowest_Price_per_standard_unit',\n",
       "       u'Competitor_with_4th_Lowest_Price',\n",
       "       u'Competitor_4th_Lowest_Price_per_standard_unit',\n",
       "       u'Competitor_with_5th_Lowest_Price',\n",
       "       u'Competitor_5th_Lowest_Price_per_standard_unit',\n",
       "       u'Competitor_with_6th_Lowest_Price',\n",
       "       u'Competitor_6th_Lowest_Price_per_standard_unit',\n",
       "       u'Competitor_with_7th_Lowest_Price',\n",
       "       u'Competitor_7th_Lowest_Price_per_standard_unit',\n",
       "       u'Competitor_with_8th_Lowest_Price',\n",
       "       u'Competitor_8th_Lowest_Price_per_standard_unit',\n",
       "       u'Competitor_with_9th_Lowest_Price',\n",
       "       u'Competitor_9th_Lowest_Price_per_standard_unit',\n",
       "       u'Competitor_with_10th_Lowest_Price',\n",
       "       u'Competitor_10th_Lowest_Price_per_standard_unit'],\n",
       "      dtype='object')"
      ]
     },
     "execution_count": 4,
     "metadata": {},
     "output_type": "execute_result"
    }
   ],
   "source": [
    "df.columns"
   ]
  },
  {
   "cell_type": "code",
   "execution_count": 16,
   "metadata": {
    "collapsed": true
   },
   "outputs": [],
   "source": []
  },
  {
   "cell_type": "code",
   "execution_count": 18,
   "metadata": {
    "collapsed": false
   },
   "outputs": [
    {
     "name": "stderr",
     "output_type": "stream",
     "text": [
      "/Users/ssing25/anaconda2/lib/python2.7/site-packages/ipykernel/__main__.py:1: SettingWithCopyWarning: \n",
      "A value is trying to be set on a copy of a slice from a DataFrame\n",
      "\n",
      "See the caveats in the documentation: http://pandas.pydata.org/pandas-docs/stable/indexing.html#indexing-view-versus-copy\n",
      "  if __name__ == '__main__':\n"
     ]
    }
   ],
   "source": [
    "df1['Length_of_contract_in_Months']=df['Length_of_contract_in_Months']"
   ]
  },
  {
   "cell_type": "code",
   "execution_count": 19,
   "metadata": {
    "collapsed": false
   },
   "outputs": [
    {
     "data": {
      "text/plain": [
       "0                                                                    Tender Type1\n",
       "1                                                                    Tender Type1\n",
       "2                                                                    Tender Type1\n",
       "3                                                                    Tender Type1\n",
       "4                                                                    Tender Type1\n",
       "5                                                                    Tender Type1\n",
       "6                                                                    Tender Type1\n",
       "7                                                                    Tender Type1\n",
       "8                                                                    Tender Type1\n",
       "9                                                                    Tender Type1\n",
       "10                                                                   Tender Type1\n",
       "11                                                                   Tender Type1\n",
       "12                                                                   Tender Type3\n",
       "13                                                                   Tender Type1\n",
       "14                                                                   Tender Type4\n",
       "15                                                                   Tender Type3\n",
       "16                                                                   Tender Type3\n",
       "17                                                                   Tender Type4\n",
       "18                                                                   Tender Type1\n",
       "19                                                                   Tender Type1\n",
       "20                                                                   Tender Type1\n",
       "21                                                                   Tender Type4\n",
       "22                                                                   Tender Type1\n",
       "23                                                                   Tender Type1\n",
       "24                                                                   Tender Type1\n",
       "25                                                                   Tender Type1\n",
       "26                                                                   Tender Type1\n",
       "27                                                                   Tender Type1\n",
       "28                                                                   Tender Type1\n",
       "29                                                                   Tender Type1\n",
       "                                                      ...                        \n",
       "757                                                                  Tender Type3\n",
       "758                                                                  Tender Type3\n",
       "759                                                                  Tender Type3\n",
       "760                                                                  Tender Type3\n",
       "761                                                                  Tender Type3\n",
       "762                                                                  Tender Type3\n",
       "763                                                                  Tender Type1\n",
       "764                                                                  Tender Type1\n",
       "765                                                                  Tender Type1\n",
       "766                                                                  Tender Type3\n",
       "767                                                                  Tender Type4\n",
       "768                                                                  Tender Type1\n",
       "769                                                                  Tender Type3\n",
       "770                                                                  Tender Type3\n",
       "771                                                                  Tender Type3\n",
       "772                                                                  Tender Type3\n",
       "773                                                                  Tender Type3\n",
       "774                                                                  Tender Type1\n",
       "775                                                                  Tender Type1\n",
       "776                                                                  Tender Type3\n",
       "777                                                                  Tender Type3\n",
       "778                                                                  Tender Type1\n",
       "779                                                                  Tender Type3\n",
       "780                                                                  Tender Type3\n",
       "781                                                                  Tender Type3\n",
       "782                                                                  Tender Type1\n",
       "783                                                                  Tender Type3\n",
       "784                                                                  Tender Type1\n",
       "785                                                                  Tender Type3\n",
       "Length_of_contract_in_Months    0      36\n",
       "1      20\n",
       "2      24\n",
       "3      24\n",
       "4     ...\n",
       "Name: Tender_Type, dtype: object"
      ]
     },
     "execution_count": 19,
     "metadata": {},
     "output_type": "execute_result"
    }
   ],
   "source": [
    "df1"
   ]
  },
  {
   "cell_type": "code",
   "execution_count": null,
   "metadata": {
    "collapsed": true
   },
   "outputs": [],
   "source": []
  },
  {
   "cell_type": "code",
   "execution_count": null,
   "metadata": {
    "collapsed": true
   },
   "outputs": [],
   "source": []
  }
 ],
 "metadata": {
  "kernelspec": {
   "display_name": "Python 2",
   "language": "python",
   "name": "python2"
  },
  "language_info": {
   "codemirror_mode": {
    "name": "ipython",
    "version": 2
   },
   "file_extension": ".py",
   "mimetype": "text/x-python",
   "name": "python",
   "nbconvert_exporter": "python",
   "pygments_lexer": "ipython2",
   "version": "2.7.10"
  }
 },
 "nbformat": 4,
 "nbformat_minor": 0
}
