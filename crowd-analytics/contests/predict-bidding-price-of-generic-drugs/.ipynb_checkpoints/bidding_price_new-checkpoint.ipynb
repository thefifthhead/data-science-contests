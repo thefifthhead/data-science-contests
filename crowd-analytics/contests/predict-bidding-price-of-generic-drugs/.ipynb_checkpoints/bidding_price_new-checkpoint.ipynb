{
 "cells": [
  {
   "cell_type": "code",
   "execution_count": 183,
   "metadata": {
    "collapsed": false
   },
   "outputs": [],
   "source": [
    "import pandas as pd\n",
    "import numpy as np\n",
    "import math\n",
    "import graphlab as gl\n",
    "from sklearn import linear_model\n",
    "from sklearn.cross_validation import train_test_split\n",
    "from sklearn.metrics import mean_squared_error\n",
    "import matplotlib.pyplot as plt\n",
    "from datetime import datetime\n",
    "from sklearn.ensemble import RandomForestRegressor\n",
    "from sklearn.svm import SVR\n",
    "import csv\n",
    "%matplotlib inline"
   ]
  },
  {
   "cell_type": "code",
   "execution_count": 184,
   "metadata": {
    "collapsed": false
   },
   "outputs": [],
   "source": [
    "df=pd.read_csv('data/CAX_Bidding_TRAIN_Molecule_3_4_5.csv')\n",
    "df['Start_date'] = pd.to_datetime(df['Start_date'])"
   ]
  },
  {
   "cell_type": "code",
   "execution_count": 185,
   "metadata": {
    "collapsed": false
   },
   "outputs": [],
   "source": [
    "def agg_competitor(data, index_start, index_end, skip):\n",
    "    copy = data.copy()\n",
    "    copy['Competitor'] = copy.iloc[:,1].map(lambda x: 0)\n",
    "    i=index_start\n",
    "    while i < index_end:\n",
    "        copy.ix[:,i] = ~copy.ix[:,i].isnull()*1\n",
    "        copy['Competitor'] = copy.iloc[:,i] + copy['Competitor']\n",
    "        i=i+skip\n",
    "    return copy['Competitor']\n",
    "\n",
    "def max_price_per_presentation(data):\n",
    "    return data['Winning_price_per_standard_unit'].max()\n",
    "\n",
    "def days_since_loe(molecule_name, start_date):\n",
    "    if molecule_name =='Molecule3':\n",
    "        return (start_date - datetime(2009,1,31,0,0,0)).days\n",
    "    else:\n",
    "        return (start_date - datetime(2011,1,31,0,0,0)).days\n"
   ]
  },
  {
   "cell_type": "code",
   "execution_count": 186,
   "metadata": {
    "collapsed": false
   },
   "outputs": [
    {
     "data": {
      "text/plain": [
       "24.87"
      ]
     },
     "execution_count": 186,
     "metadata": {},
     "output_type": "execute_result"
    }
   ],
   "source": [
    "df['Competitor'] = agg_competitor(df, 16, 34, 2)\n",
    "col=['Molecule','Winning_price_per_standard_unit','Province','Region','Tender_Type', 'Length_of_contract_in_Months', 'Presentation', 'Start_date', 'Competitor']\n",
    "df2 = df[col]\n",
    "df2.dropna()\n",
    "max_price_per_presentation(df2)"
   ]
  },
  {
   "cell_type": "code",
   "execution_count": null,
   "metadata": {
    "collapsed": true
   },
   "outputs": [],
   "source": [
    "df2['Tenure'] = df2.apply(lambda row: days_since_loe(row['Molecule'], row['Start_date']), axis=1)"
   ]
  },
  {
   "cell_type": "code",
   "execution_count": null,
   "metadata": {
    "collapsed": true
   },
   "outputs": [],
   "source": []
  }
 ],
 "metadata": {
  "kernelspec": {
   "display_name": "Python 2",
   "language": "python",
   "name": "python2"
  },
  "language_info": {
   "codemirror_mode": {
    "name": "ipython",
    "version": 2
   },
   "file_extension": ".py",
   "mimetype": "text/x-python",
   "name": "python",
   "nbconvert_exporter": "python",
   "pygments_lexer": "ipython2",
   "version": "2.7.11"
  }
 },
 "nbformat": 4,
 "nbformat_minor": 0
}
