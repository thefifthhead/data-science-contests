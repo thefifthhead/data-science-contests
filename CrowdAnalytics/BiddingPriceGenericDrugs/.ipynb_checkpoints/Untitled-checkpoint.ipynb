{
 "cells": [
  {
   "cell_type": "code",
   "execution_count": 81,
   "metadata": {
    "collapsed": false
   },
   "outputs": [],
   "source": [
    "import pandas as pd\n",
    "import graphlab as gl\n",
    "from sklearn import linear_model\n",
    "from sklearn.cross_validation import train_test_split\n",
    "from sklearn.metrics import mean_squared_error\n",
    "import matplotlib.pyplot as plt\n",
    "%matplotlib inline"
   ]
  },
  {
   "cell_type": "code",
   "execution_count": 3,
   "metadata": {
    "collapsed": false
   },
   "outputs": [],
   "source": [
    "df=pd.read_csv('data/CAX_Bidding_TRAIN_Molecule_3_4_5.csv')"
   ]
  },
  {
   "cell_type": "code",
   "execution_count": 84,
   "metadata": {
    "collapsed": true
   },
   "outputs": [],
   "source": [
    "test=pd.get_dummies(df)"
   ]
  },
  {
   "cell_type": "code",
   "execution_count": null,
   "metadata": {
    "collapsed": true
   },
   "outputs": [],
   "source": []
  },
  {
   "cell_type": "code",
   "execution_count": 41,
   "metadata": {
    "collapsed": false
   },
   "outputs": [
    {
     "data": {
      "text/html": [
       "<div>\n",
       "<table border=\"1\" class=\"dataframe\">\n",
       "  <thead>\n",
       "    <tr style=\"text-align: right;\">\n",
       "      <th></th>\n",
       "      <th>ID</th>\n",
       "      <th>Account</th>\n",
       "      <th>Province</th>\n",
       "      <th>Region</th>\n",
       "      <th>Tender_Type</th>\n",
       "      <th>Offer_date</th>\n",
       "      <th>Start_date</th>\n",
       "      <th>End_date_including_extension</th>\n",
       "      <th>Length_of_contract_in_Months</th>\n",
       "      <th>Market</th>\n",
       "      <th>...</th>\n",
       "      <th>Competitor_with_6th_Lowest_Price</th>\n",
       "      <th>Competitor_6th_Lowest_Price_per_standard_unit</th>\n",
       "      <th>Competitor_with_7th_Lowest_Price</th>\n",
       "      <th>Competitor_7th_Lowest_Price_per_standard_unit</th>\n",
       "      <th>Competitor_with_8th_Lowest_Price</th>\n",
       "      <th>Competitor_8th_Lowest_Price_per_standard_unit</th>\n",
       "      <th>Competitor_with_9th_Lowest_Price</th>\n",
       "      <th>Competitor_9th_Lowest_Price_per_standard_unit</th>\n",
       "      <th>Competitor_with_10th_Lowest_Price</th>\n",
       "      <th>Competitor_10th_Lowest_Price_per_standard_unit</th>\n",
       "    </tr>\n",
       "  </thead>\n",
       "  <tbody>\n",
       "    <tr>\n",
       "      <th>0</th>\n",
       "      <td>226</td>\n",
       "      <td>Account95</td>\n",
       "      <td>Provice21</td>\n",
       "      <td>Region6</td>\n",
       "      <td>Tender Type1</td>\n",
       "      <td>10-03-2008 12:00</td>\n",
       "      <td>01-01-2009</td>\n",
       "      <td>31-12-2014</td>\n",
       "      <td>36</td>\n",
       "      <td>Market3</td>\n",
       "      <td>...</td>\n",
       "      <td>NaN</td>\n",
       "      <td>NaN</td>\n",
       "      <td>NaN</td>\n",
       "      <td>NaN</td>\n",
       "      <td>NaN</td>\n",
       "      <td>NaN</td>\n",
       "      <td>NaN</td>\n",
       "      <td>NaN</td>\n",
       "      <td>NaN</td>\n",
       "      <td>NaN</td>\n",
       "    </tr>\n",
       "    <tr>\n",
       "      <th>1</th>\n",
       "      <td>227</td>\n",
       "      <td>Account95</td>\n",
       "      <td>Provice21</td>\n",
       "      <td>Region6</td>\n",
       "      <td>Tender Type1</td>\n",
       "      <td>4-13-10 12:00 PM</td>\n",
       "      <td>01-05-2010</td>\n",
       "      <td>30-09-2013</td>\n",
       "      <td>20</td>\n",
       "      <td>Market3</td>\n",
       "      <td>...</td>\n",
       "      <td>Company5</td>\n",
       "      <td>3.0</td>\n",
       "      <td>NaN</td>\n",
       "      <td>NaN</td>\n",
       "      <td>NaN</td>\n",
       "      <td>NaN</td>\n",
       "      <td>NaN</td>\n",
       "      <td>NaN</td>\n",
       "      <td>NaN</td>\n",
       "      <td>NaN</td>\n",
       "    </tr>\n",
       "    <tr>\n",
       "      <th>2</th>\n",
       "      <td>232</td>\n",
       "      <td>Account111</td>\n",
       "      <td>Provice15</td>\n",
       "      <td>Region13</td>\n",
       "      <td>Tender Type1</td>\n",
       "      <td>04-12-2010 12:00</td>\n",
       "      <td>01-05-2010</td>\n",
       "      <td>30-06-2012</td>\n",
       "      <td>24</td>\n",
       "      <td>Market3</td>\n",
       "      <td>...</td>\n",
       "      <td>NaN</td>\n",
       "      <td>NaN</td>\n",
       "      <td>NaN</td>\n",
       "      <td>NaN</td>\n",
       "      <td>NaN</td>\n",
       "      <td>NaN</td>\n",
       "      <td>NaN</td>\n",
       "      <td>NaN</td>\n",
       "      <td>NaN</td>\n",
       "      <td>NaN</td>\n",
       "    </tr>\n",
       "    <tr>\n",
       "      <th>3</th>\n",
       "      <td>240</td>\n",
       "      <td>Account91</td>\n",
       "      <td>Provice10</td>\n",
       "      <td>Region9</td>\n",
       "      <td>Tender Type1</td>\n",
       "      <td>05-10-2010 00:00</td>\n",
       "      <td>01-07-2010</td>\n",
       "      <td>30-09-2012</td>\n",
       "      <td>24</td>\n",
       "      <td>Market3</td>\n",
       "      <td>...</td>\n",
       "      <td>Company5</td>\n",
       "      <td>4.2</td>\n",
       "      <td>NaN</td>\n",
       "      <td>NaN</td>\n",
       "      <td>NaN</td>\n",
       "      <td>NaN</td>\n",
       "      <td>NaN</td>\n",
       "      <td>NaN</td>\n",
       "      <td>NaN</td>\n",
       "      <td>NaN</td>\n",
       "    </tr>\n",
       "    <tr>\n",
       "      <th>4</th>\n",
       "      <td>242</td>\n",
       "      <td>Account51</td>\n",
       "      <td>Provice32</td>\n",
       "      <td>Region7</td>\n",
       "      <td>Tender Type1</td>\n",
       "      <td>5-19-10 12:00 PM</td>\n",
       "      <td>01-08-2010</td>\n",
       "      <td>31-05-2012</td>\n",
       "      <td>12</td>\n",
       "      <td>Market3</td>\n",
       "      <td>...</td>\n",
       "      <td>NaN</td>\n",
       "      <td>NaN</td>\n",
       "      <td>NaN</td>\n",
       "      <td>NaN</td>\n",
       "      <td>NaN</td>\n",
       "      <td>NaN</td>\n",
       "      <td>NaN</td>\n",
       "      <td>NaN</td>\n",
       "      <td>NaN</td>\n",
       "      <td>NaN</td>\n",
       "    </tr>\n",
       "  </tbody>\n",
       "</table>\n",
       "<p>5 rows × 34 columns</p>\n",
       "</div>"
      ],
      "text/plain": [
       "    ID     Account   Province    Region   Tender_Type        Offer_date  \\\n",
       "0  226   Account95  Provice21   Region6  Tender Type1  10-03-2008 12:00   \n",
       "1  227   Account95  Provice21   Region6  Tender Type1  4-13-10 12:00 PM   \n",
       "2  232  Account111  Provice15  Region13  Tender Type1  04-12-2010 12:00   \n",
       "3  240   Account91  Provice10   Region9  Tender Type1  05-10-2010 00:00   \n",
       "4  242   Account51  Provice32   Region7  Tender Type1  5-19-10 12:00 PM   \n",
       "\n",
       "   Start_date End_date_including_extension  Length_of_contract_in_Months  \\\n",
       "0  01-01-2009                   31-12-2014                            36   \n",
       "1  01-05-2010                   30-09-2013                            20   \n",
       "2  01-05-2010                   30-06-2012                            24   \n",
       "3  01-07-2010                   30-09-2012                            24   \n",
       "4  01-08-2010                   31-05-2012                            12   \n",
       "\n",
       "    Market                       ...                        \\\n",
       "0  Market3                       ...                         \n",
       "1  Market3                       ...                         \n",
       "2  Market3                       ...                         \n",
       "3  Market3                       ...                         \n",
       "4  Market3                       ...                         \n",
       "\n",
       "   Competitor_with_6th_Lowest_Price  \\\n",
       "0                               NaN   \n",
       "1                          Company5   \n",
       "2                               NaN   \n",
       "3                          Company5   \n",
       "4                               NaN   \n",
       "\n",
       "   Competitor_6th_Lowest_Price_per_standard_unit  \\\n",
       "0                                            NaN   \n",
       "1                                            3.0   \n",
       "2                                            NaN   \n",
       "3                                            4.2   \n",
       "4                                            NaN   \n",
       "\n",
       "  Competitor_with_7th_Lowest_Price  \\\n",
       "0                              NaN   \n",
       "1                              NaN   \n",
       "2                              NaN   \n",
       "3                              NaN   \n",
       "4                              NaN   \n",
       "\n",
       "  Competitor_7th_Lowest_Price_per_standard_unit  \\\n",
       "0                                           NaN   \n",
       "1                                           NaN   \n",
       "2                                           NaN   \n",
       "3                                           NaN   \n",
       "4                                           NaN   \n",
       "\n",
       "  Competitor_with_8th_Lowest_Price  \\\n",
       "0                              NaN   \n",
       "1                              NaN   \n",
       "2                              NaN   \n",
       "3                              NaN   \n",
       "4                              NaN   \n",
       "\n",
       "  Competitor_8th_Lowest_Price_per_standard_unit  \\\n",
       "0                                           NaN   \n",
       "1                                           NaN   \n",
       "2                                           NaN   \n",
       "3                                           NaN   \n",
       "4                                           NaN   \n",
       "\n",
       "  Competitor_with_9th_Lowest_Price  \\\n",
       "0                              NaN   \n",
       "1                              NaN   \n",
       "2                              NaN   \n",
       "3                              NaN   \n",
       "4                              NaN   \n",
       "\n",
       "   Competitor_9th_Lowest_Price_per_standard_unit  \\\n",
       "0                                            NaN   \n",
       "1                                            NaN   \n",
       "2                                            NaN   \n",
       "3                                            NaN   \n",
       "4                                            NaN   \n",
       "\n",
       "  Competitor_with_10th_Lowest_Price  \\\n",
       "0                               NaN   \n",
       "1                               NaN   \n",
       "2                               NaN   \n",
       "3                               NaN   \n",
       "4                               NaN   \n",
       "\n",
       "   Competitor_10th_Lowest_Price_per_standard_unit  \n",
       "0                                             NaN  \n",
       "1                                             NaN  \n",
       "2                                             NaN  \n",
       "3                                             NaN  \n",
       "4                                             NaN  \n",
       "\n",
       "[5 rows x 34 columns]"
      ]
     },
     "execution_count": 41,
     "metadata": {},
     "output_type": "execute_result"
    }
   ],
   "source": [
    "df.head()"
   ]
  },
  {
   "cell_type": "code",
   "execution_count": 11,
   "metadata": {
    "collapsed": true
   },
   "outputs": [],
   "source": [
    "col=['ID','Length_of_contract_in_Months','Tender_Standard_Unit_per_year','Winning_price_per_standard_unit']"
   ]
  },
  {
   "cell_type": "code",
   "execution_count": 12,
   "metadata": {
    "collapsed": true
   },
   "outputs": [],
   "source": [
    "df1=df[col]"
   ]
  },
  {
   "cell_type": "code",
   "execution_count": 39,
   "metadata": {
    "collapsed": false
   },
   "outputs": [
    {
     "name": "stdout",
     "output_type": "stream",
     "text": [
      "<class 'pandas.core.frame.DataFrame'>\n",
      "Int64Index: 786 entries, 0 to 785\n",
      "Data columns (total 4 columns):\n",
      "ID                                 786 non-null int64\n",
      "Length_of_contract_in_Months       786 non-null int64\n",
      "Tender_Standard_Unit_per_year      786 non-null float64\n",
      "Winning_price_per_standard_unit    745 non-null float64\n",
      "dtypes: float64(2), int64(2)\n",
      "memory usage: 30.7 KB\n"
     ]
    }
   ],
   "source": [
    "df1.info()"
   ]
  },
  {
   "cell_type": "code",
   "execution_count": 51,
   "metadata": {
    "collapsed": false
   },
   "outputs": [],
   "source": [
    "df2=df1.dropna()"
   ]
  },
  {
   "cell_type": "code",
   "execution_count": 52,
   "metadata": {
    "collapsed": false
   },
   "outputs": [
    {
     "data": {
      "text/html": [
       "<div>\n",
       "<table border=\"1\" class=\"dataframe\">\n",
       "  <thead>\n",
       "    <tr style=\"text-align: right;\">\n",
       "      <th></th>\n",
       "      <th>ID</th>\n",
       "      <th>Length_of_contract_in_Months</th>\n",
       "      <th>Tender_Standard_Unit_per_year</th>\n",
       "      <th>Winning_price_per_standard_unit</th>\n",
       "    </tr>\n",
       "  </thead>\n",
       "  <tbody>\n",
       "    <tr>\n",
       "      <th>0</th>\n",
       "      <td>226</td>\n",
       "      <td>36</td>\n",
       "      <td>69673</td>\n",
       "      <td>1.56353</td>\n",
       "    </tr>\n",
       "    <tr>\n",
       "      <th>1</th>\n",
       "      <td>227</td>\n",
       "      <td>20</td>\n",
       "      <td>56966</td>\n",
       "      <td>1.56353</td>\n",
       "    </tr>\n",
       "    <tr>\n",
       "      <th>2</th>\n",
       "      <td>232</td>\n",
       "      <td>24</td>\n",
       "      <td>211912</td>\n",
       "      <td>1.77000</td>\n",
       "    </tr>\n",
       "    <tr>\n",
       "      <th>3</th>\n",
       "      <td>240</td>\n",
       "      <td>24</td>\n",
       "      <td>26050</td>\n",
       "      <td>1.77000</td>\n",
       "    </tr>\n",
       "    <tr>\n",
       "      <th>4</th>\n",
       "      <td>242</td>\n",
       "      <td>12</td>\n",
       "      <td>192786</td>\n",
       "      <td>1.50000</td>\n",
       "    </tr>\n",
       "  </tbody>\n",
       "</table>\n",
       "</div>"
      ],
      "text/plain": [
       "    ID  Length_of_contract_in_Months  Tender_Standard_Unit_per_year  \\\n",
       "0  226                            36                          69673   \n",
       "1  227                            20                          56966   \n",
       "2  232                            24                         211912   \n",
       "3  240                            24                          26050   \n",
       "4  242                            12                         192786   \n",
       "\n",
       "   Winning_price_per_standard_unit  \n",
       "0                          1.56353  \n",
       "1                          1.56353  \n",
       "2                          1.77000  \n",
       "3                          1.77000  \n",
       "4                          1.50000  "
      ]
     },
     "execution_count": 52,
     "metadata": {},
     "output_type": "execute_result"
    }
   ],
   "source": [
    "df2.head()"
   ]
  },
  {
   "cell_type": "code",
   "execution_count": 53,
   "metadata": {
    "collapsed": false
   },
   "outputs": [],
   "source": [
    "y=df2.as_matrix()[:,-1]"
   ]
  },
  {
   "cell_type": "code",
   "execution_count": 56,
   "metadata": {
    "collapsed": false
   },
   "outputs": [
    {
     "data": {
      "text/plain": [
       "(745,)"
      ]
     },
     "execution_count": 56,
     "metadata": {},
     "output_type": "execute_result"
    }
   ],
   "source": [
    "y.shape"
   ]
  },
  {
   "cell_type": "code",
   "execution_count": 61,
   "metadata": {
    "collapsed": false
   },
   "outputs": [],
   "source": [
    "X=df2.as_matrix()[:,1:3]"
   ]
  },
  {
   "cell_type": "code",
   "execution_count": 55,
   "metadata": {
    "collapsed": false
   },
   "outputs": [
    {
     "data": {
      "text/plain": [
       "(745,)"
      ]
     },
     "execution_count": 55,
     "metadata": {},
     "output_type": "execute_result"
    }
   ],
   "source": [
    "X.shape"
   ]
  },
  {
   "cell_type": "code",
   "execution_count": 62,
   "metadata": {
    "collapsed": true
   },
   "outputs": [],
   "source": [
    "X_train,X_test,y_train,y_test=train_test_split(X,y)"
   ]
  },
  {
   "cell_type": "code",
   "execution_count": null,
   "metadata": {
    "collapsed": false
   },
   "outputs": [],
   "source": []
  },
  {
   "cell_type": "code",
   "execution_count": 63,
   "metadata": {
    "collapsed": true
   },
   "outputs": [],
   "source": [
    "reg=linear_model.LinearRegression()"
   ]
  },
  {
   "cell_type": "code",
   "execution_count": 64,
   "metadata": {
    "collapsed": false
   },
   "outputs": [
    {
     "data": {
      "text/plain": [
       "LinearRegression(copy_X=True, fit_intercept=True, n_jobs=1, normalize=False)"
      ]
     },
     "execution_count": 64,
     "metadata": {},
     "output_type": "execute_result"
    }
   ],
   "source": [
    "reg.fit(X_train,y_train)"
   ]
  },
  {
   "cell_type": "code",
   "execution_count": 65,
   "metadata": {
    "collapsed": false
   },
   "outputs": [
    {
     "data": {
      "text/plain": [
       "0.024431241295536754"
      ]
     },
     "execution_count": 65,
     "metadata": {},
     "output_type": "execute_result"
    }
   ],
   "source": [
    "reg.score(X_test,y_test)"
   ]
  },
  {
   "cell_type": "code",
   "execution_count": 66,
   "metadata": {
    "collapsed": false
   },
   "outputs": [],
   "source": [
    "y_pred=reg.predict(X_test)"
   ]
  },
  {
   "cell_type": "code",
   "execution_count": 83,
   "metadata": {
    "collapsed": false
   },
   "outputs": [],
   "source": [
    "#plt.scatter(y_pred,y_test)"
   ]
  },
  {
   "cell_type": "code",
   "execution_count": 67,
   "metadata": {
    "collapsed": false
   },
   "outputs": [
    {
     "data": {
      "text/plain": [
       "18.47698535629441"
      ]
     },
     "execution_count": 67,
     "metadata": {},
     "output_type": "execute_result"
    }
   ],
   "source": [
    "mean_squared_error(y_test,y_pred)"
   ]
  },
  {
   "cell_type": "code",
   "execution_count": 42,
   "metadata": {
    "collapsed": false
   },
   "outputs": [
    {
     "data": {
      "text/plain": [
       "array([  3.47973696e-02,  -1.45527817e-06])"
      ]
     },
     "execution_count": 42,
     "metadata": {},
     "output_type": "execute_result"
    }
   ],
   "source": [
    "reg.coef_"
   ]
  },
  {
   "cell_type": "code",
   "execution_count": 68,
   "metadata": {
    "collapsed": false
   },
   "outputs": [],
   "source": [
    "data=gl.SFrame(df2)"
   ]
  },
  {
   "cell_type": "code",
   "execution_count": 71,
   "metadata": {
    "collapsed": false
   },
   "outputs": [
    {
     "data": {
      "text/plain": [
       "<bound method SFrame.column_names of Columns:\n",
       "\tID\tint\n",
       "\tLength_of_contract_in_Months\tint\n",
       "\tTender_Standard_Unit_per_year\tfloat\n",
       "\tWinning_price_per_standard_unit\tfloat\n",
       "\n",
       "Rows: 745\n",
       "\n",
       "Data:\n",
       "+-----+------------------------------+-------------------------------+-------------------------------+\n",
       "|  ID | Length_of_contract_in_Months | Tender_Standard_Unit_per_year | Winning_price_per_standard... |\n",
       "+-----+------------------------------+-------------------------------+-------------------------------+\n",
       "| 226 |              36              |            69673.0            |            1.56353            |\n",
       "| 227 |              20              |            56966.0            |            1.56353            |\n",
       "| 232 |              24              |            211912.0           |              1.77             |\n",
       "| 240 |              24              |            26050.0            |              1.77             |\n",
       "| 242 |              12              |            192786.0           |              1.5              |\n",
       "| 247 |              36              |            93142.0            |              1.45             |\n",
       "| 249 |              12              |           1000500.0           |             1.812             |\n",
       "| 256 |              24              |            150000.0           |              1.31             |\n",
       "| 264 |              36              |             3000.0            |            1.29485            |\n",
       "| 269 |              36              |            30000.0            |              1.54             |\n",
       "+-----+------------------------------+-------------------------------+-------------------------------+\n",
       "[745 rows x 4 columns]\n",
       "Note: Only the head of the SFrame is printed.\n",
       "You can use print_rows(num_rows=m, num_columns=n) to print more rows and columns.>"
      ]
     },
     "execution_count": 71,
     "metadata": {},
     "output_type": "execute_result"
    }
   ],
   "source": [
    "data.column_names"
   ]
  },
  {
   "cell_type": "code",
   "execution_count": 76,
   "metadata": {
    "collapsed": true
   },
   "outputs": [],
   "source": [
    "feat=['Length_of_contract_in_Months']"
   ]
  },
  {
   "cell_type": "code",
   "execution_count": null,
   "metadata": {
    "collapsed": true
   },
   "outputs": [],
   "source": [
    "gl.linear_regression.create??"
   ]
  },
  {
   "cell_type": "code",
   "execution_count": 78,
   "metadata": {
    "collapsed": false
   },
   "outputs": [
    {
     "name": "stdout",
     "output_type": "stream",
     "text": [
      "PROGRESS: Creating a validation set from 5 percent of training data. This may take a while.\n",
      "          You can set ``validation_set=None`` to disable validation tracking.\n",
      "\n",
      "PROGRESS: Linear regression:\n",
      "PROGRESS: --------------------------------------------------------\n",
      "PROGRESS: Number of examples          : 705\n",
      "PROGRESS: Number of features          : 1\n",
      "PROGRESS: Number of unpacked features : 1\n",
      "PROGRESS: Number of coefficients    : 2\n",
      "PROGRESS: Starting Newton Method\n",
      "PROGRESS: --------------------------------------------------------\n",
      "PROGRESS: +-----------+----------+--------------+--------------------+----------------------+---------------+-----------------+\n",
      "PROGRESS: | Iteration | Passes   | Elapsed Time | Training-max_error | Validation-max_error | Training-rmse | Validation-rmse |\n",
      "PROGRESS: +-----------+----------+--------------+--------------------+----------------------+---------------+-----------------+\n",
      "PROGRESS: | 1         | 2        | 0.001240     | 22.355732          | 17.901177            | 3.561567      | 3.206714        |\n",
      "PROGRESS: +-----------+----------+--------------+--------------------+----------------------+---------------+-----------------+\n"
     ]
    }
   ],
   "source": [
    "model=gl.linear_regression.create(data,target='Winning_price_per_standard_unit',features=feat,validation_set='auto')"
   ]
  },
  {
   "cell_type": "code",
   "execution_count": 80,
   "metadata": {
    "collapsed": false
   },
   "outputs": [
    {
     "name": "stdout",
     "output_type": "stream",
     "text": [
      "Canvas is accessible via web browser at the URL: http://localhost:43902/index.html\n",
      "Opening Canvas in default web browser.\n"
     ]
    }
   ],
   "source": [
    "model.show()"
   ]
  },
  {
   "cell_type": "code",
   "execution_count": null,
   "metadata": {
    "collapsed": true
   },
   "outputs": [],
   "source": []
  }
 ],
 "metadata": {
  "kernelspec": {
   "display_name": "Python 2",
   "language": "python",
   "name": "python2"
  },
  "language_info": {
   "codemirror_mode": {
    "name": "ipython",
    "version": 2
   },
   "file_extension": ".py",
   "mimetype": "text/x-python",
   "name": "python",
   "nbconvert_exporter": "python",
   "pygments_lexer": "ipython2",
   "version": "2.7.10"
  }
 },
 "nbformat": 4,
 "nbformat_minor": 0
}
