{
 "cells": [
  {
   "cell_type": "code",
   "execution_count": 39,
   "metadata": {
    "collapsed": false
   },
   "outputs": [],
   "source": [
    "import pandas as pd\n",
    "import graphlab as gl\n",
    "from sklearn import linear_model\n",
    "from sklearn.cross_validation import train_test_split\n",
    "from sklearn.metrics import mean_squared_error\n",
    "import matplotlib.pyplot as plt\n",
    "from datetime import datetime\n",
    "from sklearn.ensemble import RandomForestRegressor\n",
    "from sklearn.svm import SVR\n",
    "%matplotlib inline"
   ]
  },
  {
   "cell_type": "code",
   "execution_count": 40,
   "metadata": {
    "collapsed": false
   },
   "outputs": [],
   "source": [
    "df=pd.read_csv('data/CAX_Bidding_TRAIN_Molecule_3_4_5.csv')"
   ]
  },
  {
   "cell_type": "code",
   "execution_count": 41,
   "metadata": {
    "collapsed": true
   },
   "outputs": [],
   "source": [
    "col=['Molecule','Winning_price_per_standard_unit','Region','Length_of_contract_in_Months', 'Presentation', 'Start_date']"
   ]
  },
  {
   "cell_type": "code",
   "execution_count": 42,
   "metadata": {
    "collapsed": false
   },
   "outputs": [],
   "source": [
    "df2=df[col]"
   ]
  },
  {
   "cell_type": "code",
   "execution_count": 108,
   "metadata": {
    "collapsed": false
   },
   "outputs": [
    {
     "data": {
      "text/html": [
       "<div>\n",
       "<table border=\"1\" class=\"dataframe\">\n",
       "  <thead>\n",
       "    <tr style=\"text-align: right;\">\n",
       "      <th></th>\n",
       "      <th>Molecule</th>\n",
       "      <th>Winning_price_per_standard_unit</th>\n",
       "      <th>Region</th>\n",
       "      <th>Length_of_contract_in_Months</th>\n",
       "      <th>Presentation</th>\n",
       "      <th>Start_date</th>\n",
       "      <th>Tenure</th>\n",
       "    </tr>\n",
       "  </thead>\n",
       "  <tbody>\n",
       "    <tr>\n",
       "      <th>0</th>\n",
       "      <td>Molecule3</td>\n",
       "      <td>1.56353</td>\n",
       "      <td>Region6</td>\n",
       "      <td>36</td>\n",
       "      <td>Presentation8</td>\n",
       "      <td>2009-01-01</td>\n",
       "      <td>0</td>\n",
       "    </tr>\n",
       "    <tr>\n",
       "      <th>1</th>\n",
       "      <td>Molecule3</td>\n",
       "      <td>1.56353</td>\n",
       "      <td>Region6</td>\n",
       "      <td>20</td>\n",
       "      <td>Presentation8</td>\n",
       "      <td>2010-01-05</td>\n",
       "      <td>369</td>\n",
       "    </tr>\n",
       "    <tr>\n",
       "      <th>2</th>\n",
       "      <td>Molecule3</td>\n",
       "      <td>1.77000</td>\n",
       "      <td>Region13</td>\n",
       "      <td>24</td>\n",
       "      <td>Presentation8</td>\n",
       "      <td>2010-01-05</td>\n",
       "      <td>369</td>\n",
       "    </tr>\n",
       "    <tr>\n",
       "      <th>3</th>\n",
       "      <td>Molecule3</td>\n",
       "      <td>1.77000</td>\n",
       "      <td>Region9</td>\n",
       "      <td>24</td>\n",
       "      <td>Presentation8</td>\n",
       "      <td>2010-01-07</td>\n",
       "      <td>371</td>\n",
       "    </tr>\n",
       "    <tr>\n",
       "      <th>4</th>\n",
       "      <td>Molecule3</td>\n",
       "      <td>1.50000</td>\n",
       "      <td>Region7</td>\n",
       "      <td>12</td>\n",
       "      <td>Presentation8</td>\n",
       "      <td>2010-01-08</td>\n",
       "      <td>372</td>\n",
       "    </tr>\n",
       "  </tbody>\n",
       "</table>\n",
       "</div>"
      ],
      "text/plain": [
       "    Molecule  Winning_price_per_standard_unit    Region  \\\n",
       "0  Molecule3                          1.56353   Region6   \n",
       "1  Molecule3                          1.56353   Region6   \n",
       "2  Molecule3                          1.77000  Region13   \n",
       "3  Molecule3                          1.77000   Region9   \n",
       "4  Molecule3                          1.50000   Region7   \n",
       "\n",
       "   Length_of_contract_in_Months   Presentation Start_date  Tenure  \n",
       "0                            36  Presentation8 2009-01-01       0  \n",
       "1                            20  Presentation8 2010-01-05     369  \n",
       "2                            24  Presentation8 2010-01-05     369  \n",
       "3                            24  Presentation8 2010-01-07     371  \n",
       "4                            12  Presentation8 2010-01-08     372  "
      ]
     },
     "execution_count": 108,
     "metadata": {},
     "output_type": "execute_result"
    }
   ],
   "source": [
    "df2=df2.dropna()\n",
    "df2.head()"
   ]
  },
  {
   "cell_type": "code",
   "execution_count": 51,
   "metadata": {
    "collapsed": false
   },
   "outputs": [
    {
     "data": {
      "text/plain": [
       "12"
      ]
     },
     "execution_count": 51,
     "metadata": {},
     "output_type": "execute_result"
    }
   ],
   "source": [
    "(datetime(2009,12,31,0,0,0) - datetime(2009,1,1,0,0,0)).days/30"
   ]
  },
  {
   "cell_type": "code",
   "execution_count": 109,
   "metadata": {
    "collapsed": false
   },
   "outputs": [],
   "source": [
    "df2['Start_date']=pd.to_datetime(df2['Start_date'])\n",
    "def days_since_loe(a, b):\n",
    "    if a=='Molecule3':\n",
    "        return (b - datetime(2009,1,1,0,0,0)).days\n",
    "    elif a=='Molecule4':\n",
    "        return (b - datetime(2011,1,1,0,0,0)).days\n",
    "    else:\n",
    "        return (b - datetime(2011,1,1,0,0,0)).days\n"
   ]
  },
  {
   "cell_type": "code",
   "execution_count": 198,
   "metadata": {
    "collapsed": false
   },
   "outputs": [],
   "source": [
    "df2['Tenure'] = df2.apply(lambda row: days_since_loe(row['Molecule'], row['Start_date']), axis=1)"
   ]
  },
  {
   "cell_type": "code",
   "execution_count": 200,
   "metadata": {
    "collapsed": false
   },
   "outputs": [
    {
     "data": {
      "text/html": [
       "<div>\n",
       "<table border=\"1\" class=\"dataframe\">\n",
       "  <thead>\n",
       "    <tr style=\"text-align: right;\">\n",
       "      <th></th>\n",
       "      <th>Molecule</th>\n",
       "      <th>Winning_price_per_standard_unit</th>\n",
       "      <th>Region</th>\n",
       "      <th>Length_of_contract_in_Months</th>\n",
       "      <th>Presentation</th>\n",
       "      <th>Start_date</th>\n",
       "      <th>Tenure</th>\n",
       "    </tr>\n",
       "  </thead>\n",
       "  <tbody>\n",
       "    <tr>\n",
       "      <th>245</th>\n",
       "      <td>Molecule4</td>\n",
       "      <td>5.00000</td>\n",
       "      <td>Region9</td>\n",
       "      <td>24</td>\n",
       "      <td>Presentation12</td>\n",
       "      <td>2010-01-03</td>\n",
       "      <td>-363</td>\n",
       "    </tr>\n",
       "    <tr>\n",
       "      <th>246</th>\n",
       "      <td>Molecule4</td>\n",
       "      <td>19.98000</td>\n",
       "      <td>Region1</td>\n",
       "      <td>36</td>\n",
       "      <td>Presentation12</td>\n",
       "      <td>2010-01-05</td>\n",
       "      <td>-361</td>\n",
       "    </tr>\n",
       "    <tr>\n",
       "      <th>247</th>\n",
       "      <td>Molecule4</td>\n",
       "      <td>23.69000</td>\n",
       "      <td>Region16</td>\n",
       "      <td>36</td>\n",
       "      <td>Presentation12</td>\n",
       "      <td>2010-07-30</td>\n",
       "      <td>-155</td>\n",
       "    </tr>\n",
       "    <tr>\n",
       "      <th>248</th>\n",
       "      <td>Molecule4</td>\n",
       "      <td>24.87000</td>\n",
       "      <td>Region1</td>\n",
       "      <td>48</td>\n",
       "      <td>Presentation12</td>\n",
       "      <td>2010-01-09</td>\n",
       "      <td>-357</td>\n",
       "    </tr>\n",
       "    <tr>\n",
       "      <th>249</th>\n",
       "      <td>Molecule4</td>\n",
       "      <td>23.89012</td>\n",
       "      <td>Region3</td>\n",
       "      <td>36</td>\n",
       "      <td>Presentation12</td>\n",
       "      <td>2010-09-29</td>\n",
       "      <td>-94</td>\n",
       "    </tr>\n",
       "    <tr>\n",
       "      <th>250</th>\n",
       "      <td>Molecule4</td>\n",
       "      <td>17.96000</td>\n",
       "      <td>Region6</td>\n",
       "      <td>36</td>\n",
       "      <td>Presentation12</td>\n",
       "      <td>2010-01-10</td>\n",
       "      <td>-356</td>\n",
       "    </tr>\n",
       "    <tr>\n",
       "      <th>251</th>\n",
       "      <td>Molecule4</td>\n",
       "      <td>20.89000</td>\n",
       "      <td>Region1</td>\n",
       "      <td>36</td>\n",
       "      <td>Presentation12</td>\n",
       "      <td>2010-01-11</td>\n",
       "      <td>-355</td>\n",
       "    </tr>\n",
       "    <tr>\n",
       "      <th>252</th>\n",
       "      <td>Molecule4</td>\n",
       "      <td>23.90000</td>\n",
       "      <td>Region10</td>\n",
       "      <td>36</td>\n",
       "      <td>Presentation12</td>\n",
       "      <td>2010-01-12</td>\n",
       "      <td>-354</td>\n",
       "    </tr>\n",
       "    <tr>\n",
       "      <th>254</th>\n",
       "      <td>Molecule4</td>\n",
       "      <td>20.20000</td>\n",
       "      <td>Region2</td>\n",
       "      <td>6</td>\n",
       "      <td>Presentation12</td>\n",
       "      <td>2010-12-31</td>\n",
       "      <td>-1</td>\n",
       "    </tr>\n",
       "    <tr>\n",
       "      <th>255</th>\n",
       "      <td>Molecule4</td>\n",
       "      <td>20.60000</td>\n",
       "      <td>Region12</td>\n",
       "      <td>36</td>\n",
       "      <td>Presentation12</td>\n",
       "      <td>2011-01-02</td>\n",
       "      <td>1</td>\n",
       "    </tr>\n",
       "    <tr>\n",
       "      <th>256</th>\n",
       "      <td>Molecule4</td>\n",
       "      <td>14.90563</td>\n",
       "      <td>Region3</td>\n",
       "      <td>36</td>\n",
       "      <td>Presentation12</td>\n",
       "      <td>2011-01-03</td>\n",
       "      <td>2</td>\n",
       "    </tr>\n",
       "    <tr>\n",
       "      <th>257</th>\n",
       "      <td>Molecule4</td>\n",
       "      <td>18.00000</td>\n",
       "      <td>Region1</td>\n",
       "      <td>48</td>\n",
       "      <td>Presentation12</td>\n",
       "      <td>2011-01-04</td>\n",
       "      <td>3</td>\n",
       "    </tr>\n",
       "    <tr>\n",
       "      <th>258</th>\n",
       "      <td>Molecule4</td>\n",
       "      <td>21.50000</td>\n",
       "      <td>Region1</td>\n",
       "      <td>48</td>\n",
       "      <td>Presentation12</td>\n",
       "      <td>2011-05-18</td>\n",
       "      <td>137</td>\n",
       "    </tr>\n",
       "    <tr>\n",
       "      <th>259</th>\n",
       "      <td>Molecule4</td>\n",
       "      <td>23.80000</td>\n",
       "      <td>Region18</td>\n",
       "      <td>36</td>\n",
       "      <td>Presentation12</td>\n",
       "      <td>2011-05-31</td>\n",
       "      <td>150</td>\n",
       "    </tr>\n",
       "    <tr>\n",
       "      <th>261</th>\n",
       "      <td>Molecule4</td>\n",
       "      <td>20.00000</td>\n",
       "      <td>Region1</td>\n",
       "      <td>36</td>\n",
       "      <td>Presentation12</td>\n",
       "      <td>2011-06-29</td>\n",
       "      <td>179</td>\n",
       "    </tr>\n",
       "    <tr>\n",
       "      <th>262</th>\n",
       "      <td>Molecule4</td>\n",
       "      <td>20.15000</td>\n",
       "      <td>Region1</td>\n",
       "      <td>36</td>\n",
       "      <td>Presentation12</td>\n",
       "      <td>2011-01-07</td>\n",
       "      <td>6</td>\n",
       "    </tr>\n",
       "    <tr>\n",
       "      <th>263</th>\n",
       "      <td>Molecule4</td>\n",
       "      <td>2.11000</td>\n",
       "      <td>Region13</td>\n",
       "      <td>5</td>\n",
       "      <td>Presentation12</td>\n",
       "      <td>2011-09-29</td>\n",
       "      <td>271</td>\n",
       "    </tr>\n",
       "    <tr>\n",
       "      <th>264</th>\n",
       "      <td>Molecule4</td>\n",
       "      <td>9.50000</td>\n",
       "      <td>Region5</td>\n",
       "      <td>36</td>\n",
       "      <td>Presentation12</td>\n",
       "      <td>2011-10-31</td>\n",
       "      <td>303</td>\n",
       "    </tr>\n",
       "    <tr>\n",
       "      <th>265</th>\n",
       "      <td>Molecule4</td>\n",
       "      <td>0.89000</td>\n",
       "      <td>Region6</td>\n",
       "      <td>14</td>\n",
       "      <td>Presentation12</td>\n",
       "      <td>2011-01-11</td>\n",
       "      <td>10</td>\n",
       "    </tr>\n",
       "    <tr>\n",
       "      <th>266</th>\n",
       "      <td>Molecule4</td>\n",
       "      <td>1.45000</td>\n",
       "      <td>Region3</td>\n",
       "      <td>6</td>\n",
       "      <td>Presentation12</td>\n",
       "      <td>2011-09-11</td>\n",
       "      <td>253</td>\n",
       "    </tr>\n",
       "    <tr>\n",
       "      <th>267</th>\n",
       "      <td>Molecule4</td>\n",
       "      <td>4.49878</td>\n",
       "      <td>Region1</td>\n",
       "      <td>48</td>\n",
       "      <td>Presentation12</td>\n",
       "      <td>2012-01-01</td>\n",
       "      <td>365</td>\n",
       "    </tr>\n",
       "    <tr>\n",
       "      <th>268</th>\n",
       "      <td>Molecule4</td>\n",
       "      <td>3.79000</td>\n",
       "      <td>Region1</td>\n",
       "      <td>24</td>\n",
       "      <td>Presentation12</td>\n",
       "      <td>2012-01-01</td>\n",
       "      <td>365</td>\n",
       "    </tr>\n",
       "    <tr>\n",
       "      <th>269</th>\n",
       "      <td>Molecule4</td>\n",
       "      <td>0.80000</td>\n",
       "      <td>Region3</td>\n",
       "      <td>12</td>\n",
       "      <td>Presentation12</td>\n",
       "      <td>2012-01-01</td>\n",
       "      <td>365</td>\n",
       "    </tr>\n",
       "    <tr>\n",
       "      <th>270</th>\n",
       "      <td>Molecule4</td>\n",
       "      <td>1.38000</td>\n",
       "      <td>Region17</td>\n",
       "      <td>24</td>\n",
       "      <td>Presentation12</td>\n",
       "      <td>2012-01-01</td>\n",
       "      <td>365</td>\n",
       "    </tr>\n",
       "    <tr>\n",
       "      <th>271</th>\n",
       "      <td>Molecule4</td>\n",
       "      <td>0.76400</td>\n",
       "      <td>Region6</td>\n",
       "      <td>12</td>\n",
       "      <td>Presentation12</td>\n",
       "      <td>2012-01-01</td>\n",
       "      <td>365</td>\n",
       "    </tr>\n",
       "    <tr>\n",
       "      <th>272</th>\n",
       "      <td>Molecule4</td>\n",
       "      <td>0.59988</td>\n",
       "      <td>Region4</td>\n",
       "      <td>20</td>\n",
       "      <td>Presentation12</td>\n",
       "      <td>2012-01-01</td>\n",
       "      <td>365</td>\n",
       "    </tr>\n",
       "    <tr>\n",
       "      <th>273</th>\n",
       "      <td>Molecule4</td>\n",
       "      <td>1.09490</td>\n",
       "      <td>Region2</td>\n",
       "      <td>12</td>\n",
       "      <td>Presentation12</td>\n",
       "      <td>2012-01-01</td>\n",
       "      <td>365</td>\n",
       "    </tr>\n",
       "    <tr>\n",
       "      <th>274</th>\n",
       "      <td>Molecule4</td>\n",
       "      <td>0.87000</td>\n",
       "      <td>Region8</td>\n",
       "      <td>48</td>\n",
       "      <td>Presentation12</td>\n",
       "      <td>2012-01-03</td>\n",
       "      <td>367</td>\n",
       "    </tr>\n",
       "    <tr>\n",
       "      <th>275</th>\n",
       "      <td>Molecule4</td>\n",
       "      <td>0.64700</td>\n",
       "      <td>Region9</td>\n",
       "      <td>24</td>\n",
       "      <td>Presentation12</td>\n",
       "      <td>2012-01-04</td>\n",
       "      <td>368</td>\n",
       "    </tr>\n",
       "    <tr>\n",
       "      <th>276</th>\n",
       "      <td>Molecule4</td>\n",
       "      <td>0.69000</td>\n",
       "      <td>Region6</td>\n",
       "      <td>33</td>\n",
       "      <td>Presentation12</td>\n",
       "      <td>2012-01-04</td>\n",
       "      <td>368</td>\n",
       "    </tr>\n",
       "    <tr>\n",
       "      <th>...</th>\n",
       "      <td>...</td>\n",
       "      <td>...</td>\n",
       "      <td>...</td>\n",
       "      <td>...</td>\n",
       "      <td>...</td>\n",
       "      <td>...</td>\n",
       "      <td>...</td>\n",
       "    </tr>\n",
       "    <tr>\n",
       "      <th>431</th>\n",
       "      <td>Molecule4</td>\n",
       "      <td>0.18000</td>\n",
       "      <td>Region1</td>\n",
       "      <td>48</td>\n",
       "      <td>Presentation14</td>\n",
       "      <td>2013-01-05</td>\n",
       "      <td>735</td>\n",
       "    </tr>\n",
       "    <tr>\n",
       "      <th>432</th>\n",
       "      <td>Molecule4</td>\n",
       "      <td>0.14500</td>\n",
       "      <td>Region3</td>\n",
       "      <td>36</td>\n",
       "      <td>Presentation14</td>\n",
       "      <td>2013-05-20</td>\n",
       "      <td>870</td>\n",
       "    </tr>\n",
       "    <tr>\n",
       "      <th>433</th>\n",
       "      <td>Molecule4</td>\n",
       "      <td>0.14999</td>\n",
       "      <td>Region20</td>\n",
       "      <td>36</td>\n",
       "      <td>Presentation14</td>\n",
       "      <td>2013-01-06</td>\n",
       "      <td>736</td>\n",
       "    </tr>\n",
       "    <tr>\n",
       "      <th>434</th>\n",
       "      <td>Molecule4</td>\n",
       "      <td>0.13500</td>\n",
       "      <td>Region14</td>\n",
       "      <td>24</td>\n",
       "      <td>Presentation14</td>\n",
       "      <td>2013-06-06</td>\n",
       "      <td>887</td>\n",
       "    </tr>\n",
       "    <tr>\n",
       "      <th>435</th>\n",
       "      <td>Molecule4</td>\n",
       "      <td>0.13900</td>\n",
       "      <td>Region12</td>\n",
       "      <td>48</td>\n",
       "      <td>Presentation14</td>\n",
       "      <td>2013-06-21</td>\n",
       "      <td>902</td>\n",
       "    </tr>\n",
       "    <tr>\n",
       "      <th>436</th>\n",
       "      <td>Molecule4</td>\n",
       "      <td>0.15650</td>\n",
       "      <td>Region5</td>\n",
       "      <td>6</td>\n",
       "      <td>Presentation14</td>\n",
       "      <td>2013-11-30</td>\n",
       "      <td>1064</td>\n",
       "    </tr>\n",
       "    <tr>\n",
       "      <th>438</th>\n",
       "      <td>Molecule4</td>\n",
       "      <td>0.19800</td>\n",
       "      <td>Region1</td>\n",
       "      <td>12</td>\n",
       "      <td>Presentation14</td>\n",
       "      <td>2014-01-02</td>\n",
       "      <td>1097</td>\n",
       "    </tr>\n",
       "    <tr>\n",
       "      <th>439</th>\n",
       "      <td>Molecule4</td>\n",
       "      <td>0.19312</td>\n",
       "      <td>Region15</td>\n",
       "      <td>48</td>\n",
       "      <td>Presentation14</td>\n",
       "      <td>2014-02-21</td>\n",
       "      <td>1147</td>\n",
       "    </tr>\n",
       "    <tr>\n",
       "      <th>440</th>\n",
       "      <td>Molecule4</td>\n",
       "      <td>0.14450</td>\n",
       "      <td>Region5</td>\n",
       "      <td>36</td>\n",
       "      <td>Presentation14</td>\n",
       "      <td>2014-12-03</td>\n",
       "      <td>1432</td>\n",
       "    </tr>\n",
       "    <tr>\n",
       "      <th>441</th>\n",
       "      <td>Molecule4</td>\n",
       "      <td>0.14100</td>\n",
       "      <td>Region1</td>\n",
       "      <td>36</td>\n",
       "      <td>Presentation14</td>\n",
       "      <td>2014-01-04</td>\n",
       "      <td>1099</td>\n",
       "    </tr>\n",
       "    <tr>\n",
       "      <th>442</th>\n",
       "      <td>Molecule4</td>\n",
       "      <td>0.21600</td>\n",
       "      <td>Region2</td>\n",
       "      <td>9</td>\n",
       "      <td>Presentation14</td>\n",
       "      <td>2014-01-04</td>\n",
       "      <td>1099</td>\n",
       "    </tr>\n",
       "    <tr>\n",
       "      <th>445</th>\n",
       "      <td>Molecule4</td>\n",
       "      <td>0.17800</td>\n",
       "      <td>Region17</td>\n",
       "      <td>24</td>\n",
       "      <td>Presentation14</td>\n",
       "      <td>2014-05-30</td>\n",
       "      <td>1245</td>\n",
       "    </tr>\n",
       "    <tr>\n",
       "      <th>446</th>\n",
       "      <td>Molecule4</td>\n",
       "      <td>0.23000</td>\n",
       "      <td>Region1</td>\n",
       "      <td>36</td>\n",
       "      <td>Presentation14</td>\n",
       "      <td>2014-01-07</td>\n",
       "      <td>1102</td>\n",
       "    </tr>\n",
       "    <tr>\n",
       "      <th>447</th>\n",
       "      <td>Molecule4</td>\n",
       "      <td>0.14100</td>\n",
       "      <td>Region1</td>\n",
       "      <td>12</td>\n",
       "      <td>Presentation14</td>\n",
       "      <td>2014-08-15</td>\n",
       "      <td>1322</td>\n",
       "    </tr>\n",
       "    <tr>\n",
       "      <th>448</th>\n",
       "      <td>Molecule4</td>\n",
       "      <td>0.23899</td>\n",
       "      <td>Region6</td>\n",
       "      <td>36</td>\n",
       "      <td>Presentation14</td>\n",
       "      <td>2014-01-09</td>\n",
       "      <td>1104</td>\n",
       "    </tr>\n",
       "    <tr>\n",
       "      <th>449</th>\n",
       "      <td>Molecule4</td>\n",
       "      <td>0.20480</td>\n",
       "      <td>Region4</td>\n",
       "      <td>24</td>\n",
       "      <td>Presentation14</td>\n",
       "      <td>2014-10-14</td>\n",
       "      <td>1382</td>\n",
       "    </tr>\n",
       "    <tr>\n",
       "      <th>451</th>\n",
       "      <td>Molecule4</td>\n",
       "      <td>0.20500</td>\n",
       "      <td>Region6</td>\n",
       "      <td>24</td>\n",
       "      <td>Presentation14</td>\n",
       "      <td>2014-01-11</td>\n",
       "      <td>1106</td>\n",
       "    </tr>\n",
       "    <tr>\n",
       "      <th>452</th>\n",
       "      <td>Molecule4</td>\n",
       "      <td>0.16800</td>\n",
       "      <td>Region2</td>\n",
       "      <td>12</td>\n",
       "      <td>Presentation14</td>\n",
       "      <td>2015-01-01</td>\n",
       "      <td>1461</td>\n",
       "    </tr>\n",
       "    <tr>\n",
       "      <th>454</th>\n",
       "      <td>Molecule4</td>\n",
       "      <td>0.21243</td>\n",
       "      <td>Region12</td>\n",
       "      <td>36</td>\n",
       "      <td>Presentation14</td>\n",
       "      <td>2015-12-02</td>\n",
       "      <td>1796</td>\n",
       "    </tr>\n",
       "    <tr>\n",
       "      <th>455</th>\n",
       "      <td>Molecule4</td>\n",
       "      <td>0.21584</td>\n",
       "      <td>Region9</td>\n",
       "      <td>31</td>\n",
       "      <td>Presentation14</td>\n",
       "      <td>2015-01-03</td>\n",
       "      <td>1463</td>\n",
       "    </tr>\n",
       "    <tr>\n",
       "      <th>456</th>\n",
       "      <td>Molecule4</td>\n",
       "      <td>0.17800</td>\n",
       "      <td>Region7</td>\n",
       "      <td>24</td>\n",
       "      <td>Presentation14</td>\n",
       "      <td>2015-03-16</td>\n",
       "      <td>1535</td>\n",
       "    </tr>\n",
       "    <tr>\n",
       "      <th>458</th>\n",
       "      <td>Molecule4</td>\n",
       "      <td>0.22470</td>\n",
       "      <td>Region1</td>\n",
       "      <td>36</td>\n",
       "      <td>Presentation14</td>\n",
       "      <td>2015-04-29</td>\n",
       "      <td>1579</td>\n",
       "    </tr>\n",
       "    <tr>\n",
       "      <th>460</th>\n",
       "      <td>Molecule4</td>\n",
       "      <td>0.20000</td>\n",
       "      <td>Region1</td>\n",
       "      <td>12</td>\n",
       "      <td>Presentation14</td>\n",
       "      <td>2015-05-31</td>\n",
       "      <td>1611</td>\n",
       "    </tr>\n",
       "    <tr>\n",
       "      <th>461</th>\n",
       "      <td>Molecule4</td>\n",
       "      <td>0.20000</td>\n",
       "      <td>Region1</td>\n",
       "      <td>36</td>\n",
       "      <td>Presentation14</td>\n",
       "      <td>2015-06-06</td>\n",
       "      <td>1617</td>\n",
       "    </tr>\n",
       "    <tr>\n",
       "      <th>462</th>\n",
       "      <td>Molecule4</td>\n",
       "      <td>0.20000</td>\n",
       "      <td>Region4</td>\n",
       "      <td>24</td>\n",
       "      <td>Presentation14</td>\n",
       "      <td>2015-06-15</td>\n",
       "      <td>1626</td>\n",
       "    </tr>\n",
       "    <tr>\n",
       "      <th>463</th>\n",
       "      <td>Molecule4</td>\n",
       "      <td>0.19600</td>\n",
       "      <td>Region1</td>\n",
       "      <td>12</td>\n",
       "      <td>Presentation14</td>\n",
       "      <td>2015-01-07</td>\n",
       "      <td>1467</td>\n",
       "    </tr>\n",
       "    <tr>\n",
       "      <th>464</th>\n",
       "      <td>Molecule4</td>\n",
       "      <td>0.08500</td>\n",
       "      <td>Region17</td>\n",
       "      <td>12</td>\n",
       "      <td>Presentation14</td>\n",
       "      <td>2015-08-09</td>\n",
       "      <td>1681</td>\n",
       "    </tr>\n",
       "    <tr>\n",
       "      <th>465</th>\n",
       "      <td>Molecule4</td>\n",
       "      <td>0.19750</td>\n",
       "      <td>Region16</td>\n",
       "      <td>36</td>\n",
       "      <td>Presentation14</td>\n",
       "      <td>2015-06-10</td>\n",
       "      <td>1621</td>\n",
       "    </tr>\n",
       "    <tr>\n",
       "      <th>466</th>\n",
       "      <td>Molecule4</td>\n",
       "      <td>0.16800</td>\n",
       "      <td>Region13</td>\n",
       "      <td>15</td>\n",
       "      <td>Presentation14</td>\n",
       "      <td>2015-10-13</td>\n",
       "      <td>1746</td>\n",
       "    </tr>\n",
       "    <tr>\n",
       "      <th>467</th>\n",
       "      <td>Molecule4</td>\n",
       "      <td>0.46000</td>\n",
       "      <td>Region1</td>\n",
       "      <td>48</td>\n",
       "      <td>Presentation14</td>\n",
       "      <td>2016-01-01</td>\n",
       "      <td>1826</td>\n",
       "    </tr>\n",
       "  </tbody>\n",
       "</table>\n",
       "<p>202 rows × 7 columns</p>\n",
       "</div>"
      ],
      "text/plain": [
       "      Molecule  Winning_price_per_standard_unit    Region  \\\n",
       "245  Molecule4                          5.00000   Region9   \n",
       "246  Molecule4                         19.98000   Region1   \n",
       "247  Molecule4                         23.69000  Region16   \n",
       "248  Molecule4                         24.87000   Region1   \n",
       "249  Molecule4                         23.89012   Region3   \n",
       "250  Molecule4                         17.96000   Region6   \n",
       "251  Molecule4                         20.89000   Region1   \n",
       "252  Molecule4                         23.90000  Region10   \n",
       "254  Molecule4                         20.20000   Region2   \n",
       "255  Molecule4                         20.60000  Region12   \n",
       "256  Molecule4                         14.90563   Region3   \n",
       "257  Molecule4                         18.00000   Region1   \n",
       "258  Molecule4                         21.50000   Region1   \n",
       "259  Molecule4                         23.80000  Region18   \n",
       "261  Molecule4                         20.00000   Region1   \n",
       "262  Molecule4                         20.15000   Region1   \n",
       "263  Molecule4                          2.11000  Region13   \n",
       "264  Molecule4                          9.50000   Region5   \n",
       "265  Molecule4                          0.89000   Region6   \n",
       "266  Molecule4                          1.45000   Region3   \n",
       "267  Molecule4                          4.49878   Region1   \n",
       "268  Molecule4                          3.79000   Region1   \n",
       "269  Molecule4                          0.80000   Region3   \n",
       "270  Molecule4                          1.38000  Region17   \n",
       "271  Molecule4                          0.76400   Region6   \n",
       "272  Molecule4                          0.59988   Region4   \n",
       "273  Molecule4                          1.09490   Region2   \n",
       "274  Molecule4                          0.87000   Region8   \n",
       "275  Molecule4                          0.64700   Region9   \n",
       "276  Molecule4                          0.69000   Region6   \n",
       "..         ...                              ...       ...   \n",
       "431  Molecule4                          0.18000   Region1   \n",
       "432  Molecule4                          0.14500   Region3   \n",
       "433  Molecule4                          0.14999  Region20   \n",
       "434  Molecule4                          0.13500  Region14   \n",
       "435  Molecule4                          0.13900  Region12   \n",
       "436  Molecule4                          0.15650   Region5   \n",
       "438  Molecule4                          0.19800   Region1   \n",
       "439  Molecule4                          0.19312  Region15   \n",
       "440  Molecule4                          0.14450   Region5   \n",
       "441  Molecule4                          0.14100   Region1   \n",
       "442  Molecule4                          0.21600   Region2   \n",
       "445  Molecule4                          0.17800  Region17   \n",
       "446  Molecule4                          0.23000   Region1   \n",
       "447  Molecule4                          0.14100   Region1   \n",
       "448  Molecule4                          0.23899   Region6   \n",
       "449  Molecule4                          0.20480   Region4   \n",
       "451  Molecule4                          0.20500   Region6   \n",
       "452  Molecule4                          0.16800   Region2   \n",
       "454  Molecule4                          0.21243  Region12   \n",
       "455  Molecule4                          0.21584   Region9   \n",
       "456  Molecule4                          0.17800   Region7   \n",
       "458  Molecule4                          0.22470   Region1   \n",
       "460  Molecule4                          0.20000   Region1   \n",
       "461  Molecule4                          0.20000   Region1   \n",
       "462  Molecule4                          0.20000   Region4   \n",
       "463  Molecule4                          0.19600   Region1   \n",
       "464  Molecule4                          0.08500  Region17   \n",
       "465  Molecule4                          0.19750  Region16   \n",
       "466  Molecule4                          0.16800  Region13   \n",
       "467  Molecule4                          0.46000   Region1   \n",
       "\n",
       "     Length_of_contract_in_Months    Presentation Start_date  Tenure  \n",
       "245                            24  Presentation12 2010-01-03    -363  \n",
       "246                            36  Presentation12 2010-01-05    -361  \n",
       "247                            36  Presentation12 2010-07-30    -155  \n",
       "248                            48  Presentation12 2010-01-09    -357  \n",
       "249                            36  Presentation12 2010-09-29     -94  \n",
       "250                            36  Presentation12 2010-01-10    -356  \n",
       "251                            36  Presentation12 2010-01-11    -355  \n",
       "252                            36  Presentation12 2010-01-12    -354  \n",
       "254                             6  Presentation12 2010-12-31      -1  \n",
       "255                            36  Presentation12 2011-01-02       1  \n",
       "256                            36  Presentation12 2011-01-03       2  \n",
       "257                            48  Presentation12 2011-01-04       3  \n",
       "258                            48  Presentation12 2011-05-18     137  \n",
       "259                            36  Presentation12 2011-05-31     150  \n",
       "261                            36  Presentation12 2011-06-29     179  \n",
       "262                            36  Presentation12 2011-01-07       6  \n",
       "263                             5  Presentation12 2011-09-29     271  \n",
       "264                            36  Presentation12 2011-10-31     303  \n",
       "265                            14  Presentation12 2011-01-11      10  \n",
       "266                             6  Presentation12 2011-09-11     253  \n",
       "267                            48  Presentation12 2012-01-01     365  \n",
       "268                            24  Presentation12 2012-01-01     365  \n",
       "269                            12  Presentation12 2012-01-01     365  \n",
       "270                            24  Presentation12 2012-01-01     365  \n",
       "271                            12  Presentation12 2012-01-01     365  \n",
       "272                            20  Presentation12 2012-01-01     365  \n",
       "273                            12  Presentation12 2012-01-01     365  \n",
       "274                            48  Presentation12 2012-01-03     367  \n",
       "275                            24  Presentation12 2012-01-04     368  \n",
       "276                            33  Presentation12 2012-01-04     368  \n",
       "..                            ...             ...        ...     ...  \n",
       "431                            48  Presentation14 2013-01-05     735  \n",
       "432                            36  Presentation14 2013-05-20     870  \n",
       "433                            36  Presentation14 2013-01-06     736  \n",
       "434                            24  Presentation14 2013-06-06     887  \n",
       "435                            48  Presentation14 2013-06-21     902  \n",
       "436                             6  Presentation14 2013-11-30    1064  \n",
       "438                            12  Presentation14 2014-01-02    1097  \n",
       "439                            48  Presentation14 2014-02-21    1147  \n",
       "440                            36  Presentation14 2014-12-03    1432  \n",
       "441                            36  Presentation14 2014-01-04    1099  \n",
       "442                             9  Presentation14 2014-01-04    1099  \n",
       "445                            24  Presentation14 2014-05-30    1245  \n",
       "446                            36  Presentation14 2014-01-07    1102  \n",
       "447                            12  Presentation14 2014-08-15    1322  \n",
       "448                            36  Presentation14 2014-01-09    1104  \n",
       "449                            24  Presentation14 2014-10-14    1382  \n",
       "451                            24  Presentation14 2014-01-11    1106  \n",
       "452                            12  Presentation14 2015-01-01    1461  \n",
       "454                            36  Presentation14 2015-12-02    1796  \n",
       "455                            31  Presentation14 2015-01-03    1463  \n",
       "456                            24  Presentation14 2015-03-16    1535  \n",
       "458                            36  Presentation14 2015-04-29    1579  \n",
       "460                            12  Presentation14 2015-05-31    1611  \n",
       "461                            36  Presentation14 2015-06-06    1617  \n",
       "462                            24  Presentation14 2015-06-15    1626  \n",
       "463                            12  Presentation14 2015-01-07    1467  \n",
       "464                            12  Presentation14 2015-08-09    1681  \n",
       "465                            36  Presentation14 2015-06-10    1621  \n",
       "466                            15  Presentation14 2015-10-13    1746  \n",
       "467                            48  Presentation14 2016-01-01    1826  \n",
       "\n",
       "[202 rows x 7 columns]"
      ]
     },
     "execution_count": 200,
     "metadata": {},
     "output_type": "execute_result"
    }
   ],
   "source": [
    "df2[df2['Molecule'] == 'Molecule4']"
   ]
  },
  {
   "cell_type": "code",
   "execution_count": 218,
   "metadata": {
    "collapsed": false
   },
   "outputs": [],
   "source": [
    "#get pre loe data\n",
    "df_pre_loe=df2[df2['Tenure']<0]"
   ]
  },
  {
   "cell_type": "code",
   "execution_count": 219,
   "metadata": {
    "collapsed": false
   },
   "outputs": [],
   "source": [
    "df_pre_loe=df_pre_loe[['Molecule','Region', 'Presentation', 'Winning_price_per_standard_unit']]"
   ]
  },
  {
   "cell_type": "code",
   "execution_count": 220,
   "metadata": {
    "collapsed": false
   },
   "outputs": [],
   "source": [
    "df_combination_mrp = df_pre_loe.groupby(['Region','Presentation']).describe()"
   ]
  },
  {
   "cell_type": "code",
   "execution_count": 221,
   "metadata": {
    "collapsed": false
   },
   "outputs": [],
   "source": [
    "grouped = df_pre_loe.groupby(['Region','Presentation'])"
   ]
  },
  {
   "cell_type": "code",
   "execution_count": 222,
   "metadata": {
    "collapsed": false
   },
   "outputs": [],
   "source": [
    "pRegionPresentationDict = {}"
   ]
  },
  {
   "cell_type": "code",
   "execution_count": 223,
   "metadata": {
    "collapsed": false
   },
   "outputs": [],
   "source": [
    "\n",
    "for (k1,k2), group in grouped:\n",
    "    price = group['Winning_price_per_standard_unit'].max()\n",
    "    price2 = group['Winning_price_per_standard_unit'].ipynb_checkpoints/mean()\n",
    "    print price - price2\n",
    "    pRegionPresentationDict[k1+k2] = price"
   ]
  },
  {
   "cell_type": "code",
   "execution_count": 224,
   "metadata": {
    "collapsed": false
   },
   "outputs": [
    {
     "data": {
      "text/plain": [
       "{'Region10Presentation11': 5.6585,\n",
       " 'Region10Presentation12': 23.9,\n",
       " 'Region10Presentation15': 2.888,\n",
       " 'Region10Presentation16': 1.444,\n",
       " 'Region10Presentation17': 2.888,\n",
       " 'Region10Presentation18': 0.7225,\n",
       " 'Region10Presentation19': 1.444,\n",
       " 'Region10Presentation9': 11.12,\n",
       " 'Region12Presentation14': 1.65,\n",
       " 'Region14Presentation11': 5.6585,\n",
       " 'Region14Presentation9': 11.1373,\n",
       " 'Region16Presentation12': 23.69,\n",
       " 'Region16Presentation13': 1.46,\n",
       " 'Region16Presentation14': 1.92,\n",
       " 'Region17Presentation11': 5.6585,\n",
       " 'Region17Presentation14': 1.67,\n",
       " 'Region19Presentation11': 5.6585,\n",
       " 'Region19Presentation9': 11.189057,\n",
       " 'Region1Presentation11': 5.6585,\n",
       " 'Region1Presentation12': 24.87,\n",
       " 'Region1Presentation14': 2.71084,\n",
       " 'Region1Presentation15': 3.04107,\n",
       " 'Region1Presentation16': 1.5203,\n",
       " 'Region1Presentation17': 1.01678,\n",
       " 'Region1Presentation18': 0.25428,\n",
       " 'Region1Presentation19': 0.50821,\n",
       " 'Region1Presentation9': 11.25,\n",
       " 'Region2Presentation12': 20.2,\n",
       " 'Region2Presentation14': 1.88,\n",
       " 'Region2Presentation15': 3.04107,\n",
       " 'Region2Presentation16': 1.52035,\n",
       " 'Region2Presentation17': 3.04107,\n",
       " 'Region2Presentation18': 0.76035,\n",
       " 'Region2Presentation19': 1.52035,\n",
       " 'Region2Presentation9': 11.19,\n",
       " 'Region3Presentation11': 5.6579999999999995,\n",
       " 'Region3Presentation12': 23.89012,\n",
       " 'Region3Presentation13': 1.4499600000000001,\n",
       " 'Region3Presentation14': 2.34,\n",
       " 'Region3Presentation9': 11.097000000000001,\n",
       " 'Region4Presentation17': 2.9957,\n",
       " 'Region4Presentation18': 0.7489,\n",
       " 'Region4Presentation19': 1.4975,\n",
       " 'Region5Presentation11': 5.659,\n",
       " 'Region5Presentation9': 11.24,\n",
       " 'Region6Presentation12': 17.96,\n",
       " 'Region6Presentation13': 1.31,\n",
       " 'Region6Presentation14': 1.92,\n",
       " 'Region6Presentation15': 3.04107,\n",
       " 'Region6Presentation16': 1.5203,\n",
       " 'Region6Presentation17': 3.04107,\n",
       " 'Region6Presentation18': 0.76,\n",
       " 'Region6Presentation19': 1.5203,\n",
       " 'Region8Presentation9': 11.24,\n",
       " 'Region9Presentation12': 5.0,\n",
       " 'Region9Presentation13': 1.54,\n",
       " 'Region9Presentation14': 2.57,\n",
       " 'Region9Presentation17': 3.04107,\n",
       " 'Region9Presentation18': 0.7603,\n",
       " 'Region9Presentation19': 1.5203}"
      ]
     },
     "execution_count": 224,
     "metadata": {},
     "output_type": "execute_result"
    }
   ],
   "source": [
    "pRegionPresentationDict"
   ]
  },
  {
   "cell_type": "code",
   "execution_count": 123,
   "metadata": {
    "collapsed": false
   },
   "outputs": [
    {
     "ename": "KeyError",
     "evalue": "'Value'",
     "output_type": "error",
     "traceback": [
      "\u001b[0;31m---------------------------------------------------------------------------\u001b[0m",
      "\u001b[0;31mKeyError\u001b[0m                                  Traceback (most recent call last)",
      "\u001b[0;32m<ipython-input-123-6ae550d07b9b>\u001b[0m in \u001b[0;36m<module>\u001b[0;34m()\u001b[0m\n\u001b[0;32m----> 1\u001b[0;31m \u001b[0mdf2\u001b[0m\u001b[0;34m=\u001b[0m\u001b[0mdf2\u001b[0m\u001b[0;34m[\u001b[0m\u001b[0mdf2\u001b[0m\u001b[0;34m[\u001b[0m\u001b[0;34m'Value'\u001b[0m\u001b[0;34m]\u001b[0m\u001b[0;34m>\u001b[0m\u001b[0;36m0\u001b[0m\u001b[0;34m]\u001b[0m\u001b[0;34m\u001b[0m\u001b[0m\n\u001b[0m",
      "\u001b[0;32m/Users/ssing25/anaconda2/envs/dato-env/lib/python2.7/site-packages/pandas/core/frame.pyc\u001b[0m in \u001b[0;36m__getitem__\u001b[0;34m(self, key)\u001b[0m\n\u001b[1;32m   1912\u001b[0m             \u001b[0;32mreturn\u001b[0m \u001b[0mself\u001b[0m\u001b[0;34m.\u001b[0m\u001b[0m_getitem_multilevel\u001b[0m\u001b[0;34m(\u001b[0m\u001b[0mkey\u001b[0m\u001b[0;34m)\u001b[0m\u001b[0;34m\u001b[0m\u001b[0m\n\u001b[1;32m   1913\u001b[0m         \u001b[0;32melse\u001b[0m\u001b[0;34m:\u001b[0m\u001b[0;34m\u001b[0m\u001b[0m\n\u001b[0;32m-> 1914\u001b[0;31m             \u001b[0;32mreturn\u001b[0m \u001b[0mself\u001b[0m\u001b[0;34m.\u001b[0m\u001b[0m_getitem_column\u001b[0m\u001b[0;34m(\u001b[0m\u001b[0mkey\u001b[0m\u001b[0;34m)\u001b[0m\u001b[0;34m\u001b[0m\u001b[0m\n\u001b[0m\u001b[1;32m   1915\u001b[0m \u001b[0;34m\u001b[0m\u001b[0m\n\u001b[1;32m   1916\u001b[0m     \u001b[0;32mdef\u001b[0m \u001b[0m_getitem_column\u001b[0m\u001b[0;34m(\u001b[0m\u001b[0mself\u001b[0m\u001b[0;34m,\u001b[0m \u001b[0mkey\u001b[0m\u001b[0;34m)\u001b[0m\u001b[0;34m:\u001b[0m\u001b[0;34m\u001b[0m\u001b[0m\n",
      "\u001b[0;32m/Users/ssing25/anaconda2/envs/dato-env/lib/python2.7/site-packages/pandas/core/frame.pyc\u001b[0m in \u001b[0;36m_getitem_column\u001b[0;34m(self, key)\u001b[0m\n\u001b[1;32m   1919\u001b[0m         \u001b[0;31m# get column\u001b[0m\u001b[0;34m\u001b[0m\u001b[0;34m\u001b[0m\u001b[0m\n\u001b[1;32m   1920\u001b[0m         \u001b[0;32mif\u001b[0m \u001b[0mself\u001b[0m\u001b[0;34m.\u001b[0m\u001b[0mcolumns\u001b[0m\u001b[0;34m.\u001b[0m\u001b[0mis_unique\u001b[0m\u001b[0;34m:\u001b[0m\u001b[0;34m\u001b[0m\u001b[0m\n\u001b[0;32m-> 1921\u001b[0;31m             \u001b[0;32mreturn\u001b[0m \u001b[0mself\u001b[0m\u001b[0;34m.\u001b[0m\u001b[0m_get_item_cache\u001b[0m\u001b[0;34m(\u001b[0m\u001b[0mkey\u001b[0m\u001b[0;34m)\u001b[0m\u001b[0;34m\u001b[0m\u001b[0m\n\u001b[0m\u001b[1;32m   1922\u001b[0m \u001b[0;34m\u001b[0m\u001b[0m\n\u001b[1;32m   1923\u001b[0m         \u001b[0;31m# duplicate columns & possible reduce dimensionaility\u001b[0m\u001b[0;34m\u001b[0m\u001b[0;34m\u001b[0m\u001b[0m\n",
      "\u001b[0;32m/Users/ssing25/anaconda2/envs/dato-env/lib/python2.7/site-packages/pandas/core/generic.pyc\u001b[0m in \u001b[0;36m_get_item_cache\u001b[0;34m(self, item)\u001b[0m\n\u001b[1;32m   1088\u001b[0m         \u001b[0mres\u001b[0m \u001b[0;34m=\u001b[0m \u001b[0mcache\u001b[0m\u001b[0;34m.\u001b[0m\u001b[0mget\u001b[0m\u001b[0;34m(\u001b[0m\u001b[0mitem\u001b[0m\u001b[0;34m)\u001b[0m\u001b[0;34m\u001b[0m\u001b[0m\n\u001b[1;32m   1089\u001b[0m         \u001b[0;32mif\u001b[0m \u001b[0mres\u001b[0m \u001b[0;32mis\u001b[0m \u001b[0mNone\u001b[0m\u001b[0;34m:\u001b[0m\u001b[0;34m\u001b[0m\u001b[0m\n\u001b[0;32m-> 1090\u001b[0;31m             \u001b[0mvalues\u001b[0m \u001b[0;34m=\u001b[0m \u001b[0mself\u001b[0m\u001b[0;34m.\u001b[0m\u001b[0m_data\u001b[0m\u001b[0;34m.\u001b[0m\u001b[0mget\u001b[0m\u001b[0;34m(\u001b[0m\u001b[0mitem\u001b[0m\u001b[0;34m)\u001b[0m\u001b[0;34m\u001b[0m\u001b[0m\n\u001b[0m\u001b[1;32m   1091\u001b[0m             \u001b[0mres\u001b[0m \u001b[0;34m=\u001b[0m \u001b[0mself\u001b[0m\u001b[0;34m.\u001b[0m\u001b[0m_box_item_values\u001b[0m\u001b[0;34m(\u001b[0m\u001b[0mitem\u001b[0m\u001b[0;34m,\u001b[0m \u001b[0mvalues\u001b[0m\u001b[0;34m)\u001b[0m\u001b[0;34m\u001b[0m\u001b[0m\n\u001b[1;32m   1092\u001b[0m             \u001b[0mcache\u001b[0m\u001b[0;34m[\u001b[0m\u001b[0mitem\u001b[0m\u001b[0;34m]\u001b[0m \u001b[0;34m=\u001b[0m \u001b[0mres\u001b[0m\u001b[0;34m\u001b[0m\u001b[0m\n",
      "\u001b[0;32m/Users/ssing25/anaconda2/envs/dato-env/lib/python2.7/site-packages/pandas/core/internals.pyc\u001b[0m in \u001b[0;36mget\u001b[0;34m(self, item, fastpath)\u001b[0m\n\u001b[1;32m   3100\u001b[0m \u001b[0;34m\u001b[0m\u001b[0m\n\u001b[1;32m   3101\u001b[0m             \u001b[0;32mif\u001b[0m \u001b[0;32mnot\u001b[0m \u001b[0misnull\u001b[0m\u001b[0;34m(\u001b[0m\u001b[0mitem\u001b[0m\u001b[0;34m)\u001b[0m\u001b[0;34m:\u001b[0m\u001b[0;34m\u001b[0m\u001b[0m\n\u001b[0;32m-> 3102\u001b[0;31m                 \u001b[0mloc\u001b[0m \u001b[0;34m=\u001b[0m \u001b[0mself\u001b[0m\u001b[0;34m.\u001b[0m\u001b[0mitems\u001b[0m\u001b[0;34m.\u001b[0m\u001b[0mget_loc\u001b[0m\u001b[0;34m(\u001b[0m\u001b[0mitem\u001b[0m\u001b[0;34m)\u001b[0m\u001b[0;34m\u001b[0m\u001b[0m\n\u001b[0m\u001b[1;32m   3103\u001b[0m             \u001b[0;32melse\u001b[0m\u001b[0;34m:\u001b[0m\u001b[0;34m\u001b[0m\u001b[0m\n\u001b[1;32m   3104\u001b[0m                 \u001b[0mindexer\u001b[0m \u001b[0;34m=\u001b[0m \u001b[0mnp\u001b[0m\u001b[0;34m.\u001b[0m\u001b[0marange\u001b[0m\u001b[0;34m(\u001b[0m\u001b[0mlen\u001b[0m\u001b[0;34m(\u001b[0m\u001b[0mself\u001b[0m\u001b[0;34m.\u001b[0m\u001b[0mitems\u001b[0m\u001b[0;34m)\u001b[0m\u001b[0;34m)\u001b[0m\u001b[0;34m[\u001b[0m\u001b[0misnull\u001b[0m\u001b[0;34m(\u001b[0m\u001b[0mself\u001b[0m\u001b[0;34m.\u001b[0m\u001b[0mitems\u001b[0m\u001b[0;34m)\u001b[0m\u001b[0;34m]\u001b[0m\u001b[0;34m\u001b[0m\u001b[0m\n",
      "\u001b[0;32m/Users/ssing25/anaconda2/envs/dato-env/lib/python2.7/site-packages/pandas/core/index.pyc\u001b[0m in \u001b[0;36mget_loc\u001b[0;34m(self, key, method, tolerance)\u001b[0m\n\u001b[1;32m   1690\u001b[0m                 raise ValueError('tolerance argument only valid if using pad, '\n\u001b[1;32m   1691\u001b[0m                                  'backfill or nearest lookups')\n\u001b[0;32m-> 1692\u001b[0;31m             \u001b[0;32mreturn\u001b[0m \u001b[0mself\u001b[0m\u001b[0;34m.\u001b[0m\u001b[0m_engine\u001b[0m\u001b[0;34m.\u001b[0m\u001b[0mget_loc\u001b[0m\u001b[0;34m(\u001b[0m\u001b[0m_values_from_object\u001b[0m\u001b[0;34m(\u001b[0m\u001b[0mkey\u001b[0m\u001b[0;34m)\u001b[0m\u001b[0;34m)\u001b[0m\u001b[0;34m\u001b[0m\u001b[0m\n\u001b[0m\u001b[1;32m   1693\u001b[0m \u001b[0;34m\u001b[0m\u001b[0m\n\u001b[1;32m   1694\u001b[0m         indexer = self.get_indexer([key], method=method,\n",
      "\u001b[0;32mpandas/index.pyx\u001b[0m in \u001b[0;36mpandas.index.IndexEngine.get_loc (pandas/index.c:3979)\u001b[0;34m()\u001b[0m\n",
      "\u001b[0;32mpandas/index.pyx\u001b[0m in \u001b[0;36mpandas.index.IndexEngine.get_loc (pandas/index.c:3843)\u001b[0;34m()\u001b[0m\n",
      "\u001b[0;32mpandas/hashtable.pyx\u001b[0m in \u001b[0;36mpandas.hashtable.PyObjectHashTable.get_item (pandas/hashtable.c:12265)\u001b[0;34m()\u001b[0m\n",
      "\u001b[0;32mpandas/hashtable.pyx\u001b[0m in \u001b[0;36mpandas.hashtable.PyObjectHashTable.get_item (pandas/hashtable.c:12216)\u001b[0;34m()\u001b[0m\n",
      "\u001b[0;31mKeyError\u001b[0m: 'Value'"
     ]
    }
   ],
   "source": [
    "df2=df2[df2['Value']>0]"
   ]
  },
  {
   "cell_type": "code",
   "execution_count": null,
   "metadata": {
    "collapsed": false
   },
   "outputs": [],
   "source": [
    "df2.head()"
   ]
  },
  {
   "cell_type": "code",
   "execution_count": null,
   "metadata": {
    "collapsed": false
   },
   "outputs": [],
   "source": [
    "pList = df['Presentation'].unique()\n",
    "pDict = {}\n",
    "for x in pList:\n",
    "    for index, row in df_pre_loe.iterrows():\n",
    "        pDict[x] = df[df['Presentation']== x]['Winning_price_per_standard_unit'].max()\n",
    "        break\n",
    "            "
   ]
  },
  {
   "cell_type": "code",
   "execution_count": null,
   "metadata": {
    "collapsed": false
   },
   "outputs": [],
   "source": [
    "#df10 = df[(df['Molecule'] == 'Molecule3') & (df['Region'] == 'Region6')]\n",
    "#df10 = df10.sort(columns='Start_date')\n",
    "#df10[['Start_date', 'Winning_price_per_standard_unit', 'Presentation']]\n",
    "pDict"
   ]
  },
  {
   "cell_type": "code",
   "execution_count": null,
   "metadata": {
    "collapsed": false
   },
   "outputs": [],
   "source": [
    "pDict['Presentation10']\n",
    "def factor_price(price, presentation):\n",
    "    return price/pDict[presentation]"
   ]
  },
  {
   "cell_type": "code",
   "execution_count": null,
   "metadata": {
    "collapsed": false
   },
   "outputs": [],
   "source": [
    "df2['Winning_price_per_standard_unit'] = df2.apply(lambda row: factor_price(row['Winning_price_per_standard_unit'], row['Presentation']), axis=1)"
   ]
  },
  {
   "cell_type": "code",
   "execution_count": null,
   "metadata": {
    "collapsed": false,
    "scrolled": true
   },
   "outputs": [],
   "source": [
    "df2.head()"
   ]
  },
  {
   "cell_type": "code",
   "execution_count": null,
   "metadata": {
    "collapsed": false
   },
   "outputs": [],
   "source": [
    "df2=df2.drop(['Molecule', 'Presentation', 'Start_date'],1)"
   ]
  },
  {
   "cell_type": "code",
   "execution_count": null,
   "metadata": {
    "collapsed": false
   },
   "outputs": [],
   "source": [
    "df2.head()"
   ]
  },
  {
   "cell_type": "code",
   "execution_count": null,
   "metadata": {
    "collapsed": true
   },
   "outputs": [],
   "source": [
    "df2=pd.get_dummies(df2)"
   ]
  },
  {
   "cell_type": "code",
   "execution_count": null,
   "metadata": {
    "collapsed": false
   },
   "outputs": [],
   "source": [
    "y=df2.as_matrix()[:,0]"
   ]
  },
  {
   "cell_type": "code",
   "execution_count": null,
   "metadata": {
    "collapsed": false
   },
   "outputs": [],
   "source": [
    "y.shape"
   ]
  },
  {
   "cell_type": "code",
   "execution_count": null,
   "metadata": {
    "collapsed": false
   },
   "outputs": [],
   "source": [
    "#df2=df2.drop('Winning_price_per_standard_unit',axis=1)"
   ]
  },
  {
   "cell_type": "code",
   "execution_count": null,
   "metadata": {
    "collapsed": false
   },
   "outputs": [],
   "source": [
    "X=df2.as_matrix()[:,1:]"
   ]
  },
  {
   "cell_type": "code",
   "execution_count": null,
   "metadata": {
    "collapsed": false
   },
   "outputs": [],
   "source": [
    "X.shape"
   ]
  },
  {
   "cell_type": "code",
   "execution_count": null,
   "metadata": {
    "collapsed": true
   },
   "outputs": [],
   "source": [
    "X_train,X_test,y_train,y_test=train_test_split(X,y)"
   ]
  },
  {
   "cell_type": "code",
   "execution_count": null,
   "metadata": {
    "collapsed": false
   },
   "outputs": [],
   "source": [
    "randForest=RandomForestRegressor()"
   ]
  },
  {
   "cell_type": "code",
   "execution_count": null,
   "metadata": {
    "collapsed": false
   },
   "outputs": [],
   "source": [
    "#randForest.fit_transform(X_train,y_train)"
   ]
  },
  {
   "cell_type": "code",
   "execution_count": null,
   "metadata": {
    "collapsed": false
   },
   "outputs": [],
   "source": [
    "randForest.score(X_test,y_test)"
   ]
  },
  {
   "cell_type": "code",
   "execution_count": null,
   "metadata": {
    "collapsed": true
   },
   "outputs": [],
   "source": [
    "y_rand_pred=randForest.predict(X_test)"
   ]
  },
  {
   "cell_type": "code",
   "execution_count": null,
   "metadata": {
    "collapsed": false
   },
   "outputs": [],
   "source": [
    "mean_squared_error(y_test,y_rand_pred)"
   ]
  },
  {
   "cell_type": "code",
   "execution_count": null,
   "metadata": {
    "collapsed": true
   },
   "outputs": [],
   "source": [
    "reg=linear_model.LinearRegression()"
   ]
  },
  {
   "cell_type": "code",
   "execution_count": null,
   "metadata": {
    "collapsed": false
   },
   "outputs": [],
   "source": [
    "reg.fit(X_train,y_train)"
   ]
  },
  {
   "cell_type": "code",
   "execution_count": null,
   "metadata": {
    "collapsed": false
   },
   "outputs": [],
   "source": [
    "reg.score(X_test,y_test)"
   ]
  },
  {
   "cell_type": "code",
   "execution_count": null,
   "metadata": {
    "collapsed": false
   },
   "outputs": [],
   "source": [
    "y_pred=reg.predict(X_test)"
   ]
  },
  {
   "cell_type": "code",
   "execution_count": null,
   "metadata": {
    "collapsed": false
   },
   "outputs": [],
   "source": [
    "y_pred[0:10]"
   ]
  },
  {
   "cell_type": "code",
   "execution_count": null,
   "metadata": {
    "collapsed": false
   },
   "outputs": [],
   "source": [
    "y_test[0:10]"
   ]
  },
  {
   "cell_type": "code",
   "execution_count": null,
   "metadata": {
    "collapsed": false
   },
   "outputs": [],
   "source": [
    "#plt.scatter(y_pred,y_test)"
   ]
  },
  {
   "cell_type": "code",
   "execution_count": null,
   "metadata": {
    "collapsed": false
   },
   "outputs": [],
   "source": [
    "mean_squared_error(y_test,y_pred)"
   ]
  },
  {
   "cell_type": "code",
   "execution_count": null,
   "metadata": {
    "collapsed": true
   },
   "outputs": [],
   "source": [
    "df_test=pd.read_csv('data/CAX_Bidding_TEST_Molecule_6_Post_LOE.csv')"
   ]
  },
  {
   "cell_type": "code",
   "execution_count": null,
   "metadata": {
    "collapsed": false
   },
   "outputs": [],
   "source": [
    "#df_test.head()"
   ]
  },
  {
   "cell_type": "code",
   "execution_count": null,
   "metadata": {
    "collapsed": true
   },
   "outputs": [],
   "source": [
    "col_test=['Region','Length_of_contract_in_Months','']"
   ]
  },
  {
   "cell_type": "code",
   "execution_count": null,
   "metadata": {
    "collapsed": true
   },
   "outputs": [],
   "source": [
    "df1_test=df_test[col]"
   ]
  },
  {
   "cell_type": "code",
   "execution_count": null,
   "metadata": {
    "collapsed": false
   },
   "outputs": [],
   "source": [
    "df1_test.head()"
   ]
  },
  {
   "cell_type": "code",
   "execution_count": null,
   "metadata": {
    "collapsed": false
   },
   "outputs": [],
   "source": [
    "df1_test=df1_test.drop(['Winning_price_per_standard_unit','Presentation','Molecule'],1)"
   ]
  },
  {
   "cell_type": "code",
   "execution_count": null,
   "metadata": {
    "collapsed": false
   },
   "outputs": [],
   "source": [
    "df1_test.head()"
   ]
  },
  {
   "cell_type": "code",
   "execution_count": null,
   "metadata": {
    "collapsed": true
   },
   "outputs": [],
   "source": [
    "df2_test=pd.get_dummies(df1_test)"
   ]
  },
  {
   "cell_type": "code",
   "execution_count": null,
   "metadata": {
    "collapsed": false
   },
   "outputs": [],
   "source": [
    "df2_test['Value'] = df2_test.apply(lambda row: days_since_loe(row['Molecule'], row['Start_date']), axis=1)"
   ]
  },
  {
   "cell_type": "code",
   "execution_count": null,
   "metadata": {
    "collapsed": true
   },
   "outputs": [],
   "source": [
    "x_ttest=df2_test.as_matrix()"
   ]
  },
  {
   "cell_type": "code",
   "execution_count": null,
   "metadata": {
    "collapsed": false
   },
   "outputs": [],
   "source": [
    "x_ttest.shape"
   ]
  },
  {
   "cell_type": "code",
   "execution_count": null,
   "metadata": {
    "collapsed": false
   },
   "outputs": [],
   "source": [
    "ytest_pred=reg.predict(x_ttest)"
   ]
  },
  {
   "cell_type": "code",
   "execution_count": null,
   "metadata": {
    "collapsed": false
   },
   "outputs": [],
   "source": [
    "type(ytest_pred)"
   ]
  },
  {
   "cell_type": "code",
   "execution_count": null,
   "metadata": {
    "collapsed": false
   },
   "outputs": [],
   "source": [
    "import csv\n",
    "b = open('test.csv', 'w')\n",
    "a = csv.writer(b)\n",
    "data = ytest_pred\n",
    "a.writerow(data)\n",
    "b.close()"
   ]
  },
  {
   "cell_type": "code",
   "execution_count": null,
   "metadata": {
    "collapsed": false
   },
   "outputs": [],
   "source": [
    "df_test=pd.read_csv('data/CAX_Bidding_TEST_Molecule_6_Post_LOE.csv')\n",
    "\n",
    "col_test =['Molecule', 'Region','Length_of_contract_in_Months', 'Presentation', 'Start_date']\n",
    "\n",
    "df2_test =df_test[col_test]\n",
    "\n",
    "df2_test.head()\n",
    "\n",
    "df2_test['Start_date']=pd.to_datetime(df2_test['Start_date'])\n",
    "def days_since_loe(a, b):\n",
    "    if a=='Molecule6':\n",
    "        return (b - datetime(2011,1,1,0,0,0)).days\n",
    "    else:\n",
    "        return (b - datetime(2011,1,1,0,0,0)).days\n",
    "\n",
    "df2_test['Value'] = df2_test.apply(lambda row: days_since_loe(row['Molecule'], row['Start_date']), axis=1)\n",
    "\n",
    "df2_test=df2_test[df2_test['Value']>0]\n",
    "\n",
    "#df2_test\n",
    "\n",
    "df_pres=pd.read_csv('data/CAX_Bidding_TEST_Molecule_6_Pre_LOE.csv')\n",
    "\n",
    "pList = df_pres['Presentation'].unique()\n",
    "pDict = {}\n",
    "for x in pList:\n",
    "    for index, row in df_pres.iterrows():\n",
    "        pDict[x] = df_pres[df_pres['Presentation']== x]['Winning_price_per_standard_unit'].max()\n",
    "        break\n",
    "            \n",
    "\n",
    "pDict\n",
    "\n",
    "def factor_price(price, presentation):\n",
    "    return price/pDict[presentation]\n",
    "\n",
    "df2_test.head()\n",
    "\n",
    "df3_test = df2_test.drop(['Molecule', 'Presentation', 'Start_date'], 1)\n",
    "\n",
    "df3_test.head()\n",
    "\n"
   ]
  },
  {
   "cell_type": "code",
   "execution_count": null,
   "metadata": {
    "collapsed": false
   },
   "outputs": [],
   "source": [
    "df3_test=pd.get_dummies(df3_test)\n",
    "\n",
    "df3_test.head()"
   ]
  },
  {
   "cell_type": "code",
   "execution_count": null,
   "metadata": {
    "collapsed": true
   },
   "outputs": [],
   "source": [
    "x_test_mtx=df3_test.as_matrix()"
   ]
  },
  {
   "cell_type": "code",
   "execution_count": null,
   "metadata": {
    "collapsed": true
   },
   "outputs": [],
   "source": [
    "y_test_pred=reg.predict(x_test_mtx)"
   ]
  },
  {
   "cell_type": "code",
   "execution_count": null,
   "metadata": {
    "collapsed": false
   },
   "outputs": [],
   "source": [
    "y_test_pred.shape"
   ]
  },
  {
   "cell_type": "code",
   "execution_count": null,
   "metadata": {
    "collapsed": false
   },
   "outputs": [],
   "source": [
    "df2_test.info()"
   ]
  },
  {
   "cell_type": "code",
   "execution_count": null,
   "metadata": {
    "collapsed": false
   },
   "outputs": [],
   "source": [
    "y_test.shape"
   ]
  },
  {
   "cell_type": "code",
   "execution_count": null,
   "metadata": {
    "collapsed": false
   },
   "outputs": [],
   "source": [
    "df2_test.loc[1,'Presentation']"
   ]
  },
  {
   "cell_type": "code",
   "execution_count": null,
   "metadata": {
    "collapsed": false
   },
   "outputs": [],
   "source": [
    "y_final = []\n",
    "for i,j in enumerate(y_test_pred):\n",
    "    y_final.append(j * pDict[df2_test.loc[i,'Presentation']])"
   ]
  },
  {
   "cell_type": "code",
   "execution_count": null,
   "metadata": {
    "collapsed": false
   },
   "outputs": [],
   "source": [
    "#y_final"
   ]
  },
  {
   "cell_type": "code",
   "execution_count": null,
   "metadata": {
    "collapsed": true
   },
   "outputs": [],
   "source": [
    "y_final_pred = np.asarray([])"
   ]
  },
  {
   "cell_type": "code",
   "execution_count": null,
   "metadata": {
    "collapsed": true
   },
   "outputs": [],
   "source": [
    "y_rand_predict=randForest.predict(x_test_mtx)"
   ]
  },
  {
   "cell_type": "code",
   "execution_count": null,
   "metadata": {
    "collapsed": false
   },
   "outputs": [],
   "source": [
    "y_rand_final = []\n",
    "for i,j in enumerate(y_rand_predict):\n",
    "    y_rand_final.append(j * pDict[df2_test.loc[i,'Presentation']])"
   ]
  },
  {
   "cell_type": "code",
   "execution_count": null,
   "metadata": {
    "collapsed": false
   },
   "outputs": [],
   "source": [
    "y_rand_final"
   ]
  },
  {
   "cell_type": "code",
   "execution_count": null,
   "metadata": {
    "collapsed": false
   },
   "outputs": [],
   "source": [
    "from sklearn.grid_search import GridSearchCV\n",
    "svm_m=SVR()"
   ]
  },
  {
   "cell_type": "code",
   "execution_count": null,
   "metadata": {
    "collapsed": false
   },
   "outputs": [],
   "source": [
    "#param_grid = [\n",
    "# {'C': [1, 10, 100, 1000], 'kernel': ['linear']},\n",
    "# {'C': [1, 10, 100, 1000], 'gamma': [0.001, 0.0001], 'kernel': ['rbf']},\n",
    "#]\n",
    "#gridsvm=GridSearchCV(svm_m,param_grid)\n",
    "#gridsvm.fit(X_train,y_train)\n",
    "#print(gridsvm.best_params_)"
   ]
  },
  {
   "cell_type": "code",
   "execution_count": null,
   "metadata": {
    "collapsed": true
   },
   "outputs": [],
   "source": []
  }
 ],
 "metadata": {
  "kernelspec": {
   "display_name": "Python 2",
   "language": "python",
   "name": "python2"
  },
  "language_info": {
   "codemirror_mode": {
    "name": "ipython",
    "version": 2
   },
   "file_extension": ".py",
   "mimetype": "text/x-python",
   "name": "python",
   "nbconvert_exporter": "python",
   "pygments_lexer": "ipython2",
   "version": "2.7.11"
  }
 },
 "nbformat": 4,
 "nbformat_minor": 0
}
