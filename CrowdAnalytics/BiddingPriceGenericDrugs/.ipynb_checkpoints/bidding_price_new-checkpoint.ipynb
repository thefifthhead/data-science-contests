{
 "cells": [
  {
   "cell_type": "code",
   "execution_count": 63,
   "metadata": {
    "collapsed": false
   },
   "outputs": [],
   "source": [
    "import pandas as pd\n",
    "import numpy as np\n",
    "import math\n",
    "#import graphlab as gl\n",
    "from sklearn import linear_model\n",
    "from sklearn.cross_validation import train_test_split\n",
    "from sklearn.metrics import mean_squared_error\n",
    "import matplotlib.pyplot as plt\n",
    "from datetime import datetime\n",
    "from sklearn.grid_search import GridSearchCV\n",
    "from sklearn.ensemble import RandomForestRegressor\n",
    "from sklearn.svm import SVR\n",
    "from sklearn.ensemble import GradientBoostingRegressor\n",
    "import csv\n",
    "from sklearn import cross_validation\n",
    "%matplotlib inline"
   ]
  },
  {
   "cell_type": "code",
   "execution_count": 64,
   "metadata": {
    "collapsed": false
   },
   "outputs": [],
   "source": [
    "df=pd.read_csv('data/data.csv')\n",
    "#df=pd.read_csv('data/CAX_Bidding_TRAIN_Molecule_3_4_5.csv')\n",
    "#df_test_pre_loe = pd.read_csv('data/CAX_Bidding_TEST_Molecule_6_Pre_LOE.csv')\n",
    "df['Start_date'] = pd.to_datetime(df['Start_date'])\n",
    "df['End_date_including_extension'] = pd.to_datetime(df['End_date_including_extension'])"
   ]
  },
  {
   "cell_type": "code",
   "execution_count": 65,
   "metadata": {
    "collapsed": false
   },
   "outputs": [],
   "source": [
    "def agg_competitor(data, index_start, index_end, skip):\n",
    "    copy = data.copy()\n",
    "    copy['Competitor'] = copy.iloc[:,1].map(lambda x: 0)\n",
    "    i=index_start\n",
    "    while i < index_end:\n",
    "        copy.ix[:,i] = ~copy.ix[:,i].isnull()*1\n",
    "        copy['Competitor'] = copy.iloc[:,i] + copy['Competitor']\n",
    "        i=i+skip\n",
    "    return copy['Competitor']\n",
    "\n",
    "p_mol_mean_price_pre_loe = {}\n",
    "\n",
    "def max_price_per_presentation(data):\n",
    "        p_mol_mean_price_pre_loe['Molecule3'] = data[(data['Molecule'] == 'Molecule3') & (data['Start_date'] <= datetime(2009,3,1,0,0,0))]['Winning_price_per_standard_unit'].mean()\n",
    "        p_mol_mean_price_pre_loe['Molecule4'] = data[(data['Molecule'] == 'Molecule4') & (data['Start_date'] <= datetime(2011,3,1,0,0,0))]['Winning_price_per_standard_unit'].mean()\n",
    "        p_mol_mean_price_pre_loe['Molecule5'] = data[(data['Molecule'] == 'Molecule5') & (data['Start_date'] <= datetime(2011,3,1,0,0,0))]['Winning_price_per_standard_unit'].mean()\n",
    "        p_mol_mean_price_pre_loe['Molecule6'] = data[data['Molecule'] == 'Molecule6']['Winning_price_per_standard_unit'].mean()\n",
    "\n",
    "def days_since_loe(molecule_name, start_date):\n",
    "    if molecule_name =='Molecule3':\n",
    "        return float((start_date - datetime(2009,3,1,0,0,0)).days)\n",
    "    else:\n",
    "        return float((start_date - datetime(2011,1,1,0,0,0)).days)\n",
    "\n",
    "def build_presentation_price_dict(data):\n",
    "    p_presentation_dict  = {}\n",
    "    for item in data['Presentation'].unique():\n",
    "        row = data.ix[data[data['Presentation'] == item]['Winning_price_per_standard_unit'].idxmax()]\n",
    "        p_presentation_dict[row['Presentation']] = row['Winning_price_per_standard_unit']\n",
    "#        if row['Tenure'] > 0:\n",
    "#            p_presentation_dict[row['Presentation']] = row['Winning_price_per_standard_unit']*row['Tenure']/30\n",
    "#        else:\n",
    "#            p_presentation_dict[row['Presentation']] = row['Winning_price_per_standard_unit']\n",
    "    return p_presentation_dict"
   ]
  },
  {
   "cell_type": "code",
   "execution_count": 66,
   "metadata": {
    "collapsed": false
   },
   "outputs": [],
   "source": [
    "max_price_per_presentation(df)"
   ]
  },
  {
   "cell_type": "code",
   "execution_count": 67,
   "metadata": {
    "collapsed": false
   },
   "outputs": [
    {
     "data": {
      "text/plain": [
       "7.2733944107142845"
      ]
     },
     "execution_count": 67,
     "metadata": {},
     "output_type": "execute_result"
    }
   ],
   "source": [
    "p_mol_mean_price_pre_loe['Molecule3']"
   ]
  },
  {
   "cell_type": "code",
   "execution_count": 68,
   "metadata": {
    "collapsed": false
   },
   "outputs": [],
   "source": [
    "df['Competitor'] = agg_competitor(df, 16, 34, 2)\n",
    "col=['Molecule','Account','Winning_price_per_standard_unit','Province','Region','Tender_Type', 'Tender_Standard_Unit_per_year', 'Length_of_contract_in_Months', 'Presentation', 'Start_date', 'End_date_including_extension', 'Competitor']\n",
    "df2 = df[col]\n",
    "df2 = df2.dropna()\n",
    "df2.loc[:,'Tenure'] = df2.apply(lambda row: (days_since_loe(row['Molecule'], row['Start_date']))/30 , axis=1)\n",
    "df2.loc[:,'Contract_Length'] = df2.apply(lambda row: (days_since_loe(row['Molecule'], row['End_date_including_extension']))/30 , axis=1)\n",
    "p_presentation_dict_train = build_presentation_price_dict(df2)\n",
    "max_presentation_train = max_price_per_presentation(df2)\n",
    "df2.loc[:,'Presentation'] = df2.apply(lambda row: p_mol_mean_price_pre_loe[row['Molecule']]/p_presentation_dict_train[row['Presentation']], axis=1)"
   ]
  },
  {
   "cell_type": "code",
   "execution_count": 69,
   "metadata": {
    "collapsed": false
   },
   "outputs": [],
   "source": [
    "def transform_length_of_contract(row):\n",
    "    value = 0\n",
    "    if(row['Length_of_contract_in_Months'] <= 12):\n",
    "        value = (row['Length_of_contract_in_Months'])*(row['Length_of_contract_in_Months'])\n",
    "    return value\n",
    "    "
   ]
  },
  {
   "cell_type": "code",
   "execution_count": 70,
   "metadata": {
    "collapsed": false
   },
   "outputs": [],
   "source": [
    "#df2.loc[:,'Length_of_contract_in_Months'] = df2.apply(lambda row: transform_length_of_contract(row), axis=1)\n",
    "df2['Extreme_Contract'] = df2.apply(lambda x: transform_length_of_contract(x),axis=1)"
   ]
  },
  {
   "cell_type": "code",
   "execution_count": 71,
   "metadata": {
    "collapsed": false
   },
   "outputs": [
    {
     "data": {
      "text/html": [
       "<div>\n",
       "<table border=\"1\" class=\"dataframe\">\n",
       "  <thead>\n",
       "    <tr style=\"text-align: right;\">\n",
       "      <th></th>\n",
       "      <th>Molecule</th>\n",
       "      <th>Account</th>\n",
       "      <th>Winning_price_per_standard_unit</th>\n",
       "      <th>Province</th>\n",
       "      <th>Region</th>\n",
       "      <th>Tender_Type</th>\n",
       "      <th>Tender_Standard_Unit_per_year</th>\n",
       "      <th>Length_of_contract_in_Months</th>\n",
       "      <th>Presentation</th>\n",
       "      <th>Start_date</th>\n",
       "      <th>End_date_including_extension</th>\n",
       "      <th>Competitor</th>\n",
       "      <th>Tenure</th>\n",
       "      <th>Contract_Length</th>\n",
       "      <th>Extreme_Contract</th>\n",
       "    </tr>\n",
       "  </thead>\n",
       "  <tbody>\n",
       "    <tr>\n",
       "      <th>0</th>\n",
       "      <td>Molecule3</td>\n",
       "      <td>Account95</td>\n",
       "      <td>1.56353</td>\n",
       "      <td>Provice21</td>\n",
       "      <td>Region6</td>\n",
       "      <td>Tender Type1</td>\n",
       "      <td>69673</td>\n",
       "      <td>36</td>\n",
       "      <td>1.49351</td>\n",
       "      <td>2009-01-01</td>\n",
       "      <td>2014-12-31</td>\n",
       "      <td>0</td>\n",
       "      <td>-1.966667</td>\n",
       "      <td>71.033333</td>\n",
       "      <td>0</td>\n",
       "    </tr>\n",
       "    <tr>\n",
       "      <th>1</th>\n",
       "      <td>Molecule3</td>\n",
       "      <td>Account95</td>\n",
       "      <td>1.56353</td>\n",
       "      <td>Provice21</td>\n",
       "      <td>Region6</td>\n",
       "      <td>Tender Type1</td>\n",
       "      <td>56966</td>\n",
       "      <td>20</td>\n",
       "      <td>1.49351</td>\n",
       "      <td>2010-01-05</td>\n",
       "      <td>2013-09-30</td>\n",
       "      <td>5</td>\n",
       "      <td>10.333333</td>\n",
       "      <td>55.800000</td>\n",
       "      <td>0</td>\n",
       "    </tr>\n",
       "    <tr>\n",
       "      <th>2</th>\n",
       "      <td>Molecule3</td>\n",
       "      <td>Account111</td>\n",
       "      <td>1.77000</td>\n",
       "      <td>Provice15</td>\n",
       "      <td>Region13</td>\n",
       "      <td>Tender Type1</td>\n",
       "      <td>211912</td>\n",
       "      <td>24</td>\n",
       "      <td>1.49351</td>\n",
       "      <td>2010-01-05</td>\n",
       "      <td>2012-06-30</td>\n",
       "      <td>4</td>\n",
       "      <td>10.333333</td>\n",
       "      <td>40.566667</td>\n",
       "      <td>0</td>\n",
       "    </tr>\n",
       "    <tr>\n",
       "      <th>3</th>\n",
       "      <td>Molecule3</td>\n",
       "      <td>Account91</td>\n",
       "      <td>1.77000</td>\n",
       "      <td>Provice10</td>\n",
       "      <td>Region9</td>\n",
       "      <td>Tender Type1</td>\n",
       "      <td>26050</td>\n",
       "      <td>24</td>\n",
       "      <td>1.49351</td>\n",
       "      <td>2010-01-07</td>\n",
       "      <td>2012-09-30</td>\n",
       "      <td>5</td>\n",
       "      <td>10.400000</td>\n",
       "      <td>43.633333</td>\n",
       "      <td>0</td>\n",
       "    </tr>\n",
       "    <tr>\n",
       "      <th>4</th>\n",
       "      <td>Molecule3</td>\n",
       "      <td>Account51</td>\n",
       "      <td>1.50000</td>\n",
       "      <td>Provice32</td>\n",
       "      <td>Region7</td>\n",
       "      <td>Tender Type1</td>\n",
       "      <td>192786</td>\n",
       "      <td>12</td>\n",
       "      <td>1.49351</td>\n",
       "      <td>2010-01-08</td>\n",
       "      <td>2012-05-31</td>\n",
       "      <td>4</td>\n",
       "      <td>10.433333</td>\n",
       "      <td>39.566667</td>\n",
       "      <td>144</td>\n",
       "    </tr>\n",
       "  </tbody>\n",
       "</table>\n",
       "</div>"
      ],
      "text/plain": [
       "    Molecule     Account  Winning_price_per_standard_unit   Province  \\\n",
       "0  Molecule3   Account95                          1.56353  Provice21   \n",
       "1  Molecule3   Account95                          1.56353  Provice21   \n",
       "2  Molecule3  Account111                          1.77000  Provice15   \n",
       "3  Molecule3   Account91                          1.77000  Provice10   \n",
       "4  Molecule3   Account51                          1.50000  Provice32   \n",
       "\n",
       "     Region   Tender_Type  Tender_Standard_Unit_per_year  \\\n",
       "0   Region6  Tender Type1                          69673   \n",
       "1   Region6  Tender Type1                          56966   \n",
       "2  Region13  Tender Type1                         211912   \n",
       "3   Region9  Tender Type1                          26050   \n",
       "4   Region7  Tender Type1                         192786   \n",
       "\n",
       "   Length_of_contract_in_Months  Presentation Start_date  \\\n",
       "0                            36       1.49351 2009-01-01   \n",
       "1                            20       1.49351 2010-01-05   \n",
       "2                            24       1.49351 2010-01-05   \n",
       "3                            24       1.49351 2010-01-07   \n",
       "4                            12       1.49351 2010-01-08   \n",
       "\n",
       "  End_date_including_extension  Competitor     Tenure  Contract_Length  \\\n",
       "0                   2014-12-31           0  -1.966667        71.033333   \n",
       "1                   2013-09-30           5  10.333333        55.800000   \n",
       "2                   2012-06-30           4  10.333333        40.566667   \n",
       "3                   2012-09-30           5  10.400000        43.633333   \n",
       "4                   2012-05-31           4  10.433333        39.566667   \n",
       "\n",
       "   Extreme_Contract  \n",
       "0                 0  \n",
       "1                 0  \n",
       "2                 0  \n",
       "3                 0  \n",
       "4               144  "
      ]
     },
     "execution_count": 71,
     "metadata": {},
     "output_type": "execute_result"
    }
   ],
   "source": [
    "df2.head()"
   ]
  },
  {
   "cell_type": "code",
   "execution_count": 72,
   "metadata": {
    "collapsed": false
   },
   "outputs": [],
   "source": [
    "df2=df2[df2['Tenure'] >= 0]\n",
    "df2=df2.drop(['Molecule', 'Start_date', 'End_date_including_extension', 'Account'],1)\n",
    "\n"
   ]
  },
  {
   "cell_type": "code",
   "execution_count": 73,
   "metadata": {
    "collapsed": false
   },
   "outputs": [],
   "source": [
    "df2 = df2.dropna()"
   ]
  },
  {
   "cell_type": "code",
   "execution_count": 74,
   "metadata": {
    "collapsed": false
   },
   "outputs": [
    {
     "data": {
      "text/plain": [
       "Index([u'Winning_price_per_standard_unit', u'Province', u'Region',\n",
       "       u'Tender_Type', u'Tender_Standard_Unit_per_year',\n",
       "       u'Length_of_contract_in_Months', u'Presentation', u'Competitor',\n",
       "       u'Tenure', u'Contract_Length', u'Extreme_Contract'],\n",
       "      dtype='object')"
      ]
     },
     "execution_count": 74,
     "metadata": {},
     "output_type": "execute_result"
    }
   ],
   "source": [
    "df2.columns"
   ]
  },
  {
   "cell_type": "code",
   "execution_count": 75,
   "metadata": {
    "collapsed": true
   },
   "outputs": [],
   "source": [
    "df2=pd.get_dummies(df2)\n",
    "y=df2.as_matrix()[:,0]"
   ]
  },
  {
   "cell_type": "code",
   "execution_count": 76,
   "metadata": {
    "collapsed": false
   },
   "outputs": [
    {
     "data": {
      "text/html": [
       "<div>\n",
       "<table border=\"1\" class=\"dataframe\">\n",
       "  <thead>\n",
       "    <tr style=\"text-align: right;\">\n",
       "      <th></th>\n",
       "      <th>Winning_price_per_standard_unit</th>\n",
       "      <th>Tender_Standard_Unit_per_year</th>\n",
       "      <th>Length_of_contract_in_Months</th>\n",
       "      <th>Presentation</th>\n",
       "      <th>Competitor</th>\n",
       "      <th>Tenure</th>\n",
       "      <th>Contract_Length</th>\n",
       "      <th>Extreme_Contract</th>\n",
       "      <th>Province_Provice1</th>\n",
       "      <th>Province_Provice10</th>\n",
       "      <th>...</th>\n",
       "      <th>Region_Region6</th>\n",
       "      <th>Region_Region7</th>\n",
       "      <th>Region_Region8</th>\n",
       "      <th>Region_Region9</th>\n",
       "      <th>Tender_Type_Tender Type1</th>\n",
       "      <th>Tender_Type_Tender Type2</th>\n",
       "      <th>Tender_Type_Tender Type3</th>\n",
       "      <th>Tender_Type_Tender Type4</th>\n",
       "      <th>Tender_Type_Tender Type5</th>\n",
       "      <th>Tender_Type_Tender Type6</th>\n",
       "    </tr>\n",
       "  </thead>\n",
       "  <tbody>\n",
       "    <tr>\n",
       "      <th>1</th>\n",
       "      <td>1.56353</td>\n",
       "      <td>56966</td>\n",
       "      <td>20</td>\n",
       "      <td>1.49351</td>\n",
       "      <td>5</td>\n",
       "      <td>10.333333</td>\n",
       "      <td>55.800000</td>\n",
       "      <td>0</td>\n",
       "      <td>0</td>\n",
       "      <td>0</td>\n",
       "      <td>...</td>\n",
       "      <td>1</td>\n",
       "      <td>0</td>\n",
       "      <td>0</td>\n",
       "      <td>0</td>\n",
       "      <td>1</td>\n",
       "      <td>0</td>\n",
       "      <td>0</td>\n",
       "      <td>0</td>\n",
       "      <td>0</td>\n",
       "      <td>0</td>\n",
       "    </tr>\n",
       "    <tr>\n",
       "      <th>2</th>\n",
       "      <td>1.77000</td>\n",
       "      <td>211912</td>\n",
       "      <td>24</td>\n",
       "      <td>1.49351</td>\n",
       "      <td>4</td>\n",
       "      <td>10.333333</td>\n",
       "      <td>40.566667</td>\n",
       "      <td>0</td>\n",
       "      <td>0</td>\n",
       "      <td>0</td>\n",
       "      <td>...</td>\n",
       "      <td>0</td>\n",
       "      <td>0</td>\n",
       "      <td>0</td>\n",
       "      <td>0</td>\n",
       "      <td>1</td>\n",
       "      <td>0</td>\n",
       "      <td>0</td>\n",
       "      <td>0</td>\n",
       "      <td>0</td>\n",
       "      <td>0</td>\n",
       "    </tr>\n",
       "    <tr>\n",
       "      <th>3</th>\n",
       "      <td>1.77000</td>\n",
       "      <td>26050</td>\n",
       "      <td>24</td>\n",
       "      <td>1.49351</td>\n",
       "      <td>5</td>\n",
       "      <td>10.400000</td>\n",
       "      <td>43.633333</td>\n",
       "      <td>0</td>\n",
       "      <td>0</td>\n",
       "      <td>1</td>\n",
       "      <td>...</td>\n",
       "      <td>0</td>\n",
       "      <td>0</td>\n",
       "      <td>0</td>\n",
       "      <td>1</td>\n",
       "      <td>1</td>\n",
       "      <td>0</td>\n",
       "      <td>0</td>\n",
       "      <td>0</td>\n",
       "      <td>0</td>\n",
       "      <td>0</td>\n",
       "    </tr>\n",
       "    <tr>\n",
       "      <th>4</th>\n",
       "      <td>1.50000</td>\n",
       "      <td>192786</td>\n",
       "      <td>12</td>\n",
       "      <td>1.49351</td>\n",
       "      <td>4</td>\n",
       "      <td>10.433333</td>\n",
       "      <td>39.566667</td>\n",
       "      <td>144</td>\n",
       "      <td>0</td>\n",
       "      <td>0</td>\n",
       "      <td>...</td>\n",
       "      <td>0</td>\n",
       "      <td>1</td>\n",
       "      <td>0</td>\n",
       "      <td>0</td>\n",
       "      <td>1</td>\n",
       "      <td>0</td>\n",
       "      <td>0</td>\n",
       "      <td>0</td>\n",
       "      <td>0</td>\n",
       "      <td>0</td>\n",
       "    </tr>\n",
       "    <tr>\n",
       "      <th>5</th>\n",
       "      <td>1.45000</td>\n",
       "      <td>93142</td>\n",
       "      <td>36</td>\n",
       "      <td>1.49351</td>\n",
       "      <td>4</td>\n",
       "      <td>10.533333</td>\n",
       "      <td>62.866667</td>\n",
       "      <td>0</td>\n",
       "      <td>0</td>\n",
       "      <td>0</td>\n",
       "      <td>...</td>\n",
       "      <td>0</td>\n",
       "      <td>0</td>\n",
       "      <td>0</td>\n",
       "      <td>0</td>\n",
       "      <td>1</td>\n",
       "      <td>0</td>\n",
       "      <td>0</td>\n",
       "      <td>0</td>\n",
       "      <td>0</td>\n",
       "      <td>0</td>\n",
       "    </tr>\n",
       "  </tbody>\n",
       "</table>\n",
       "<p>5 rows × 83 columns</p>\n",
       "</div>"
      ],
      "text/plain": [
       "   Winning_price_per_standard_unit  Tender_Standard_Unit_per_year  \\\n",
       "1                          1.56353                          56966   \n",
       "2                          1.77000                         211912   \n",
       "3                          1.77000                          26050   \n",
       "4                          1.50000                         192786   \n",
       "5                          1.45000                          93142   \n",
       "\n",
       "   Length_of_contract_in_Months  Presentation  Competitor     Tenure  \\\n",
       "1                            20       1.49351           5  10.333333   \n",
       "2                            24       1.49351           4  10.333333   \n",
       "3                            24       1.49351           5  10.400000   \n",
       "4                            12       1.49351           4  10.433333   \n",
       "5                            36       1.49351           4  10.533333   \n",
       "\n",
       "   Contract_Length  Extreme_Contract  Province_Provice1  Province_Provice10  \\\n",
       "1        55.800000                 0                  0                   0   \n",
       "2        40.566667                 0                  0                   0   \n",
       "3        43.633333                 0                  0                   1   \n",
       "4        39.566667               144                  0                   0   \n",
       "5        62.866667                 0                  0                   0   \n",
       "\n",
       "             ...             Region_Region6  Region_Region7  Region_Region8  \\\n",
       "1            ...                          1               0               0   \n",
       "2            ...                          0               0               0   \n",
       "3            ...                          0               0               0   \n",
       "4            ...                          0               1               0   \n",
       "5            ...                          0               0               0   \n",
       "\n",
       "   Region_Region9  Tender_Type_Tender Type1  Tender_Type_Tender Type2  \\\n",
       "1               0                         1                         0   \n",
       "2               0                         1                         0   \n",
       "3               1                         1                         0   \n",
       "4               0                         1                         0   \n",
       "5               0                         1                         0   \n",
       "\n",
       "   Tender_Type_Tender Type3  Tender_Type_Tender Type4  \\\n",
       "1                         0                         0   \n",
       "2                         0                         0   \n",
       "3                         0                         0   \n",
       "4                         0                         0   \n",
       "5                         0                         0   \n",
       "\n",
       "   Tender_Type_Tender Type5  Tender_Type_Tender Type6  \n",
       "1                         0                         0  \n",
       "2                         0                         0  \n",
       "3                         0                         0  \n",
       "4                         0                         0  \n",
       "5                         0                         0  \n",
       "\n",
       "[5 rows x 83 columns]"
      ]
     },
     "execution_count": 76,
     "metadata": {},
     "output_type": "execute_result"
    }
   ],
   "source": [
    "df2.head()"
   ]
  },
  {
   "cell_type": "code",
   "execution_count": 77,
   "metadata": {
    "collapsed": false
   },
   "outputs": [
    {
     "data": {
      "text/plain": [
       "(640,)"
      ]
     },
     "execution_count": 77,
     "metadata": {},
     "output_type": "execute_result"
    }
   ],
   "source": [
    "y.shape"
   ]
  },
  {
   "cell_type": "code",
   "execution_count": 78,
   "metadata": {
    "collapsed": true
   },
   "outputs": [],
   "source": [
    "X=df2.as_matrix()[:,1:]"
   ]
  },
  {
   "cell_type": "code",
   "execution_count": 79,
   "metadata": {
    "collapsed": false
   },
   "outputs": [
    {
     "data": {
      "text/plain": [
       "(640, 82)"
      ]
     },
     "execution_count": 79,
     "metadata": {},
     "output_type": "execute_result"
    }
   ],
   "source": [
    "X.shape"
   ]
  },
  {
   "cell_type": "code",
   "execution_count": 80,
   "metadata": {
    "collapsed": true
   },
   "outputs": [],
   "source": [
    "X_train,X_test,y_train,y_test=train_test_split(X, y, test_size=0.33, random_state=42)"
   ]
  },
  {
   "cell_type": "markdown",
   "metadata": {},
   "source": [
    "#params = {'n_estimators': 500, 'max_depth': 4, 'min_samples_split': 1,\n",
    "#          'learning_rate': 0.01, 'loss': 'ls'}\n",
    "\n",
    "gradient_boosting_grid = {'max_depth': [3, 6, 10],\n",
    "                     'min_samples_split': [1, 4, 8],\n",
    "                     'learning_rate': [0.01],\n",
    "                     'loss': ['ls'],\n",
    "                     'n_estimators': [100, 300, 500]}\n",
    "\n",
    "rf_gridsearch = GridSearchCV(GradientBoostingRegressor(),\n",
    "                            gradient_boosting_grid,\n",
    "                            n_jobs=-1,\n",
    "                            verbose=True,\n",
    "                            scoring='mean_squared_error')\n",
    "#rf_gridsearch.fit(train_x, train_y)\n",
    "k_fold = cross_validation.KFold(len(X), 10)\n",
    "for k, (train, test) in enumerate(k_fold):\n",
    "    rf_gridsearch.fit(X[train], y[train])\n",
    "    print(\"[fold {0}] mse: {1:.5f}, score: {2:.5f}\".\n",
    "          format(k, mean_squared_error(y[test], rf_gridsearch.predict(X[test])), rf_gridsearch.score(X[test], y[test])))\n",
    "\n",
    "print \"best parameters:\", rf_gridsearch.best_params_\n",
    "\n",
    "#best_rf_model = rf_gridsearch.best_estimator_"
   ]
  },
  {
   "cell_type": "code",
   "execution_count": 81,
   "metadata": {
    "collapsed": false
   },
   "outputs": [
    {
     "name": "stdout",
     "output_type": "stream",
     "text": [
      "mse: 1.21604231536\n",
      "score: 0.830519110834\n"
     ]
    }
   ],
   "source": [
    "\n",
    "# Fit regression model\n",
    "params = {'n_estimators': 500, 'max_depth': 6, 'min_samples_split': 3,\n",
    "          'learning_rate': 0.01, 'loss': 'ls'}\n",
    "clf = GradientBoostingRegressor(**params)\n",
    "clf.fit(X_train, y_train)\n",
    "\n",
    "print \"mse:\", mean_squared_error(y_test, clf.predict(X_test))\n",
    "print \"score:\", clf.score(X_test, y_test)"
   ]
  },
  {
   "cell_type": "markdown",
   "metadata": {
    "collapsed": false
   },
   "source": [
    "\n",
    "# Fit regression model\n",
    "params = {'n_estimators': 500, 'max_depth': 6, 'min_samples_split': 3,\n",
    "          'learning_rate': 0.01, 'loss': 'ls'}\n",
    "clf = GradientBoostingRegressor(**params)\n",
    "k_fold = cross_validation.KFold(len(X), 10)\n",
    "print(\"Alpha parameters maximising the generalization score on different\")\n",
    "print(\"subsets of the data:\")\n",
    "for k, (train, test) in enumerate(k_fold):\n",
    "    clf.fit(X[train], y[train])\n",
    "    print(\"[fold {0}] mse: {1:.5f}, score: {2:.5f}\".\n",
    "          format(k, mean_squared_error(y[test], clf.predict(X[test])), clf.score(X[test], y[test])))\n"
   ]
  },
  {
   "cell_type": "code",
   "execution_count": 82,
   "metadata": {
    "collapsed": true
   },
   "outputs": [],
   "source": [
    "#X_train,X_test,y_train,y_test=train_test_split(X,y)"
   ]
  },
  {
   "cell_type": "code",
   "execution_count": null,
   "metadata": {
    "collapsed": false
   },
   "outputs": [],
   "source": [
    "\n",
    "\n",
    "#mse = mean_squared_error(y_test, clf.predict(X_test))\n",
    "#print(\"MSE: %.4f\" % mse)\n",
    "#print(\"MSE: %.4f\" % clf.score(X_test, y_test))\n",
    "\n",
    "\n"
   ]
  },
  {
   "cell_type": "code",
   "execution_count": null,
   "metadata": {
    "collapsed": false
   },
   "outputs": [],
   "source": [
    "test_score = np.zeros((params['n_estimators'],), dtype=np.float64)\n",
    "\n",
    "for i, y_pred in enumerate(clf.staged_predict(X_test)):\n",
    "    test_score[i] = clf.loss_(y_test, y_pred)\n",
    "\n",
    "plt.figure(figsize=(12, 6))\n",
    "plt.subplot(1, 2, 1)\n",
    "plt.title('Deviance')\n",
    "plt.plot(np.arange(params['n_estimators']) + 1, clf.train_score_, 'b-',\n",
    "         label='Training Set Deviance')\n",
    "plt.plot(np.arange(params['n_estimators']) + 1, test_score, 'r-',\n",
    "         label='Test Set Deviance')\n",
    "plt.legend(loc='upper right')\n",
    "plt.xlabel('Boosting Iterations')\n",
    "plt.ylabel('Deviance')"
   ]
  },
  {
   "cell_type": "code",
   "execution_count": null,
   "metadata": {
    "collapsed": false
   },
   "outputs": [],
   "source": [
    "# Plot feature importance\n",
    "feature_importance = clf.feature_importances_\n",
    "# make importances relative to max importance\n",
    "feature_importance = 100.0 * (feature_importance / feature_importance.max())\n",
    "sorted_idx = np.argsort(feature_importance)\n",
    "#pos = np.arange(sorted_idx.shape[0]) + .5\n",
    "#plt.subplot(1, 2, 2)\n",
    "#plt.barh(pos, feature_importance[sorted_idx], align='center')\n",
    "#plt.yticks(pos, df2.feature_importance[sorted_idx])\n",
    "#plt.xlabel('Relative Importance')\n",
    "#plt.title('Variable Importance')\n",
    "#plt.show()"
   ]
  },
  {
   "cell_type": "code",
   "execution_count": null,
   "metadata": {
    "collapsed": false
   },
   "outputs": [],
   "source": [
    "fig, ax = plt.subplots()\n",
    "ax.scatter(y_test, clf.predict(X_test))\n",
    "ax.plot([y_test.min(), y_test.max()], [y_test.min(), y_test.max()], 'k--', lw=4)\n",
    "ax.set_xlabel('Measured')\n",
    "ax.set_ylabel('Predicted')\n",
    "plt.show()"
   ]
  },
  {
   "cell_type": "code",
   "execution_count": null,
   "metadata": {
    "collapsed": false
   },
   "outputs": [],
   "source": [
    "reg=linear_model.LinearRegression()\n",
    "reg.fit(X_train,y_train)\n",
    "reg.score(X_test,y_test)\n",
    "mean_squared_error(y_test,reg.predict(X_test))"
   ]
  },
  {
   "cell_type": "code",
   "execution_count": null,
   "metadata": {
    "collapsed": false
   },
   "outputs": [],
   "source": [
    "fig, ax = plt.subplots()\n",
    "ax.scatter(y_test, reg.predict(X_test))\n",
    "ax.plot([y_test.min(), y_test.max()], [y_test.min(), y_test.max()], 'k--', lw=4)\n",
    "ax.set_xlabel('Measured')\n",
    "ax.set_ylabel('Predicted')\n",
    "plt.show()"
   ]
  },
  {
   "cell_type": "code",
   "execution_count": null,
   "metadata": {
    "collapsed": false
   },
   "outputs": [],
   "source": [
    "#y_test[0:10]"
   ]
  },
  {
   "cell_type": "code",
   "execution_count": null,
   "metadata": {
    "collapsed": false
   },
   "outputs": [],
   "source": [
    "#y_pred[0:10]"
   ]
  },
  {
   "cell_type": "code",
   "execution_count": null,
   "metadata": {
    "collapsed": false
   },
   "outputs": [],
   "source": []
  },
  {
   "cell_type": "code",
   "execution_count": 83,
   "metadata": {
    "collapsed": false
   },
   "outputs": [],
   "source": [
    "df_test=pd.read_csv('data/CAX_Bidding_TEST_Molecule_6_Post_LOE.csv')\n",
    "df_test['Start_date']=pd.to_datetime(df_test['Start_date'])\n",
    "df_test['End_date_including_extension']=pd.to_datetime(df_test['End_date_including_extension'])"
   ]
  },
  {
   "cell_type": "code",
   "execution_count": 84,
   "metadata": {
    "collapsed": false
   },
   "outputs": [],
   "source": [
    "df_test['Competitor'] = agg_competitor(df_test, 16, 34, 2)\n",
    "col=['Molecule','Account','Province','Region','Tender_Type', 'Tender_Standard_Unit_per_year', 'Length_of_contract_in_Months', 'Presentation', 'Start_date', 'End_date_including_extension', 'Competitor']\n",
    "df_test = df_test[col]\n",
    "df_test.loc[:,'Tenure'] = df_test.apply(lambda row: (days_since_loe(row['Molecule'], row['Start_date']))/30, axis=1)\n",
    "df_test.loc[:,'Contract_Length'] = df_test.apply(lambda row: (days_since_loe(row['Molecule'], row['End_date_including_extension']))/30 , axis=1)\n",
    "df_test.loc[:,'Presentation'] = df_test.apply(lambda row: p_mol_mean_price_pre_loe[row['Molecule']]/p_presentation_dict_train[row['Presentation']], axis=1)\n",
    "#p_test_presentation_dict_train = build_presentation_price_dict(df_test)\n",
    "#max_presentation_train = max_price_per_presentation(df_test)\n",
    "#df_test.loc[:,'Length_of_contract_in_Months'] = df_test.apply(lambda row: row['Length_of_contract_in_Months'], axis=1)\n",
    "df_test['Extreme_Contract'] = df_test.apply(lambda x: transform_length_of_contract(x),axis=1)"
   ]
  },
  {
   "cell_type": "code",
   "execution_count": 85,
   "metadata": {
    "collapsed": false
   },
   "outputs": [],
   "source": [
    "#df_test"
   ]
  },
  {
   "cell_type": "code",
   "execution_count": 86,
   "metadata": {
    "collapsed": false
   },
   "outputs": [],
   "source": [
    "#df_pres=pd.read_csv('data/CAX_Bidding_TEST_Molecule_6_Pre_LOE.csv')\n",
    "#col_pres =['Molecule', 'Region','Winning_price_per_standard_unit', 'Length_of_contract_in_Months', 'Presentation', 'Start_date']\n",
    "\n",
    "#df_pres = df_pres[col_pres]\n",
    "#df_pres['Tenure'] = df_pres.iloc[:,1].map(lambda x: -1)\n",
    "\n",
    "#p_test_presentation_dict = build_presentation_price_dict(df_pres)\n",
    "#max_test_presentation = max_price_per_presentation(df_pres)\n"
   ]
  },
  {
   "cell_type": "code",
   "execution_count": 87,
   "metadata": {
    "collapsed": false
   },
   "outputs": [],
   "source": [
    "#p_test_presentation_dict"
   ]
  },
  {
   "cell_type": "code",
   "execution_count": 88,
   "metadata": {
    "collapsed": true
   },
   "outputs": [],
   "source": [
    "#df_test.loc[:,'Presentation'] = df_test.apply(lambda row: np.log(p_test_presentation_dict[row['Presentation']]/max_test_presentation), axis=1)"
   ]
  },
  {
   "cell_type": "code",
   "execution_count": 89,
   "metadata": {
    "collapsed": false
   },
   "outputs": [
    {
     "data": {
      "text/plain": [
       "Index([u'Molecule', u'Account', u'Province', u'Region', u'Tender_Type',\n",
       "       u'Tender_Standard_Unit_per_year', u'Length_of_contract_in_Months',\n",
       "       u'Presentation', u'Start_date', u'End_date_including_extension',\n",
       "       u'Competitor', u'Tenure', u'Contract_Length', u'Extreme_Contract'],\n",
       "      dtype='object')"
      ]
     },
     "execution_count": 89,
     "metadata": {},
     "output_type": "execute_result"
    }
   ],
   "source": [
    "df_test.columns"
   ]
  },
  {
   "cell_type": "code",
   "execution_count": 90,
   "metadata": {
    "collapsed": false
   },
   "outputs": [],
   "source": [
    "df_test=df_test.drop(['Molecule', 'Start_date', 'End_date_including_extension', 'Account', 'Province'],1)"
   ]
  },
  {
   "cell_type": "code",
   "execution_count": 91,
   "metadata": {
    "collapsed": false
   },
   "outputs": [
    {
     "data": {
      "text/plain": [
       "Index([u'Province', u'Region', u'Tender_Type',\n",
       "       u'Tender_Standard_Unit_per_year', u'Length_of_contract_in_Months',\n",
       "       u'Presentation', u'Competitor', u'Tenure', u'Contract_Length',\n",
       "       u'Extreme_Contract'],\n",
       "      dtype='object')"
      ]
     },
     "execution_count": 91,
     "metadata": {},
     "output_type": "execute_result"
    }
   ],
   "source": [
    "df_test.columns"
   ]
  },
  {
   "cell_type": "code",
   "execution_count": 92,
   "metadata": {
    "collapsed": false
   },
   "outputs": [
    {
     "data": {
      "text/html": [
       "<div>\n",
       "<table border=\"1\" class=\"dataframe\">\n",
       "  <thead>\n",
       "    <tr style=\"text-align: right;\">\n",
       "      <th></th>\n",
       "      <th>Tender_Standard_Unit_per_year</th>\n",
       "      <th>Length_of_contract_in_Months</th>\n",
       "      <th>Presentation</th>\n",
       "      <th>Competitor</th>\n",
       "      <th>Tenure</th>\n",
       "      <th>Contract_Length</th>\n",
       "      <th>Extreme_Contract</th>\n",
       "      <th>Province_Provice1</th>\n",
       "      <th>Province_Provice10</th>\n",
       "      <th>Province_Provice11</th>\n",
       "      <th>...</th>\n",
       "      <th>Region_Region5</th>\n",
       "      <th>Region_Region6</th>\n",
       "      <th>Region_Region7</th>\n",
       "      <th>Region_Region8</th>\n",
       "      <th>Region_Region9</th>\n",
       "      <th>Tender_Type_Tender Type1</th>\n",
       "      <th>Tender_Type_Tender Type2</th>\n",
       "      <th>Tender_Type_Tender Type3</th>\n",
       "      <th>Tender_Type_Tender Type4</th>\n",
       "      <th>Tender_Type_Tender Type6</th>\n",
       "    </tr>\n",
       "  </thead>\n",
       "  <tbody>\n",
       "    <tr>\n",
       "      <th>0</th>\n",
       "      <td>28800</td>\n",
       "      <td>4</td>\n",
       "      <td>0.725231</td>\n",
       "      <td>0</td>\n",
       "      <td>0.066667</td>\n",
       "      <td>6.000000</td>\n",
       "      <td>16</td>\n",
       "      <td>0</td>\n",
       "      <td>0</td>\n",
       "      <td>0</td>\n",
       "      <td>...</td>\n",
       "      <td>0</td>\n",
       "      <td>0</td>\n",
       "      <td>0</td>\n",
       "      <td>0</td>\n",
       "      <td>0</td>\n",
       "      <td>0</td>\n",
       "      <td>1</td>\n",
       "      <td>0</td>\n",
       "      <td>0</td>\n",
       "      <td>0</td>\n",
       "    </tr>\n",
       "    <tr>\n",
       "      <th>1</th>\n",
       "      <td>6500</td>\n",
       "      <td>36</td>\n",
       "      <td>0.725231</td>\n",
       "      <td>0</td>\n",
       "      <td>0.066667</td>\n",
       "      <td>42.466667</td>\n",
       "      <td>0</td>\n",
       "      <td>0</td>\n",
       "      <td>0</td>\n",
       "      <td>0</td>\n",
       "      <td>...</td>\n",
       "      <td>0</td>\n",
       "      <td>0</td>\n",
       "      <td>0</td>\n",
       "      <td>0</td>\n",
       "      <td>0</td>\n",
       "      <td>1</td>\n",
       "      <td>0</td>\n",
       "      <td>0</td>\n",
       "      <td>0</td>\n",
       "      <td>0</td>\n",
       "    </tr>\n",
       "    <tr>\n",
       "      <th>2</th>\n",
       "      <td>40000</td>\n",
       "      <td>15</td>\n",
       "      <td>0.725231</td>\n",
       "      <td>1</td>\n",
       "      <td>3.700000</td>\n",
       "      <td>18.900000</td>\n",
       "      <td>0</td>\n",
       "      <td>0</td>\n",
       "      <td>0</td>\n",
       "      <td>0</td>\n",
       "      <td>...</td>\n",
       "      <td>0</td>\n",
       "      <td>0</td>\n",
       "      <td>0</td>\n",
       "      <td>0</td>\n",
       "      <td>0</td>\n",
       "      <td>0</td>\n",
       "      <td>0</td>\n",
       "      <td>0</td>\n",
       "      <td>1</td>\n",
       "      <td>0</td>\n",
       "    </tr>\n",
       "    <tr>\n",
       "      <th>3</th>\n",
       "      <td>14699</td>\n",
       "      <td>8</td>\n",
       "      <td>0.725231</td>\n",
       "      <td>1</td>\n",
       "      <td>0.133333</td>\n",
       "      <td>12.133333</td>\n",
       "      <td>64</td>\n",
       "      <td>0</td>\n",
       "      <td>0</td>\n",
       "      <td>0</td>\n",
       "      <td>...</td>\n",
       "      <td>0</td>\n",
       "      <td>0</td>\n",
       "      <td>0</td>\n",
       "      <td>0</td>\n",
       "      <td>0</td>\n",
       "      <td>0</td>\n",
       "      <td>0</td>\n",
       "      <td>0</td>\n",
       "      <td>1</td>\n",
       "      <td>0</td>\n",
       "    </tr>\n",
       "    <tr>\n",
       "      <th>4</th>\n",
       "      <td>30960</td>\n",
       "      <td>10</td>\n",
       "      <td>0.725231</td>\n",
       "      <td>2</td>\n",
       "      <td>0.133333</td>\n",
       "      <td>17.200000</td>\n",
       "      <td>100</td>\n",
       "      <td>0</td>\n",
       "      <td>1</td>\n",
       "      <td>0</td>\n",
       "      <td>...</td>\n",
       "      <td>0</td>\n",
       "      <td>0</td>\n",
       "      <td>0</td>\n",
       "      <td>0</td>\n",
       "      <td>1</td>\n",
       "      <td>1</td>\n",
       "      <td>0</td>\n",
       "      <td>0</td>\n",
       "      <td>0</td>\n",
       "      <td>0</td>\n",
       "    </tr>\n",
       "  </tbody>\n",
       "</table>\n",
       "<p>5 rows × 76 columns</p>\n",
       "</div>"
      ],
      "text/plain": [
       "   Tender_Standard_Unit_per_year  Length_of_contract_in_Months  Presentation  \\\n",
       "0                          28800                             4      0.725231   \n",
       "1                           6500                            36      0.725231   \n",
       "2                          40000                            15      0.725231   \n",
       "3                          14699                             8      0.725231   \n",
       "4                          30960                            10      0.725231   \n",
       "\n",
       "   Competitor    Tenure  Contract_Length  Extreme_Contract  Province_Provice1  \\\n",
       "0           0  0.066667         6.000000                16                  0   \n",
       "1           0  0.066667        42.466667                 0                  0   \n",
       "2           1  3.700000        18.900000                 0                  0   \n",
       "3           1  0.133333        12.133333                64                  0   \n",
       "4           2  0.133333        17.200000               100                  0   \n",
       "\n",
       "   Province_Provice10  Province_Provice11            ...             \\\n",
       "0                   0                   0            ...              \n",
       "1                   0                   0            ...              \n",
       "2                   0                   0            ...              \n",
       "3                   0                   0            ...              \n",
       "4                   1                   0            ...              \n",
       "\n",
       "   Region_Region5  Region_Region6  Region_Region7  Region_Region8  \\\n",
       "0               0               0               0               0   \n",
       "1               0               0               0               0   \n",
       "2               0               0               0               0   \n",
       "3               0               0               0               0   \n",
       "4               0               0               0               0   \n",
       "\n",
       "   Region_Region9  Tender_Type_Tender Type1  Tender_Type_Tender Type2  \\\n",
       "0               0                         0                         1   \n",
       "1               0                         1                         0   \n",
       "2               0                         0                         0   \n",
       "3               0                         0                         0   \n",
       "4               1                         1                         0   \n",
       "\n",
       "   Tender_Type_Tender Type3  Tender_Type_Tender Type4  \\\n",
       "0                         0                         0   \n",
       "1                         0                         0   \n",
       "2                         0                         1   \n",
       "3                         0                         1   \n",
       "4                         0                         0   \n",
       "\n",
       "   Tender_Type_Tender Type6  \n",
       "0                         0  \n",
       "1                         0  \n",
       "2                         0  \n",
       "3                         0  \n",
       "4                         0  \n",
       "\n",
       "[5 rows x 76 columns]"
      ]
     },
     "execution_count": 92,
     "metadata": {},
     "output_type": "execute_result"
    }
   ],
   "source": [
    "df_test=pd.get_dummies(df_test)\n",
    "df_test.head()\n"
   ]
  },
  {
   "cell_type": "code",
   "execution_count": 93,
   "metadata": {
    "collapsed": true
   },
   "outputs": [],
   "source": [
    "x_test_mtx=df_test.as_matrix()"
   ]
  },
  {
   "cell_type": "code",
   "execution_count": 94,
   "metadata": {
    "collapsed": false
   },
   "outputs": [
    {
     "ename": "ValueError",
     "evalue": "X.shape[1] should be 82, not 76.",
     "output_type": "error",
     "traceback": [
      "\u001b[0;31m---------------------------------------------------------------------------\u001b[0m",
      "\u001b[0;31mValueError\u001b[0m                                Traceback (most recent call last)",
      "\u001b[0;32m<ipython-input-94-2d1b18485a6f>\u001b[0m in \u001b[0;36m<module>\u001b[0;34m()\u001b[0m\n\u001b[0;32m----> 1\u001b[0;31m \u001b[0my_test_pred\u001b[0m \u001b[0;34m=\u001b[0m \u001b[0mclf\u001b[0m\u001b[0;34m.\u001b[0m\u001b[0mpredict\u001b[0m\u001b[0;34m(\u001b[0m\u001b[0mx_test_mtx\u001b[0m\u001b[0;34m)\u001b[0m\u001b[0;34m\u001b[0m\u001b[0m\n\u001b[0m",
      "\u001b[0;32m/Users/ssing25/anaconda2/lib/python2.7/site-packages/sklearn/ensemble/gradient_boosting.pyc\u001b[0m in \u001b[0;36mpredict\u001b[0;34m(self, X)\u001b[0m\n\u001b[1;32m   1597\u001b[0m             \u001b[0mThe\u001b[0m \u001b[0mpredicted\u001b[0m \u001b[0mvalues\u001b[0m\u001b[0;34m.\u001b[0m\u001b[0;34m\u001b[0m\u001b[0m\n\u001b[1;32m   1598\u001b[0m         \"\"\"\n\u001b[0;32m-> 1599\u001b[0;31m         \u001b[0;32mreturn\u001b[0m \u001b[0mself\u001b[0m\u001b[0;34m.\u001b[0m\u001b[0mdecision_function\u001b[0m\u001b[0;34m(\u001b[0m\u001b[0mX\u001b[0m\u001b[0;34m)\u001b[0m\u001b[0;34m.\u001b[0m\u001b[0mravel\u001b[0m\u001b[0;34m(\u001b[0m\u001b[0;34m)\u001b[0m\u001b[0;34m\u001b[0m\u001b[0m\n\u001b[0m\u001b[1;32m   1600\u001b[0m \u001b[0;34m\u001b[0m\u001b[0m\n\u001b[1;32m   1601\u001b[0m     \u001b[0;32mdef\u001b[0m \u001b[0mstaged_predict\u001b[0m\u001b[0;34m(\u001b[0m\u001b[0mself\u001b[0m\u001b[0;34m,\u001b[0m \u001b[0mX\u001b[0m\u001b[0;34m)\u001b[0m\u001b[0;34m:\u001b[0m\u001b[0;34m\u001b[0m\u001b[0m\n",
      "\u001b[0;32m/Users/ssing25/anaconda2/lib/python2.7/site-packages/sklearn/ensemble/gradient_boosting.pyc\u001b[0m in \u001b[0;36mdecision_function\u001b[0;34m(self, X)\u001b[0m\n\u001b[1;32m   1100\u001b[0m         \"\"\"\n\u001b[1;32m   1101\u001b[0m         \u001b[0mX\u001b[0m \u001b[0;34m=\u001b[0m \u001b[0mcheck_array\u001b[0m\u001b[0;34m(\u001b[0m\u001b[0mX\u001b[0m\u001b[0;34m,\u001b[0m \u001b[0mdtype\u001b[0m\u001b[0;34m=\u001b[0m\u001b[0mDTYPE\u001b[0m\u001b[0;34m,\u001b[0m \u001b[0morder\u001b[0m\u001b[0;34m=\u001b[0m\u001b[0;34m\"C\"\u001b[0m\u001b[0;34m)\u001b[0m\u001b[0;34m\u001b[0m\u001b[0m\n\u001b[0;32m-> 1102\u001b[0;31m         \u001b[0mscore\u001b[0m \u001b[0;34m=\u001b[0m \u001b[0mself\u001b[0m\u001b[0;34m.\u001b[0m\u001b[0m_decision_function\u001b[0m\u001b[0;34m(\u001b[0m\u001b[0mX\u001b[0m\u001b[0;34m)\u001b[0m\u001b[0;34m\u001b[0m\u001b[0m\n\u001b[0m\u001b[1;32m   1103\u001b[0m         \u001b[0;32mif\u001b[0m \u001b[0mscore\u001b[0m\u001b[0;34m.\u001b[0m\u001b[0mshape\u001b[0m\u001b[0;34m[\u001b[0m\u001b[0;36m1\u001b[0m\u001b[0;34m]\u001b[0m \u001b[0;34m==\u001b[0m \u001b[0;36m1\u001b[0m\u001b[0;34m:\u001b[0m\u001b[0;34m\u001b[0m\u001b[0m\n\u001b[1;32m   1104\u001b[0m             \u001b[0;32mreturn\u001b[0m \u001b[0mscore\u001b[0m\u001b[0;34m.\u001b[0m\u001b[0mravel\u001b[0m\u001b[0;34m(\u001b[0m\u001b[0;34m)\u001b[0m\u001b[0;34m\u001b[0m\u001b[0m\n",
      "\u001b[0;32m/Users/ssing25/anaconda2/lib/python2.7/site-packages/sklearn/ensemble/gradient_boosting.pyc\u001b[0m in \u001b[0;36m_decision_function\u001b[0;34m(self, X)\u001b[0m\n\u001b[1;32m   1079\u001b[0m         \u001b[0;31m# for use in inner loop, not raveling the output in single-class case,\u001b[0m\u001b[0;34m\u001b[0m\u001b[0;34m\u001b[0m\u001b[0m\n\u001b[1;32m   1080\u001b[0m         \u001b[0;31m# not doing input validation.\u001b[0m\u001b[0;34m\u001b[0m\u001b[0;34m\u001b[0m\u001b[0m\n\u001b[0;32m-> 1081\u001b[0;31m         \u001b[0mscore\u001b[0m \u001b[0;34m=\u001b[0m \u001b[0mself\u001b[0m\u001b[0;34m.\u001b[0m\u001b[0m_init_decision_function\u001b[0m\u001b[0;34m(\u001b[0m\u001b[0mX\u001b[0m\u001b[0;34m)\u001b[0m\u001b[0;34m\u001b[0m\u001b[0m\n\u001b[0m\u001b[1;32m   1082\u001b[0m         \u001b[0mpredict_stages\u001b[0m\u001b[0;34m(\u001b[0m\u001b[0mself\u001b[0m\u001b[0;34m.\u001b[0m\u001b[0mestimators_\u001b[0m\u001b[0;34m,\u001b[0m \u001b[0mX\u001b[0m\u001b[0;34m,\u001b[0m \u001b[0mself\u001b[0m\u001b[0;34m.\u001b[0m\u001b[0mlearning_rate\u001b[0m\u001b[0;34m,\u001b[0m \u001b[0mscore\u001b[0m\u001b[0;34m)\u001b[0m\u001b[0;34m\u001b[0m\u001b[0m\n\u001b[1;32m   1083\u001b[0m         \u001b[0;32mreturn\u001b[0m \u001b[0mscore\u001b[0m\u001b[0;34m\u001b[0m\u001b[0m\n",
      "\u001b[0;32m/Users/ssing25/anaconda2/lib/python2.7/site-packages/sklearn/ensemble/gradient_boosting.pyc\u001b[0m in \u001b[0;36m_init_decision_function\u001b[0;34m(self, X)\u001b[0m\n\u001b[1;32m   1072\u001b[0m         \u001b[0;32mif\u001b[0m \u001b[0mX\u001b[0m\u001b[0;34m.\u001b[0m\u001b[0mshape\u001b[0m\u001b[0;34m[\u001b[0m\u001b[0;36m1\u001b[0m\u001b[0;34m]\u001b[0m \u001b[0;34m!=\u001b[0m \u001b[0mself\u001b[0m\u001b[0;34m.\u001b[0m\u001b[0mn_features\u001b[0m\u001b[0;34m:\u001b[0m\u001b[0;34m\u001b[0m\u001b[0m\n\u001b[1;32m   1073\u001b[0m             raise ValueError(\"X.shape[1] should be {0:d}, not {1:d}.\".format(\n\u001b[0;32m-> 1074\u001b[0;31m                 self.n_features, X.shape[1]))\n\u001b[0m\u001b[1;32m   1075\u001b[0m         \u001b[0mscore\u001b[0m \u001b[0;34m=\u001b[0m \u001b[0mself\u001b[0m\u001b[0;34m.\u001b[0m\u001b[0minit_\u001b[0m\u001b[0;34m.\u001b[0m\u001b[0mpredict\u001b[0m\u001b[0;34m(\u001b[0m\u001b[0mX\u001b[0m\u001b[0;34m)\u001b[0m\u001b[0;34m.\u001b[0m\u001b[0mastype\u001b[0m\u001b[0;34m(\u001b[0m\u001b[0mnp\u001b[0m\u001b[0;34m.\u001b[0m\u001b[0mfloat64\u001b[0m\u001b[0;34m)\u001b[0m\u001b[0;34m\u001b[0m\u001b[0m\n\u001b[1;32m   1076\u001b[0m         \u001b[0;32mreturn\u001b[0m \u001b[0mscore\u001b[0m\u001b[0;34m\u001b[0m\u001b[0m\n",
      "\u001b[0;31mValueError\u001b[0m: X.shape[1] should be 82, not 76."
     ]
    }
   ],
   "source": [
    "y_test_pred = clf.predict(x_test_mtx)"
   ]
  },
  {
   "cell_type": "code",
   "execution_count": 30,
   "metadata": {
    "collapsed": false
   },
   "outputs": [],
   "source": [
    "#y_test_pred"
   ]
  },
  {
   "cell_type": "code",
   "execution_count": null,
   "metadata": {
    "collapsed": false
   },
   "outputs": [],
   "source": [
    "for elem in y_test_pred:\n",
    "    print elem"
   ]
  },
  {
   "cell_type": "code",
   "execution_count": null,
   "metadata": {
    "collapsed": true
   },
   "outputs": [],
   "source": []
  }
 ],
 "metadata": {
  "kernelspec": {
   "display_name": "Python 2",
   "language": "python",
   "name": "python2"
  },
  "language_info": {
   "codemirror_mode": {
    "name": "ipython",
    "version": 2
   },
   "file_extension": ".py",
   "mimetype": "text/x-python",
   "name": "python",
   "nbconvert_exporter": "python",
   "pygments_lexer": "ipython2",
   "version": "2.7.10"
  }
 },
 "nbformat": 4,
 "nbformat_minor": 0
}
