{
 "cells": [
  {
   "cell_type": "code",
   "execution_count": 108,
   "metadata": {
    "collapsed": false
   },
   "outputs": [],
   "source": [
    "import pandas as pd\n",
    "import graphlab as gl\n",
    "from sklearn import linear_model\n",
    "from sklearn.cross_validation import train_test_split\n",
    "from sklearn.metrics import mean_squared_error\n",
    "import matplotlib.pyplot as plt\n",
    "from datetime import datetime\n",
    "from sklearn.ensemble import RandomForestRegressor\n",
    "%matplotlib inline"
   ]
  },
  {
   "cell_type": "code",
   "execution_count": 266,
   "metadata": {
    "collapsed": false
   },
   "outputs": [],
   "source": [
    "df=pd.read_csv('data/CAX_Bidding_TRAIN_Molecule_3_4_5.csv')"
   ]
  },
  {
   "cell_type": "code",
   "execution_count": 267,
   "metadata": {
    "collapsed": true
   },
   "outputs": [],
   "source": [
    "col=['Molecule','Winning_price_per_standard_unit','Region','Length_of_contract_in_Months', 'Presentation', 'Start_date']\n"
   ]
  },
  {
   "cell_type": "code",
   "execution_count": 268,
   "metadata": {
    "collapsed": false
   },
   "outputs": [],
   "source": [
    "df2=df[col]"
   ]
  },
  {
   "cell_type": "code",
   "execution_count": 269,
   "metadata": {
    "collapsed": false
   },
   "outputs": [
    {
     "data": {
      "text/html": [
       "<div>\n",
       "<table border=\"1\" class=\"dataframe\">\n",
       "  <thead>\n",
       "    <tr style=\"text-align: right;\">\n",
       "      <th></th>\n",
       "      <th>Molecule</th>\n",
       "      <th>Winning_price_per_standard_unit</th>\n",
       "      <th>Region</th>\n",
       "      <th>Length_of_contract_in_Months</th>\n",
       "      <th>Presentation</th>\n",
       "      <th>Start_date</th>\n",
       "    </tr>\n",
       "  </thead>\n",
       "  <tbody>\n",
       "    <tr>\n",
       "      <th>0</th>\n",
       "      <td>Molecule3</td>\n",
       "      <td>1.56353</td>\n",
       "      <td>Region6</td>\n",
       "      <td>36</td>\n",
       "      <td>Presentation8</td>\n",
       "      <td>01-01-2009</td>\n",
       "    </tr>\n",
       "    <tr>\n",
       "      <th>1</th>\n",
       "      <td>Molecule3</td>\n",
       "      <td>1.56353</td>\n",
       "      <td>Region6</td>\n",
       "      <td>20</td>\n",
       "      <td>Presentation8</td>\n",
       "      <td>01-05-2010</td>\n",
       "    </tr>\n",
       "    <tr>\n",
       "      <th>2</th>\n",
       "      <td>Molecule3</td>\n",
       "      <td>1.77000</td>\n",
       "      <td>Region13</td>\n",
       "      <td>24</td>\n",
       "      <td>Presentation8</td>\n",
       "      <td>01-05-2010</td>\n",
       "    </tr>\n",
       "    <tr>\n",
       "      <th>3</th>\n",
       "      <td>Molecule3</td>\n",
       "      <td>1.77000</td>\n",
       "      <td>Region9</td>\n",
       "      <td>24</td>\n",
       "      <td>Presentation8</td>\n",
       "      <td>01-07-2010</td>\n",
       "    </tr>\n",
       "    <tr>\n",
       "      <th>4</th>\n",
       "      <td>Molecule3</td>\n",
       "      <td>1.50000</td>\n",
       "      <td>Region7</td>\n",
       "      <td>12</td>\n",
       "      <td>Presentation8</td>\n",
       "      <td>01-08-2010</td>\n",
       "    </tr>\n",
       "  </tbody>\n",
       "</table>\n",
       "</div>"
      ],
      "text/plain": [
       "    Molecule  Winning_price_per_standard_unit    Region  \\\n",
       "0  Molecule3                          1.56353   Region6   \n",
       "1  Molecule3                          1.56353   Region6   \n",
       "2  Molecule3                          1.77000  Region13   \n",
       "3  Molecule3                          1.77000   Region9   \n",
       "4  Molecule3                          1.50000   Region7   \n",
       "\n",
       "   Length_of_contract_in_Months   Presentation  Start_date  \n",
       "0                            36  Presentation8  01-01-2009  \n",
       "1                            20  Presentation8  01-05-2010  \n",
       "2                            24  Presentation8  01-05-2010  \n",
       "3                            24  Presentation8  01-07-2010  \n",
       "4                            12  Presentation8  01-08-2010  "
      ]
     },
     "execution_count": 269,
     "metadata": {},
     "output_type": "execute_result"
    }
   ],
   "source": [
    "df2=df2.dropna()\n",
    "df2.head()"
   ]
  },
  {
   "cell_type": "code",
   "execution_count": 270,
   "metadata": {
    "collapsed": false
   },
   "outputs": [],
   "source": [
    "df2['Start_date']=pd.to_datetime(df2['Start_date'])\n",
    "def days_since_loe(a, b):\n",
    "    if a=='Molecule3':\n",
    "        return (b - datetime(2009,1,1,0,0,0)).days\n",
    "    elif a=='Molecule4':\n",
    "        return (b - datetime(2011,1,1,0,0,0)).days\n",
    "    else:\n",
    "        return (b - datetime(2011,1,1,0,0,0)).days\n"
   ]
  },
  {
   "cell_type": "code",
   "execution_count": 204,
   "metadata": {
    "collapsed": false
   },
   "outputs": [],
   "source": [
    "#df2"
   ]
  },
  {
   "cell_type": "code",
   "execution_count": 271,
   "metadata": {
    "collapsed": false
   },
   "outputs": [],
   "source": [
    "df2['Value'] = df2.apply(lambda row: days_since_loe(row['Molecule'], row['Start_date']), axis=1)"
   ]
  },
  {
   "cell_type": "code",
   "execution_count": 272,
   "metadata": {
    "collapsed": false
   },
   "outputs": [],
   "source": [
    "df2=df2[df2['Value']>0]"
   ]
  },
  {
   "cell_type": "code",
   "execution_count": 273,
   "metadata": {
    "collapsed": false
   },
   "outputs": [
    {
     "data": {
      "text/html": [
       "<div>\n",
       "<table border=\"1\" class=\"dataframe\">\n",
       "  <thead>\n",
       "    <tr style=\"text-align: right;\">\n",
       "      <th></th>\n",
       "      <th>Molecule</th>\n",
       "      <th>Winning_price_per_standard_unit</th>\n",
       "      <th>Region</th>\n",
       "      <th>Length_of_contract_in_Months</th>\n",
       "      <th>Presentation</th>\n",
       "      <th>Start_date</th>\n",
       "      <th>Value</th>\n",
       "    </tr>\n",
       "  </thead>\n",
       "  <tbody>\n",
       "    <tr>\n",
       "      <th>1</th>\n",
       "      <td>Molecule3</td>\n",
       "      <td>1.56353</td>\n",
       "      <td>Region6</td>\n",
       "      <td>20</td>\n",
       "      <td>Presentation8</td>\n",
       "      <td>2010-01-05</td>\n",
       "      <td>369</td>\n",
       "    </tr>\n",
       "    <tr>\n",
       "      <th>2</th>\n",
       "      <td>Molecule3</td>\n",
       "      <td>1.77000</td>\n",
       "      <td>Region13</td>\n",
       "      <td>24</td>\n",
       "      <td>Presentation8</td>\n",
       "      <td>2010-01-05</td>\n",
       "      <td>369</td>\n",
       "    </tr>\n",
       "    <tr>\n",
       "      <th>3</th>\n",
       "      <td>Molecule3</td>\n",
       "      <td>1.77000</td>\n",
       "      <td>Region9</td>\n",
       "      <td>24</td>\n",
       "      <td>Presentation8</td>\n",
       "      <td>2010-01-07</td>\n",
       "      <td>371</td>\n",
       "    </tr>\n",
       "    <tr>\n",
       "      <th>4</th>\n",
       "      <td>Molecule3</td>\n",
       "      <td>1.50000</td>\n",
       "      <td>Region7</td>\n",
       "      <td>12</td>\n",
       "      <td>Presentation8</td>\n",
       "      <td>2010-01-08</td>\n",
       "      <td>372</td>\n",
       "    </tr>\n",
       "    <tr>\n",
       "      <th>5</th>\n",
       "      <td>Molecule3</td>\n",
       "      <td>1.45000</td>\n",
       "      <td>Region1</td>\n",
       "      <td>36</td>\n",
       "      <td>Presentation8</td>\n",
       "      <td>2010-01-11</td>\n",
       "      <td>375</td>\n",
       "    </tr>\n",
       "  </tbody>\n",
       "</table>\n",
       "</div>"
      ],
      "text/plain": [
       "    Molecule  Winning_price_per_standard_unit    Region  \\\n",
       "1  Molecule3                          1.56353   Region6   \n",
       "2  Molecule3                          1.77000  Region13   \n",
       "3  Molecule3                          1.77000   Region9   \n",
       "4  Molecule3                          1.50000   Region7   \n",
       "5  Molecule3                          1.45000   Region1   \n",
       "\n",
       "   Length_of_contract_in_Months   Presentation Start_date  Value  \n",
       "1                            20  Presentation8 2010-01-05    369  \n",
       "2                            24  Presentation8 2010-01-05    369  \n",
       "3                            24  Presentation8 2010-01-07    371  \n",
       "4                            12  Presentation8 2010-01-08    372  \n",
       "5                            36  Presentation8 2010-01-11    375  "
      ]
     },
     "execution_count": 273,
     "metadata": {},
     "output_type": "execute_result"
    }
   ],
   "source": [
    "df2.head()"
   ]
  },
  {
   "cell_type": "code",
   "execution_count": 274,
   "metadata": {
    "collapsed": false
   },
   "outputs": [],
   "source": [
    "pList = df['Presentation'].unique()\n",
    "pDict = {}\n",
    "for x in pList:\n",
    "    for index, row in df.iterrows():\n",
    "        pDict[x] = df[df['Presentation']== x]['Winning_price_per_standard_unit'].max()\n",
    "        break\n",
    "            "
   ]
  },
  {
   "cell_type": "code",
   "execution_count": 275,
   "metadata": {
    "collapsed": false
   },
   "outputs": [
    {
     "data": {
      "text/plain": [
       "{'Presentation10': 1.89,\n",
       " 'Presentation11': 5.659,\n",
       " 'Presentation12': 24.87,\n",
       " 'Presentation13': 1.54,\n",
       " 'Presentation14': 2.71084,\n",
       " 'Presentation15': 3.04107,\n",
       " 'Presentation16': 1.52035,\n",
       " 'Presentation17': 3.04107,\n",
       " 'Presentation18': 0.76035,\n",
       " 'Presentation19': 1.52035,\n",
       " 'Presentation8': 4.87,\n",
       " 'Presentation9': 11.2694}"
      ]
     },
     "execution_count": 275,
     "metadata": {},
     "output_type": "execute_result"
    }
   ],
   "source": [
    "#df10 = df[(df['Molecule'] == 'Molecule3') & (df['Region'] == 'Region6')]\n",
    "#df10 = df10.sort(columns='Start_date')\n",
    "#df10[['Start_date', 'Winning_price_per_standard_unit', 'Presentation']]\n",
    "pDict"
   ]
  },
  {
   "cell_type": "code",
   "execution_count": 276,
   "metadata": {
    "collapsed": false
   },
   "outputs": [],
   "source": [
    "pDict['Presentation10']\n",
    "def factor_price(price, presentation):\n",
    "    return price/pDict[presentation]"
   ]
  },
  {
   "cell_type": "code",
   "execution_count": 277,
   "metadata": {
    "collapsed": false
   },
   "outputs": [],
   "source": [
    "df2['Winning_price_per_standard_unit'] = df2.apply(lambda row: factor_price(row['Winning_price_per_standard_unit'], row['Presentation']), axis=1)"
   ]
  },
  {
   "cell_type": "code",
   "execution_count": 279,
   "metadata": {
    "collapsed": false,
    "scrolled": true
   },
   "outputs": [
    {
     "data": {
      "text/html": [
       "<div>\n",
       "<table border=\"1\" class=\"dataframe\">\n",
       "  <thead>\n",
       "    <tr style=\"text-align: right;\">\n",
       "      <th></th>\n",
       "      <th>Molecule</th>\n",
       "      <th>Winning_price_per_standard_unit</th>\n",
       "      <th>Region</th>\n",
       "      <th>Length_of_contract_in_Months</th>\n",
       "      <th>Presentation</th>\n",
       "      <th>Start_date</th>\n",
       "      <th>Value</th>\n",
       "    </tr>\n",
       "  </thead>\n",
       "  <tbody>\n",
       "    <tr>\n",
       "      <th>1</th>\n",
       "      <td>Molecule3</td>\n",
       "      <td>0.321053</td>\n",
       "      <td>Region6</td>\n",
       "      <td>20</td>\n",
       "      <td>Presentation8</td>\n",
       "      <td>2010-01-05</td>\n",
       "      <td>369</td>\n",
       "    </tr>\n",
       "    <tr>\n",
       "      <th>2</th>\n",
       "      <td>Molecule3</td>\n",
       "      <td>0.363450</td>\n",
       "      <td>Region13</td>\n",
       "      <td>24</td>\n",
       "      <td>Presentation8</td>\n",
       "      <td>2010-01-05</td>\n",
       "      <td>369</td>\n",
       "    </tr>\n",
       "    <tr>\n",
       "      <th>3</th>\n",
       "      <td>Molecule3</td>\n",
       "      <td>0.363450</td>\n",
       "      <td>Region9</td>\n",
       "      <td>24</td>\n",
       "      <td>Presentation8</td>\n",
       "      <td>2010-01-07</td>\n",
       "      <td>371</td>\n",
       "    </tr>\n",
       "    <tr>\n",
       "      <th>4</th>\n",
       "      <td>Molecule3</td>\n",
       "      <td>0.308008</td>\n",
       "      <td>Region7</td>\n",
       "      <td>12</td>\n",
       "      <td>Presentation8</td>\n",
       "      <td>2010-01-08</td>\n",
       "      <td>372</td>\n",
       "    </tr>\n",
       "    <tr>\n",
       "      <th>5</th>\n",
       "      <td>Molecule3</td>\n",
       "      <td>0.297741</td>\n",
       "      <td>Region1</td>\n",
       "      <td>36</td>\n",
       "      <td>Presentation8</td>\n",
       "      <td>2010-01-11</td>\n",
       "      <td>375</td>\n",
       "    </tr>\n",
       "  </tbody>\n",
       "</table>\n",
       "</div>"
      ],
      "text/plain": [
       "    Molecule  Winning_price_per_standard_unit    Region  \\\n",
       "1  Molecule3                         0.321053   Region6   \n",
       "2  Molecule3                         0.363450  Region13   \n",
       "3  Molecule3                         0.363450   Region9   \n",
       "4  Molecule3                         0.308008   Region7   \n",
       "5  Molecule3                         0.297741   Region1   \n",
       "\n",
       "   Length_of_contract_in_Months   Presentation Start_date  Value  \n",
       "1                            20  Presentation8 2010-01-05    369  \n",
       "2                            24  Presentation8 2010-01-05    369  \n",
       "3                            24  Presentation8 2010-01-07    371  \n",
       "4                            12  Presentation8 2010-01-08    372  \n",
       "5                            36  Presentation8 2010-01-11    375  "
      ]
     },
     "execution_count": 279,
     "metadata": {},
     "output_type": "execute_result"
    }
   ],
   "source": [
    "df2.head()"
   ]
  },
  {
   "cell_type": "code",
   "execution_count": 280,
   "metadata": {
    "collapsed": false
   },
   "outputs": [],
   "source": [
    "df2=df2.drop(['Molecule', 'Presentation', 'Start_date'],1)"
   ]
  },
  {
   "cell_type": "code",
   "execution_count": 281,
   "metadata": {
    "collapsed": false
   },
   "outputs": [
    {
     "data": {
      "text/html": [
       "<div>\n",
       "<table border=\"1\" class=\"dataframe\">\n",
       "  <thead>\n",
       "    <tr style=\"text-align: right;\">\n",
       "      <th></th>\n",
       "      <th>Winning_price_per_standard_unit</th>\n",
       "      <th>Region</th>\n",
       "      <th>Length_of_contract_in_Months</th>\n",
       "      <th>Value</th>\n",
       "    </tr>\n",
       "  </thead>\n",
       "  <tbody>\n",
       "    <tr>\n",
       "      <th>1</th>\n",
       "      <td>0.321053</td>\n",
       "      <td>Region6</td>\n",
       "      <td>20</td>\n",
       "      <td>369</td>\n",
       "    </tr>\n",
       "    <tr>\n",
       "      <th>2</th>\n",
       "      <td>0.363450</td>\n",
       "      <td>Region13</td>\n",
       "      <td>24</td>\n",
       "      <td>369</td>\n",
       "    </tr>\n",
       "    <tr>\n",
       "      <th>3</th>\n",
       "      <td>0.363450</td>\n",
       "      <td>Region9</td>\n",
       "      <td>24</td>\n",
       "      <td>371</td>\n",
       "    </tr>\n",
       "    <tr>\n",
       "      <th>4</th>\n",
       "      <td>0.308008</td>\n",
       "      <td>Region7</td>\n",
       "      <td>12</td>\n",
       "      <td>372</td>\n",
       "    </tr>\n",
       "    <tr>\n",
       "      <th>5</th>\n",
       "      <td>0.297741</td>\n",
       "      <td>Region1</td>\n",
       "      <td>36</td>\n",
       "      <td>375</td>\n",
       "    </tr>\n",
       "  </tbody>\n",
       "</table>\n",
       "</div>"
      ],
      "text/plain": [
       "   Winning_price_per_standard_unit    Region  Length_of_contract_in_Months  \\\n",
       "1                         0.321053   Region6                            20   \n",
       "2                         0.363450  Region13                            24   \n",
       "3                         0.363450   Region9                            24   \n",
       "4                         0.308008   Region7                            12   \n",
       "5                         0.297741   Region1                            36   \n",
       "\n",
       "   Value  \n",
       "1    369  \n",
       "2    369  \n",
       "3    371  \n",
       "4    372  \n",
       "5    375  "
      ]
     },
     "execution_count": 281,
     "metadata": {},
     "output_type": "execute_result"
    }
   ],
   "source": [
    "df2.head()"
   ]
  },
  {
   "cell_type": "code",
   "execution_count": 282,
   "metadata": {
    "collapsed": true
   },
   "outputs": [],
   "source": [
    "df2=pd.get_dummies(df2)"
   ]
  },
  {
   "cell_type": "code",
   "execution_count": 283,
   "metadata": {
    "collapsed": false
   },
   "outputs": [],
   "source": [
    "y=df2.as_matrix()[:,0]"
   ]
  },
  {
   "cell_type": "code",
   "execution_count": 284,
   "metadata": {
    "collapsed": false
   },
   "outputs": [
    {
     "data": {
      "text/plain": [
       "(662,)"
      ]
     },
     "execution_count": 284,
     "metadata": {},
     "output_type": "execute_result"
    }
   ],
   "source": [
    "y.shape"
   ]
  },
  {
   "cell_type": "code",
   "execution_count": 158,
   "metadata": {
    "collapsed": false
   },
   "outputs": [],
   "source": [
    "#df2=df2.drop('Winning_price_per_standard_unit',axis=1)"
   ]
  },
  {
   "cell_type": "code",
   "execution_count": 285,
   "metadata": {
    "collapsed": false
   },
   "outputs": [],
   "source": [
    "X=df2.as_matrix()[:,1:]"
   ]
  },
  {
   "cell_type": "code",
   "execution_count": 286,
   "metadata": {
    "collapsed": false
   },
   "outputs": [
    {
     "data": {
      "text/plain": [
       "(662, 22)"
      ]
     },
     "execution_count": 286,
     "metadata": {},
     "output_type": "execute_result"
    }
   ],
   "source": [
    "X.shape"
   ]
  },
  {
   "cell_type": "code",
   "execution_count": 287,
   "metadata": {
    "collapsed": true
   },
   "outputs": [],
   "source": [
    "X_train,X_test,y_train,y_test=train_test_split(X,y)"
   ]
  },
  {
   "cell_type": "code",
   "execution_count": 293,
   "metadata": {
    "collapsed": false
   },
   "outputs": [],
   "source": [
    "randForest=RandomForestRegressor()"
   ]
  },
  {
   "cell_type": "code",
   "execution_count": 300,
   "metadata": {
    "collapsed": false
   },
   "outputs": [],
   "source": [
    "#randForest.fit_transform(X_train,y_train)"
   ]
  },
  {
   "cell_type": "code",
   "execution_count": 295,
   "metadata": {
    "collapsed": false
   },
   "outputs": [
    {
     "data": {
      "text/plain": [
       "0.67958866670495044"
      ]
     },
     "execution_count": 295,
     "metadata": {},
     "output_type": "execute_result"
    }
   ],
   "source": [
    "randForest.score(X_test,y_test)"
   ]
  },
  {
   "cell_type": "code",
   "execution_count": 296,
   "metadata": {
    "collapsed": true
   },
   "outputs": [],
   "source": [
    "y_rand_pred=randForest.predict(X_test)"
   ]
  },
  {
   "cell_type": "code",
   "execution_count": 297,
   "metadata": {
    "collapsed": false
   },
   "outputs": [
    {
     "data": {
      "text/plain": [
       "0.026641934617598406"
      ]
     },
     "execution_count": 297,
     "metadata": {},
     "output_type": "execute_result"
    }
   ],
   "source": [
    "mean_squared_error(y_test,y_rand_pred)"
   ]
  },
  {
   "cell_type": "code",
   "execution_count": 288,
   "metadata": {
    "collapsed": true
   },
   "outputs": [],
   "source": [
    "reg=linear_model.LinearRegression()"
   ]
  },
  {
   "cell_type": "code",
   "execution_count": 289,
   "metadata": {
    "collapsed": false
   },
   "outputs": [
    {
     "data": {
      "text/plain": [
       "LinearRegression(copy_X=True, fit_intercept=True, n_jobs=1, normalize=False)"
      ]
     },
     "execution_count": 289,
     "metadata": {},
     "output_type": "execute_result"
    }
   ],
   "source": [
    "reg.fit(X_train,y_train)"
   ]
  },
  {
   "cell_type": "code",
   "execution_count": 322,
   "metadata": {
    "collapsed": false
   },
   "outputs": [
    {
     "data": {
      "text/plain": [
       "0.23788988472130912"
      ]
     },
     "execution_count": 322,
     "metadata": {},
     "output_type": "execute_result"
    }
   ],
   "source": [
    "reg.score(X_test,y_test)"
   ]
  },
  {
   "cell_type": "code",
   "execution_count": 291,
   "metadata": {
    "collapsed": false
   },
   "outputs": [],
   "source": [
    "y_pred=reg.predict(X_test)"
   ]
  },
  {
   "cell_type": "code",
   "execution_count": 307,
   "metadata": {
    "collapsed": false
   },
   "outputs": [
    {
     "data": {
      "text/plain": [
       "array([ 0.06600635,  0.22590543,  0.25396411,  0.35657539,  0.34605634,\n",
       "        0.02895916,  0.15389767,  0.17951893,  0.21899295,  0.47066038])"
      ]
     },
     "execution_count": 307,
     "metadata": {},
     "output_type": "execute_result"
    }
   ],
   "source": [
    "y_pred[0:10]"
   ]
  },
  {
   "cell_type": "code",
   "execution_count": 308,
   "metadata": {
    "collapsed": false
   },
   "outputs": [
    {
     "data": {
      "text/plain": [
       "array([ 0.00690218,  0.05714935,  0.0394598 ,  0.74183186,  0.72097544,\n",
       "        0.03246753,  0.05136975,  0.02565199,  0.02251709,  0.72408469])"
      ]
     },
     "execution_count": 308,
     "metadata": {},
     "output_type": "execute_result"
    }
   ],
   "source": [
    "y_test[0:10]"
   ]
  },
  {
   "cell_type": "code",
   "execution_count": 83,
   "metadata": {
    "collapsed": false
   },
   "outputs": [],
   "source": [
    "#plt.scatter(y_pred,y_test)"
   ]
  },
  {
   "cell_type": "code",
   "execution_count": 292,
   "metadata": {
    "collapsed": false
   },
   "outputs": [
    {
     "data": {
      "text/plain": [
       "0.06336881924200953"
      ]
     },
     "execution_count": 292,
     "metadata": {},
     "output_type": "execute_result"
    }
   ],
   "source": [
    "mean_squared_error(y_test,y_pred)"
   ]
  },
  {
   "cell_type": "code",
   "execution_count": 316,
   "metadata": {
    "collapsed": true
   },
   "outputs": [],
   "source": [
    "df_test=pd.read_csv('data/CAX_Bidding_TEST_Molecule_6_Post_LOE.csv')"
   ]
  },
  {
   "cell_type": "code",
   "execution_count": 318,
   "metadata": {
    "collapsed": false
   },
   "outputs": [],
   "source": [
    "#df_test.head()"
   ]
  },
  {
   "cell_type": "code",
   "execution_count": 107,
   "metadata": {
    "collapsed": true
   },
   "outputs": [],
   "source": [
    "col_test=['Region','Length_of_contract_in_Months','']"
   ]
  },
  {
   "cell_type": "code",
   "execution_count": 309,
   "metadata": {
    "collapsed": true
   },
   "outputs": [],
   "source": [
    "df1_test=df_test[col]"
   ]
  },
  {
   "cell_type": "code",
   "execution_count": 310,
   "metadata": {
    "collapsed": false
   },
   "outputs": [
    {
     "data": {
      "text/html": [
       "<div>\n",
       "<table border=\"1\" class=\"dataframe\">\n",
       "  <thead>\n",
       "    <tr style=\"text-align: right;\">\n",
       "      <th></th>\n",
       "      <th>Molecule</th>\n",
       "      <th>Winning_price_per_standard_unit</th>\n",
       "      <th>Region</th>\n",
       "      <th>Length_of_contract_in_Months</th>\n",
       "      <th>Presentation</th>\n",
       "      <th>Start_date</th>\n",
       "    </tr>\n",
       "  </thead>\n",
       "  <tbody>\n",
       "    <tr>\n",
       "      <th>0</th>\n",
       "      <td>Molecule6</td>\n",
       "      <td>NaN</td>\n",
       "      <td>Region2</td>\n",
       "      <td>4</td>\n",
       "      <td>Presentation20</td>\n",
       "      <td>01-03-2011</td>\n",
       "    </tr>\n",
       "    <tr>\n",
       "      <th>1</th>\n",
       "      <td>Molecule6</td>\n",
       "      <td>NaN</td>\n",
       "      <td>Region3</td>\n",
       "      <td>36</td>\n",
       "      <td>Presentation20</td>\n",
       "      <td>01-03-2011</td>\n",
       "    </tr>\n",
       "    <tr>\n",
       "      <th>2</th>\n",
       "      <td>Molecule6</td>\n",
       "      <td>NaN</td>\n",
       "      <td>Region20</td>\n",
       "      <td>15</td>\n",
       "      <td>Presentation20</td>\n",
       "      <td>22-04-2011</td>\n",
       "    </tr>\n",
       "    <tr>\n",
       "      <th>3</th>\n",
       "      <td>Molecule6</td>\n",
       "      <td>NaN</td>\n",
       "      <td>Region2</td>\n",
       "      <td>8</td>\n",
       "      <td>Presentation20</td>\n",
       "      <td>01-05-2011</td>\n",
       "    </tr>\n",
       "    <tr>\n",
       "      <th>4</th>\n",
       "      <td>Molecule6</td>\n",
       "      <td>NaN</td>\n",
       "      <td>Region9</td>\n",
       "      <td>10</td>\n",
       "      <td>Presentation20</td>\n",
       "      <td>01-05-2011</td>\n",
       "    </tr>\n",
       "  </tbody>\n",
       "</table>\n",
       "</div>"
      ],
      "text/plain": [
       "    Molecule  Winning_price_per_standard_unit    Region  \\\n",
       "0  Molecule6                              NaN   Region2   \n",
       "1  Molecule6                              NaN   Region3   \n",
       "2  Molecule6                              NaN  Region20   \n",
       "3  Molecule6                              NaN   Region2   \n",
       "4  Molecule6                              NaN   Region9   \n",
       "\n",
       "   Length_of_contract_in_Months    Presentation  Start_date  \n",
       "0                             4  Presentation20  01-03-2011  \n",
       "1                            36  Presentation20  01-03-2011  \n",
       "2                            15  Presentation20  22-04-2011  \n",
       "3                             8  Presentation20  01-05-2011  \n",
       "4                            10  Presentation20  01-05-2011  "
      ]
     },
     "execution_count": 310,
     "metadata": {},
     "output_type": "execute_result"
    }
   ],
   "source": [
    "df1_test.head()"
   ]
  },
  {
   "cell_type": "code",
   "execution_count": 314,
   "metadata": {
    "collapsed": false
   },
   "outputs": [],
   "source": [
    "df1_test=df1_test.drop(['Winning_price_per_standard_unit','Presentation','Molecule'],1)"
   ]
  },
  {
   "cell_type": "code",
   "execution_count": 315,
   "metadata": {
    "collapsed": false
   },
   "outputs": [
    {
     "data": {
      "text/html": [
       "<div>\n",
       "<table border=\"1\" class=\"dataframe\">\n",
       "  <thead>\n",
       "    <tr style=\"text-align: right;\">\n",
       "      <th></th>\n",
       "      <th>Region</th>\n",
       "      <th>Length_of_contract_in_Months</th>\n",
       "      <th>Start_date</th>\n",
       "    </tr>\n",
       "  </thead>\n",
       "  <tbody>\n",
       "    <tr>\n",
       "      <th>0</th>\n",
       "      <td>Region2</td>\n",
       "      <td>4</td>\n",
       "      <td>01-03-2011</td>\n",
       "    </tr>\n",
       "    <tr>\n",
       "      <th>1</th>\n",
       "      <td>Region3</td>\n",
       "      <td>36</td>\n",
       "      <td>01-03-2011</td>\n",
       "    </tr>\n",
       "    <tr>\n",
       "      <th>2</th>\n",
       "      <td>Region20</td>\n",
       "      <td>15</td>\n",
       "      <td>22-04-2011</td>\n",
       "    </tr>\n",
       "    <tr>\n",
       "      <th>3</th>\n",
       "      <td>Region2</td>\n",
       "      <td>8</td>\n",
       "      <td>01-05-2011</td>\n",
       "    </tr>\n",
       "    <tr>\n",
       "      <th>4</th>\n",
       "      <td>Region9</td>\n",
       "      <td>10</td>\n",
       "      <td>01-05-2011</td>\n",
       "    </tr>\n",
       "  </tbody>\n",
       "</table>\n",
       "</div>"
      ],
      "text/plain": [
       "     Region  Length_of_contract_in_Months  Start_date\n",
       "0   Region2                             4  01-03-2011\n",
       "1   Region3                            36  01-03-2011\n",
       "2  Region20                            15  22-04-2011\n",
       "3   Region2                             8  01-05-2011\n",
       "4   Region9                            10  01-05-2011"
      ]
     },
     "execution_count": 315,
     "metadata": {},
     "output_type": "execute_result"
    }
   ],
   "source": [
    "df1_test.head()"
   ]
  },
  {
   "cell_type": "code",
   "execution_count": 110,
   "metadata": {
    "collapsed": true
   },
   "outputs": [],
   "source": [
    "df2_test=pd.get_dummies(df1_test)"
   ]
  },
  {
   "cell_type": "code",
   "execution_count": 111,
   "metadata": {
    "collapsed": false
   },
   "outputs": [
    {
     "data": {
      "text/html": [
       "<div>\n",
       "<table border=\"1\" class=\"dataframe\">\n",
       "  <thead>\n",
       "    <tr style=\"text-align: right;\">\n",
       "      <th></th>\n",
       "      <th>Length_of_contract_in_Months</th>\n",
       "      <th>Region_Region1</th>\n",
       "      <th>Region_Region10</th>\n",
       "      <th>Region_Region11</th>\n",
       "      <th>Region_Region12</th>\n",
       "      <th>Region_Region13</th>\n",
       "      <th>Region_Region14</th>\n",
       "      <th>Region_Region15</th>\n",
       "      <th>Region_Region16</th>\n",
       "      <th>Region_Region17</th>\n",
       "      <th>...</th>\n",
       "      <th>Region_Region19</th>\n",
       "      <th>Region_Region2</th>\n",
       "      <th>Region_Region20</th>\n",
       "      <th>Region_Region3</th>\n",
       "      <th>Region_Region4</th>\n",
       "      <th>Region_Region5</th>\n",
       "      <th>Region_Region6</th>\n",
       "      <th>Region_Region7</th>\n",
       "      <th>Region_Region8</th>\n",
       "      <th>Region_Region9</th>\n",
       "    </tr>\n",
       "  </thead>\n",
       "  <tbody>\n",
       "    <tr>\n",
       "      <th>0</th>\n",
       "      <td>4</td>\n",
       "      <td>0</td>\n",
       "      <td>0</td>\n",
       "      <td>0</td>\n",
       "      <td>0</td>\n",
       "      <td>0</td>\n",
       "      <td>0</td>\n",
       "      <td>0</td>\n",
       "      <td>0</td>\n",
       "      <td>0</td>\n",
       "      <td>...</td>\n",
       "      <td>0</td>\n",
       "      <td>1</td>\n",
       "      <td>0</td>\n",
       "      <td>0</td>\n",
       "      <td>0</td>\n",
       "      <td>0</td>\n",
       "      <td>0</td>\n",
       "      <td>0</td>\n",
       "      <td>0</td>\n",
       "      <td>0</td>\n",
       "    </tr>\n",
       "    <tr>\n",
       "      <th>1</th>\n",
       "      <td>36</td>\n",
       "      <td>0</td>\n",
       "      <td>0</td>\n",
       "      <td>0</td>\n",
       "      <td>0</td>\n",
       "      <td>0</td>\n",
       "      <td>0</td>\n",
       "      <td>0</td>\n",
       "      <td>0</td>\n",
       "      <td>0</td>\n",
       "      <td>...</td>\n",
       "      <td>0</td>\n",
       "      <td>0</td>\n",
       "      <td>0</td>\n",
       "      <td>1</td>\n",
       "      <td>0</td>\n",
       "      <td>0</td>\n",
       "      <td>0</td>\n",
       "      <td>0</td>\n",
       "      <td>0</td>\n",
       "      <td>0</td>\n",
       "    </tr>\n",
       "    <tr>\n",
       "      <th>2</th>\n",
       "      <td>15</td>\n",
       "      <td>0</td>\n",
       "      <td>0</td>\n",
       "      <td>0</td>\n",
       "      <td>0</td>\n",
       "      <td>0</td>\n",
       "      <td>0</td>\n",
       "      <td>0</td>\n",
       "      <td>0</td>\n",
       "      <td>0</td>\n",
       "      <td>...</td>\n",
       "      <td>0</td>\n",
       "      <td>0</td>\n",
       "      <td>1</td>\n",
       "      <td>0</td>\n",
       "      <td>0</td>\n",
       "      <td>0</td>\n",
       "      <td>0</td>\n",
       "      <td>0</td>\n",
       "      <td>0</td>\n",
       "      <td>0</td>\n",
       "    </tr>\n",
       "    <tr>\n",
       "      <th>3</th>\n",
       "      <td>8</td>\n",
       "      <td>0</td>\n",
       "      <td>0</td>\n",
       "      <td>0</td>\n",
       "      <td>0</td>\n",
       "      <td>0</td>\n",
       "      <td>0</td>\n",
       "      <td>0</td>\n",
       "      <td>0</td>\n",
       "      <td>0</td>\n",
       "      <td>...</td>\n",
       "      <td>0</td>\n",
       "      <td>1</td>\n",
       "      <td>0</td>\n",
       "      <td>0</td>\n",
       "      <td>0</td>\n",
       "      <td>0</td>\n",
       "      <td>0</td>\n",
       "      <td>0</td>\n",
       "      <td>0</td>\n",
       "      <td>0</td>\n",
       "    </tr>\n",
       "    <tr>\n",
       "      <th>4</th>\n",
       "      <td>10</td>\n",
       "      <td>0</td>\n",
       "      <td>0</td>\n",
       "      <td>0</td>\n",
       "      <td>0</td>\n",
       "      <td>0</td>\n",
       "      <td>0</td>\n",
       "      <td>0</td>\n",
       "      <td>0</td>\n",
       "      <td>0</td>\n",
       "      <td>...</td>\n",
       "      <td>0</td>\n",
       "      <td>0</td>\n",
       "      <td>0</td>\n",
       "      <td>0</td>\n",
       "      <td>0</td>\n",
       "      <td>0</td>\n",
       "      <td>0</td>\n",
       "      <td>0</td>\n",
       "      <td>0</td>\n",
       "      <td>1</td>\n",
       "    </tr>\n",
       "  </tbody>\n",
       "</table>\n",
       "<p>5 rows × 21 columns</p>\n",
       "</div>"
      ],
      "text/plain": [
       "   Length_of_contract_in_Months  Region_Region1  Region_Region10  \\\n",
       "0                             4               0                0   \n",
       "1                            36               0                0   \n",
       "2                            15               0                0   \n",
       "3                             8               0                0   \n",
       "4                            10               0                0   \n",
       "\n",
       "   Region_Region11  Region_Region12  Region_Region13  Region_Region14  \\\n",
       "0                0                0                0                0   \n",
       "1                0                0                0                0   \n",
       "2                0                0                0                0   \n",
       "3                0                0                0                0   \n",
       "4                0                0                0                0   \n",
       "\n",
       "   Region_Region15  Region_Region16  Region_Region17       ...        \\\n",
       "0                0                0                0       ...         \n",
       "1                0                0                0       ...         \n",
       "2                0                0                0       ...         \n",
       "3                0                0                0       ...         \n",
       "4                0                0                0       ...         \n",
       "\n",
       "   Region_Region19  Region_Region2  Region_Region20  Region_Region3  \\\n",
       "0                0               1                0               0   \n",
       "1                0               0                0               1   \n",
       "2                0               0                1               0   \n",
       "3                0               1                0               0   \n",
       "4                0               0                0               0   \n",
       "\n",
       "   Region_Region4  Region_Region5  Region_Region6  Region_Region7  \\\n",
       "0               0               0               0               0   \n",
       "1               0               0               0               0   \n",
       "2               0               0               0               0   \n",
       "3               0               0               0               0   \n",
       "4               0               0               0               0   \n",
       "\n",
       "   Region_Region8  Region_Region9  \n",
       "0               0               0  \n",
       "1               0               0  \n",
       "2               0               0  \n",
       "3               0               0  \n",
       "4               0               1  \n",
       "\n",
       "[5 rows x 21 columns]"
      ]
     },
     "execution_count": 111,
     "metadata": {},
     "output_type": "execute_result"
    }
   ],
   "source": [
    "df2_test['Value'] = df2_test.apply(lambda row: days_since_loe(row['Molecule'], row['Start_date']), axis=1)"
   ]
  },
  {
   "cell_type": "code",
   "execution_count": 112,
   "metadata": {
    "collapsed": true
   },
   "outputs": [],
   "source": [
    "x_ttest=df2_test.as_matrix()"
   ]
  },
  {
   "cell_type": "code",
   "execution_count": 113,
   "metadata": {
    "collapsed": false
   },
   "outputs": [
    {
     "data": {
      "text/plain": [
       "(152, 21)"
      ]
     },
     "execution_count": 113,
     "metadata": {},
     "output_type": "execute_result"
    }
   ],
   "source": [
    "x_ttest.shape"
   ]
  },
  {
   "cell_type": "code",
   "execution_count": 114,
   "metadata": {
    "collapsed": false
   },
   "outputs": [],
   "source": [
    "ytest_pred=reg.predict(x_ttest)"
   ]
  },
  {
   "cell_type": "code",
   "execution_count": 121,
   "metadata": {
    "collapsed": false
   },
   "outputs": [
    {
     "data": {
      "text/plain": [
       "numpy.ndarray"
      ]
     },
     "execution_count": 121,
     "metadata": {},
     "output_type": "execute_result"
    }
   ],
   "source": [
    "type(ytest_pred)"
   ]
  },
  {
   "cell_type": "code",
   "execution_count": 122,
   "metadata": {
    "collapsed": false
   },
   "outputs": [],
   "source": [
    "import csv\n",
    "b = open('test.csv', 'w')\n",
    "a = csv.writer(b)\n",
    "data = ytest_pred\n",
    "a.writerow(data)\n",
    "b.close()"
   ]
  },
  {
   "cell_type": "code",
   "execution_count": 319,
   "metadata": {
    "collapsed": false
   },
   "outputs": [
    {
     "name": "stderr",
     "output_type": "stream",
     "text": [
      "/Users/ssing25/anaconda2/envs/dato-env/lib/python2.7/site-packages/ipykernel/__main__.py:9: SettingWithCopyWarning: \n",
      "A value is trying to be set on a copy of a slice from a DataFrame.\n",
      "Try using .loc[row_indexer,col_indexer] = value instead\n",
      "\n",
      "See the caveats in the documentation: http://pandas.pydata.org/pandas-docs/stable/indexing.html#indexing-view-versus-copy\n",
      "/Users/ssing25/anaconda2/envs/dato-env/lib/python2.7/site-packages/ipykernel/__main__.py:16: SettingWithCopyWarning: \n",
      "A value is trying to be set on a copy of a slice from a DataFrame.\n",
      "Try using .loc[row_indexer,col_indexer] = value instead\n",
      "\n",
      "See the caveats in the documentation: http://pandas.pydata.org/pandas-docs/stable/indexing.html#indexing-view-versus-copy\n"
     ]
    },
    {
     "data": {
      "text/html": [
       "<div>\n",
       "<table border=\"1\" class=\"dataframe\">\n",
       "  <thead>\n",
       "    <tr style=\"text-align: right;\">\n",
       "      <th></th>\n",
       "      <th>Region</th>\n",
       "      <th>Length_of_contract_in_Months</th>\n",
       "      <th>Value</th>\n",
       "    </tr>\n",
       "  </thead>\n",
       "  <tbody>\n",
       "    <tr>\n",
       "      <th>0</th>\n",
       "      <td>Region2</td>\n",
       "      <td>4</td>\n",
       "      <td>2</td>\n",
       "    </tr>\n",
       "    <tr>\n",
       "      <th>1</th>\n",
       "      <td>Region3</td>\n",
       "      <td>36</td>\n",
       "      <td>2</td>\n",
       "    </tr>\n",
       "    <tr>\n",
       "      <th>2</th>\n",
       "      <td>Region20</td>\n",
       "      <td>15</td>\n",
       "      <td>111</td>\n",
       "    </tr>\n",
       "    <tr>\n",
       "      <th>3</th>\n",
       "      <td>Region2</td>\n",
       "      <td>8</td>\n",
       "      <td>4</td>\n",
       "    </tr>\n",
       "    <tr>\n",
       "      <th>4</th>\n",
       "      <td>Region9</td>\n",
       "      <td>10</td>\n",
       "      <td>4</td>\n",
       "    </tr>\n",
       "  </tbody>\n",
       "</table>\n",
       "</div>"
      ],
      "text/plain": [
       "     Region  Length_of_contract_in_Months  Value\n",
       "0   Region2                             4      2\n",
       "1   Region3                            36      2\n",
       "2  Region20                            15    111\n",
       "3   Region2                             8      4\n",
       "4   Region9                            10      4"
      ]
     },
     "execution_count": 319,
     "metadata": {},
     "output_type": "execute_result"
    }
   ],
   "source": [
    "df_test=pd.read_csv('data/CAX_Bidding_TEST_Molecule_6_Post_LOE.csv')\n",
    "\n",
    "col_test =['Molecule', 'Region','Length_of_contract_in_Months', 'Presentation', 'Start_date']\n",
    "\n",
    "df2_test =df_test[col_test]\n",
    "\n",
    "df2_test.head()\n",
    "\n",
    "df2_test['Start_date']=pd.to_datetime(df2_test['Start_date'])\n",
    "def days_since_loe(a, b):\n",
    "    if a=='Molecule6':\n",
    "        return (b - datetime(2011,1,1,0,0,0)).days\n",
    "    else:\n",
    "        return (b - datetime(2011,1,1,0,0,0)).days\n",
    "\n",
    "df2_test['Value'] = df2_test.apply(lambda row: days_since_loe(row['Molecule'], row['Start_date']), axis=1)\n",
    "\n",
    "df2_test=df2_test[df2_test['Value']>0]\n",
    "\n",
    "#df2_test\n",
    "\n",
    "df_pres=pd.read_csv('data/CAX_Bidding_TEST_Molecule_6_Pre_LOE.csv')\n",
    "\n",
    "pList = df_pres['Presentation'].unique()\n",
    "pDict = {}\n",
    "for x in pList:\n",
    "    for index, row in df_pres.iterrows():\n",
    "        pDict[x] = df_pres[df_pres['Presentation']== x]['Winning_price_per_standard_unit'].max()\n",
    "        break\n",
    "            \n",
    "\n",
    "pDict\n",
    "\n",
    "def factor_price(price, presentation):\n",
    "    return price/pDict[presentation]\n",
    "\n",
    "df2_test.head()\n",
    "\n",
    "df3_test = df2_test.drop(['Molecule', 'Presentation', 'Start_date'], 1)\n",
    "\n",
    "df3_test.head()\n",
    "\n"
   ]
  },
  {
   "cell_type": "code",
   "execution_count": 320,
   "metadata": {
    "collapsed": false
   },
   "outputs": [
    {
     "data": {
      "text/html": [
       "<div>\n",
       "<table border=\"1\" class=\"dataframe\">\n",
       "  <thead>\n",
       "    <tr style=\"text-align: right;\">\n",
       "      <th></th>\n",
       "      <th>Length_of_contract_in_Months</th>\n",
       "      <th>Value</th>\n",
       "      <th>Region_Region1</th>\n",
       "      <th>Region_Region10</th>\n",
       "      <th>Region_Region11</th>\n",
       "      <th>Region_Region12</th>\n",
       "      <th>Region_Region13</th>\n",
       "      <th>Region_Region14</th>\n",
       "      <th>Region_Region15</th>\n",
       "      <th>Region_Region16</th>\n",
       "      <th>...</th>\n",
       "      <th>Region_Region19</th>\n",
       "      <th>Region_Region2</th>\n",
       "      <th>Region_Region20</th>\n",
       "      <th>Region_Region3</th>\n",
       "      <th>Region_Region4</th>\n",
       "      <th>Region_Region5</th>\n",
       "      <th>Region_Region6</th>\n",
       "      <th>Region_Region7</th>\n",
       "      <th>Region_Region8</th>\n",
       "      <th>Region_Region9</th>\n",
       "    </tr>\n",
       "  </thead>\n",
       "  <tbody>\n",
       "    <tr>\n",
       "      <th>0</th>\n",
       "      <td>4</td>\n",
       "      <td>2</td>\n",
       "      <td>0</td>\n",
       "      <td>0</td>\n",
       "      <td>0</td>\n",
       "      <td>0</td>\n",
       "      <td>0</td>\n",
       "      <td>0</td>\n",
       "      <td>0</td>\n",
       "      <td>0</td>\n",
       "      <td>...</td>\n",
       "      <td>0</td>\n",
       "      <td>1</td>\n",
       "      <td>0</td>\n",
       "      <td>0</td>\n",
       "      <td>0</td>\n",
       "      <td>0</td>\n",
       "      <td>0</td>\n",
       "      <td>0</td>\n",
       "      <td>0</td>\n",
       "      <td>0</td>\n",
       "    </tr>\n",
       "    <tr>\n",
       "      <th>1</th>\n",
       "      <td>36</td>\n",
       "      <td>2</td>\n",
       "      <td>0</td>\n",
       "      <td>0</td>\n",
       "      <td>0</td>\n",
       "      <td>0</td>\n",
       "      <td>0</td>\n",
       "      <td>0</td>\n",
       "      <td>0</td>\n",
       "      <td>0</td>\n",
       "      <td>...</td>\n",
       "      <td>0</td>\n",
       "      <td>0</td>\n",
       "      <td>0</td>\n",
       "      <td>1</td>\n",
       "      <td>0</td>\n",
       "      <td>0</td>\n",
       "      <td>0</td>\n",
       "      <td>0</td>\n",
       "      <td>0</td>\n",
       "      <td>0</td>\n",
       "    </tr>\n",
       "    <tr>\n",
       "      <th>2</th>\n",
       "      <td>15</td>\n",
       "      <td>111</td>\n",
       "      <td>0</td>\n",
       "      <td>0</td>\n",
       "      <td>0</td>\n",
       "      <td>0</td>\n",
       "      <td>0</td>\n",
       "      <td>0</td>\n",
       "      <td>0</td>\n",
       "      <td>0</td>\n",
       "      <td>...</td>\n",
       "      <td>0</td>\n",
       "      <td>0</td>\n",
       "      <td>1</td>\n",
       "      <td>0</td>\n",
       "      <td>0</td>\n",
       "      <td>0</td>\n",
       "      <td>0</td>\n",
       "      <td>0</td>\n",
       "      <td>0</td>\n",
       "      <td>0</td>\n",
       "    </tr>\n",
       "    <tr>\n",
       "      <th>3</th>\n",
       "      <td>8</td>\n",
       "      <td>4</td>\n",
       "      <td>0</td>\n",
       "      <td>0</td>\n",
       "      <td>0</td>\n",
       "      <td>0</td>\n",
       "      <td>0</td>\n",
       "      <td>0</td>\n",
       "      <td>0</td>\n",
       "      <td>0</td>\n",
       "      <td>...</td>\n",
       "      <td>0</td>\n",
       "      <td>1</td>\n",
       "      <td>0</td>\n",
       "      <td>0</td>\n",
       "      <td>0</td>\n",
       "      <td>0</td>\n",
       "      <td>0</td>\n",
       "      <td>0</td>\n",
       "      <td>0</td>\n",
       "      <td>0</td>\n",
       "    </tr>\n",
       "    <tr>\n",
       "      <th>4</th>\n",
       "      <td>10</td>\n",
       "      <td>4</td>\n",
       "      <td>0</td>\n",
       "      <td>0</td>\n",
       "      <td>0</td>\n",
       "      <td>0</td>\n",
       "      <td>0</td>\n",
       "      <td>0</td>\n",
       "      <td>0</td>\n",
       "      <td>0</td>\n",
       "      <td>...</td>\n",
       "      <td>0</td>\n",
       "      <td>0</td>\n",
       "      <td>0</td>\n",
       "      <td>0</td>\n",
       "      <td>0</td>\n",
       "      <td>0</td>\n",
       "      <td>0</td>\n",
       "      <td>0</td>\n",
       "      <td>0</td>\n",
       "      <td>1</td>\n",
       "    </tr>\n",
       "  </tbody>\n",
       "</table>\n",
       "<p>5 rows × 22 columns</p>\n",
       "</div>"
      ],
      "text/plain": [
       "   Length_of_contract_in_Months  Value  Region_Region1  Region_Region10  \\\n",
       "0                             4      2               0                0   \n",
       "1                            36      2               0                0   \n",
       "2                            15    111               0                0   \n",
       "3                             8      4               0                0   \n",
       "4                            10      4               0                0   \n",
       "\n",
       "   Region_Region11  Region_Region12  Region_Region13  Region_Region14  \\\n",
       "0                0                0                0                0   \n",
       "1                0                0                0                0   \n",
       "2                0                0                0                0   \n",
       "3                0                0                0                0   \n",
       "4                0                0                0                0   \n",
       "\n",
       "   Region_Region15  Region_Region16       ...        Region_Region19  \\\n",
       "0                0                0       ...                      0   \n",
       "1                0                0       ...                      0   \n",
       "2                0                0       ...                      0   \n",
       "3                0                0       ...                      0   \n",
       "4                0                0       ...                      0   \n",
       "\n",
       "   Region_Region2  Region_Region20  Region_Region3  Region_Region4  \\\n",
       "0               1                0               0               0   \n",
       "1               0                0               1               0   \n",
       "2               0                1               0               0   \n",
       "3               1                0               0               0   \n",
       "4               0                0               0               0   \n",
       "\n",
       "   Region_Region5  Region_Region6  Region_Region7  Region_Region8  \\\n",
       "0               0               0               0               0   \n",
       "1               0               0               0               0   \n",
       "2               0               0               0               0   \n",
       "3               0               0               0               0   \n",
       "4               0               0               0               0   \n",
       "\n",
       "   Region_Region9  \n",
       "0               0  \n",
       "1               0  \n",
       "2               0  \n",
       "3               0  \n",
       "4               1  \n",
       "\n",
       "[5 rows x 22 columns]"
      ]
     },
     "execution_count": 320,
     "metadata": {},
     "output_type": "execute_result"
    }
   ],
   "source": [
    "df3_test=pd.get_dummies(df3_test)\n",
    "\n",
    "df3_test.head()"
   ]
  },
  {
   "cell_type": "code",
   "execution_count": 321,
   "metadata": {
    "collapsed": true
   },
   "outputs": [],
   "source": [
    "x_test_mtx=df3_test.as_matrix()"
   ]
  },
  {
   "cell_type": "code",
   "execution_count": 323,
   "metadata": {
    "collapsed": true
   },
   "outputs": [],
   "source": [
    "y_test_pred=reg.predict(x_test_mtx)"
   ]
  },
  {
   "cell_type": "code",
   "execution_count": 329,
   "metadata": {
    "collapsed": false
   },
   "outputs": [
    {
     "data": {
      "text/plain": [
       "(152,)"
      ]
     },
     "execution_count": 329,
     "metadata": {},
     "output_type": "execute_result"
    }
   ],
   "source": [
    "y_test_pred.shape"
   ]
  },
  {
   "cell_type": "code",
   "execution_count": 325,
   "metadata": {
    "collapsed": false
   },
   "outputs": [
    {
     "name": "stdout",
     "output_type": "stream",
     "text": [
      "<class 'pandas.core.frame.DataFrame'>\n",
      "Int64Index: 152 entries, 0 to 151\n",
      "Data columns (total 6 columns):\n",
      "Molecule                        152 non-null object\n",
      "Region                          152 non-null object\n",
      "Length_of_contract_in_Months    152 non-null int64\n",
      "Presentation                    152 non-null object\n",
      "Start_date                      152 non-null datetime64[ns]\n",
      "Value                           152 non-null int64\n",
      "dtypes: datetime64[ns](1), int64(2), object(3)\n",
      "memory usage: 8.3+ KB\n"
     ]
    }
   ],
   "source": [
    "df2_test.info()"
   ]
  },
  {
   "cell_type": "code",
   "execution_count": 327,
   "metadata": {
    "collapsed": false
   },
   "outputs": [
    {
     "data": {
      "text/plain": [
       "(166,)"
      ]
     },
     "execution_count": 327,
     "metadata": {},
     "output_type": "execute_result"
    }
   ],
   "source": [
    "y_test.shape"
   ]
  },
  {
   "cell_type": "code",
   "execution_count": 339,
   "metadata": {
    "collapsed": false
   },
   "outputs": [
    {
     "data": {
      "text/plain": [
       "'Presentation20'"
      ]
     },
     "execution_count": 339,
     "metadata": {},
     "output_type": "execute_result"
    }
   ],
   "source": [
    "df2_test.loc[1,'Presentation']"
   ]
  },
  {
   "cell_type": "code",
   "execution_count": 348,
   "metadata": {
    "collapsed": false
   },
   "outputs": [],
   "source": [
    "y_final = []\n",
    "for i,j in enumerate(y_test_pred):\n",
    "    y_final.append(j * pDict[df2_test.loc[i,'Presentation']])"
   ]
  },
  {
   "cell_type": "code",
   "execution_count": 350,
   "metadata": {
    "collapsed": false
   },
   "outputs": [],
   "source": [
    "#y_final"
   ]
  },
  {
   "cell_type": "code",
   "execution_count": null,
   "metadata": {
    "collapsed": true
   },
   "outputs": [],
   "source": [
    "y_final_pred = np.asarray([])"
   ]
  },
  {
   "cell_type": "code",
   "execution_count": 351,
   "metadata": {
    "collapsed": true
   },
   "outputs": [],
   "source": [
    "y_rand_predict=randForest.predict(x_test_mtx)"
   ]
  },
  {
   "cell_type": "code",
   "execution_count": 353,
   "metadata": {
    "collapsed": false
   },
   "outputs": [],
   "source": [
    "y_rand_final = []\n",
    "for i,j in enumerate(y_rand_predict):\n",
    "    y_rand_final.append(j * pDict[df2_test.loc[i,'Presentation']])"
   ]
  },
  {
   "cell_type": "code",
   "execution_count": 354,
   "metadata": {
    "collapsed": false
   },
   "outputs": [
    {
     "data": {
      "text/plain": [
       "[19.414207999488763,\n",
       " 12.312638593668648,\n",
       " 17.528536881182259,\n",
       " 17.989659597737859,\n",
       " 18.181500813926093,\n",
       " 18.878015708107622,\n",
       " 19.413982518714178,\n",
       " 15.169029981593029,\n",
       " 16.49895779236568,\n",
       " 16.275154096510253,\n",
       " 18.673706992254427,\n",
       " 17.989659597737859,\n",
       " 16.485553175705761,\n",
       " 18.510642989173753,\n",
       " 14.326289351905119,\n",
       " 15.022843478552664,\n",
       " 12.286915229596083,\n",
       " 13.915382685644849,\n",
       " 14.543089840358359,\n",
       " 10.258487246300854,\n",
       " 15.60397805803219,\n",
       " 12.670007383512029,\n",
       " 15.58854777177906,\n",
       " 12.594459154697169,\n",
       " 11.979833597793769,\n",
       " 11.979833597793769,\n",
       " 0.84183888414369723,\n",
       " 0.58927837461578991,\n",
       " 1.8438969587630925,\n",
       " 2.7818236739311391,\n",
       " 1.0730108185033493,\n",
       " 6.1425023404190853,\n",
       " 1.2358324242818519,\n",
       " 0.95607389238294149,\n",
       " 0.95607389238294149,\n",
       " 1.7595173271465785,\n",
       " 0.74142599821342259,\n",
       " 1.5657381956242968,\n",
       " 0.56689075803785627,\n",
       " 0.71771502988514402,\n",
       " 0.63178677268717465,\n",
       " 0.52361413446632321,\n",
       " 0.43459644468869102,\n",
       " 0.37411153921226692,\n",
       " 0.51088274765427388,\n",
       " 0.56615005268737617,\n",
       " 0.88228958969361104,\n",
       " 0.51647158578441943,\n",
       " 0.59787995403279481,\n",
       " 0.57788831595389856,\n",
       " 0.79683357277449107,\n",
       " 3.4492705860453214,\n",
       " 1.3718262307859868,\n",
       " 1.1940393378665641,\n",
       " 0.86510087224584942,\n",
       " 0.60416255936596475,\n",
       " 0.77381678282194244,\n",
       " 0.65377781059337503,\n",
       " 0.54051707799079429,\n",
       " 0.64544940020977681,\n",
       " 0.95072781912010185,\n",
       " 2.6163933265836343,\n",
       " 0.38851221599185021,\n",
       " 0.3407874805559804,\n",
       " 0.65288197287115857,\n",
       " 0.65288197287115857,\n",
       " 3.9369095702302515,\n",
       " 1.0671848757902476,\n",
       " 0.8027924155566375,\n",
       " 0.44403443961548328,\n",
       " 0.60897788157341382,\n",
       " 0.5281914757735352,\n",
       " 0.38528510274834843,\n",
       " 0.56187059257222549,\n",
       " 5.3186802779533489,\n",
       " 0.24897470790129231,\n",
       " 2.5681671957857377,\n",
       " 0.8598663854296863,\n",
       " 9.4705171337054708,\n",
       " 9.8233079088089479,\n",
       " 10.199628892353717,\n",
       " 10.489207132531655,\n",
       " 8.195695928083607,\n",
       " 8.9142444415100339,\n",
       " 10.089242657200783,\n",
       " 8.907002042865523,\n",
       " 10.001140584247734,\n",
       " 8.6681288515759771,\n",
       " 9.3403275927588734,\n",
       " 7.5183611182030017,\n",
       " 7.8575058742063248,\n",
       " 8.4306946183970854,\n",
       " 6.8454955951595862,\n",
       " 8.4223577679612038,\n",
       " 6.8046775394221255,\n",
       " 6.4726006577677389,\n",
       " 6.4726006577677389,\n",
       " 0.45483828057899173,\n",
       " 0.31838201791458021,\n",
       " 0.99624160642296933,\n",
       " 3.3187409795289939,\n",
       " 0.51140152912571524,\n",
       " 0.51655846921379911,\n",
       " 0.51655846921379911,\n",
       " 0.95065202000301863,\n",
       " 0.40058606528608937,\n",
       " 0.62978477704054225,\n",
       " 0.84595482835055968,\n",
       " 0.30628618197451579,\n",
       " 0.38777523382126922,\n",
       " 0.34134893837065128,\n",
       " 0.28290419591365285,\n",
       " 0.23480870671472301,\n",
       " 0.20212923451873019,\n",
       " 0.27602553754321085,\n",
       " 0.30588598526897787,\n",
       " 0.47669344753204174,\n",
       " 0.27904513853032303,\n",
       " 0.59865361597553679,\n",
       " 0.32302937700666318,\n",
       " 0.31222806756250282,\n",
       " 0.43052229942671488,\n",
       " 1.8636111162819005,\n",
       " 0.74118586800434716,\n",
       " 0.46740653190417736,\n",
       " 0.3264238144235117,\n",
       " 0.26178985777304759,\n",
       " 2.6138765752770845,\n",
       " 0.41808652654469386,\n",
       " 0.7443378875667408,\n",
       " 0.35323050627847946,\n",
       " 0.29203671035816486,\n",
       " 0.58101861128149324,\n",
       " 0.34873073805657656,\n",
       " 0.51367003198843542,\n",
       " 1.4136147241430062,\n",
       " 0.20990979584580882,\n",
       " 0.80399039788328031,\n",
       " 1.1653438977823554,\n",
       " 0.18412453335010184,\n",
       " 0.35274649289192134,\n",
       " 0.35274649289192134,\n",
       " 2.1270782491116784,\n",
       " 0.23990797388504617,\n",
       " 0.3290254914362073,\n",
       " 0.28537729390070199,\n",
       " 0.20816621442357375,\n",
       " 0.30357382991806248,\n",
       " 0.13451888500573286,\n",
       " 1.3875585620622952,\n",
       " 0.79015195777950675,\n",
       " 0.46457838387250411]"
      ]
     },
     "execution_count": 354,
     "metadata": {},
     "output_type": "execute_result"
    }
   ],
   "source": [
    "y_rand_final"
   ]
  },
  {
   "cell_type": "code",
   "execution_count": null,
   "metadata": {
    "collapsed": true
   },
   "outputs": [],
   "source": []
  }
 ],
 "metadata": {
  "kernelspec": {
   "display_name": "Python 2",
   "language": "python",
   "name": "python2"
  },
  "language_info": {
   "codemirror_mode": {
    "name": "ipython",
    "version": 2
   },
   "file_extension": ".py",
   "mimetype": "text/x-python",
   "name": "python",
   "nbconvert_exporter": "python",
   "pygments_lexer": "ipython2",
   "version": "2.7.11"
  }
 },
 "nbformat": 4,
 "nbformat_minor": 0
}
