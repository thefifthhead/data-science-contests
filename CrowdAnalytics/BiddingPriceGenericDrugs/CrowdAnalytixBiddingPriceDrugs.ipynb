{
 "cells": [
  {
   "cell_type": "code",
   "execution_count": 813,
   "metadata": {
    "collapsed": false
   },
   "outputs": [],
   "source": [
    "import pandas as pd\n",
    "import numpy as np\n",
    "import math\n",
    "import graphlab as gl\n",
    "from sklearn import linear_model\n",
    "from sklearn.cross_validation import train_test_split\n",
    "from sklearn.metrics import mean_squared_error\n",
    "import matplotlib.pyplot as plt\n",
    "from datetime import datetime\n",
    "from sklearn.ensemble import RandomForestRegressor\n",
    "from sklearn.svm import SVR\n",
    "import csv\n",
    "%matplotlib inline"
   ]
  },
  {
   "cell_type": "code",
   "execution_count": 814,
   "metadata": {
    "collapsed": false
   },
   "outputs": [],
   "source": [
    "df=pd.read_csv('data/CAX_Bidding_TRAIN_Molecule_3_4_5.csv')\n",
    "df['Start_date'] = pd.to_datetime(df['Start_date'])\n",
    "col=['ID', 'Account','Molecule','Winning_price_per_standard_unit','Province','Region','Tender_Type', 'Length_of_contract_in_Months', 'Presentation', 'Start_date']\n",
    "df2=df[col]"
   ]
  },
  {
   "cell_type": "code",
   "execution_count": 815,
   "metadata": {
    "collapsed": false
   },
   "outputs": [],
   "source": [
    "df_molecule3_post_loe = df2[(df2['Molecule'] == 'Molecule3') & (df2['Start_date'] > datetime(2009,12,31,0,0,0))]\n",
    "df_molecule3_pre_loe = df2[(df2['Molecule'] == 'Molecule3') & (df2['Start_date'] <= datetime(2009,12,31,0,0,0))]\n",
    "df_molecule4_pre_loe = df2[(df2['Molecule'] == 'Molecule4') & (df2['Start_date'] <= datetime(2011,1,31,0,0,0))]\n",
    "df_molecule4_post_loe = df2[(df2['Molecule'] == 'Molecule4') & (df2['Start_date'] > datetime(2011,1,31,0,0,0))]\n",
    "df_molecule5_pre_loe = df2[(df2['Molecule'] == 'Molecule5') & (df2['Start_date'] <= datetime(2011,1,31,0,0,0))]\n",
    "df_molecule5_post_loe = df2[(df2['Molecule'] == 'Molecule5') & (df2['Start_date'] > datetime(2011,1,31,0,0,0))]\n",
    "#mol3_group_region = df_molecule3.groupby(['Region', 'Presentation'])\n",
    "#mol3_group_region.get_group(('Region12', 'Presentation10')).sort('Start_date')\n",
    "#df_molecule3.to_csv('molecule_5_post_loe.csv')"
   ]
  },
  {
   "cell_type": "code",
   "execution_count": 816,
   "metadata": {
    "collapsed": false
   },
   "outputs": [
    {
     "data": {
      "text/plain": [
       "(67, 178)"
      ]
     },
     "execution_count": 816,
     "metadata": {},
     "output_type": "execute_result"
    }
   ],
   "source": [
    "df_molecule3_pre_loe.count().max(), df_molecule3_post_loe.count().max()"
   ]
  },
  {
   "cell_type": "code",
   "execution_count": 817,
   "metadata": {
    "collapsed": false
   },
   "outputs": [
    {
     "data": {
      "text/plain": [
       "(41, 182)"
      ]
     },
     "execution_count": 817,
     "metadata": {},
     "output_type": "execute_result"
    }
   ],
   "source": [
    "df_molecule4_pre_loe.count().max(), df_molecule4_post_loe.count().max()"
   ]
  },
  {
   "cell_type": "code",
   "execution_count": 818,
   "metadata": {
    "collapsed": false
   },
   "outputs": [
    {
     "data": {
      "text/plain": [
       "(44, 274)"
      ]
     },
     "execution_count": 818,
     "metadata": {},
     "output_type": "execute_result"
    }
   ],
   "source": [
    "df_molecule5_pre_loe.count().max(), df_molecule5_post_loe.count().max()"
   ]
  },
  {
   "cell_type": "code",
   "execution_count": 826,
   "metadata": {
    "collapsed": false
   },
   "outputs": [
    {
     "data": {
      "text/html": [
       "<div>\n",
       "<table border=\"1\" class=\"dataframe\">\n",
       "  <thead>\n",
       "    <tr style=\"text-align: right;\">\n",
       "      <th></th>\n",
       "      <th>ID</th>\n",
       "      <th>Account</th>\n",
       "      <th>Molecule</th>\n",
       "      <th>Winning_price_per_standard_unit</th>\n",
       "      <th>Province</th>\n",
       "      <th>Region</th>\n",
       "      <th>Tender_Type</th>\n",
       "      <th>Length_of_contract_in_Months</th>\n",
       "      <th>Presentation</th>\n",
       "      <th>Start_date</th>\n",
       "    </tr>\n",
       "  </thead>\n",
       "  <tbody>\n",
       "    <tr>\n",
       "      <th>194</th>\n",
       "      <td>873</td>\n",
       "      <td>Account56</td>\n",
       "      <td>Molecule3</td>\n",
       "      <td>5.6580</td>\n",
       "      <td>Provice3</td>\n",
       "      <td>Region3</td>\n",
       "      <td>Tender Type1</td>\n",
       "      <td>12</td>\n",
       "      <td>Presentation11</td>\n",
       "      <td>2008-09-18</td>\n",
       "    </tr>\n",
       "    <tr>\n",
       "      <th>209</th>\n",
       "      <td>888</td>\n",
       "      <td>Account45</td>\n",
       "      <td>Molecule3</td>\n",
       "      <td>4.0800</td>\n",
       "      <td>Provice3</td>\n",
       "      <td>Region3</td>\n",
       "      <td>Tender Type1</td>\n",
       "      <td>36</td>\n",
       "      <td>Presentation11</td>\n",
       "      <td>2009-01-08</td>\n",
       "    </tr>\n",
       "    <tr>\n",
       "      <th>204</th>\n",
       "      <td>883</td>\n",
       "      <td>Account7</td>\n",
       "      <td>Molecule3</td>\n",
       "      <td>5.6585</td>\n",
       "      <td>Provice3</td>\n",
       "      <td>Region3</td>\n",
       "      <td>Tender Type4</td>\n",
       "      <td>3</td>\n",
       "      <td>Presentation11</td>\n",
       "      <td>2009-03-31</td>\n",
       "    </tr>\n",
       "  </tbody>\n",
       "</table>\n",
       "</div>"
      ],
      "text/plain": [
       "      ID    Account   Molecule  Winning_price_per_standard_unit  Province  \\\n",
       "194  873  Account56  Molecule3                           5.6580  Provice3   \n",
       "209  888  Account45  Molecule3                           4.0800  Provice3   \n",
       "204  883   Account7  Molecule3                           5.6585  Provice3   \n",
       "\n",
       "      Region   Tender_Type  Length_of_contract_in_Months    Presentation  \\\n",
       "194  Region3  Tender Type1                            12  Presentation11   \n",
       "209  Region3  Tender Type1                            36  Presentation11   \n",
       "204  Region3  Tender Type4                             3  Presentation11   \n",
       "\n",
       "    Start_date  \n",
       "194 2008-09-18  \n",
       "209 2009-01-08  \n",
       "204 2009-03-31  "
      ]
     },
     "execution_count": 826,
     "metadata": {},
     "output_type": "execute_result"
    }
   ],
   "source": [
    "df_molecule3_pre_loe = df_molecule3_pre_loe.dropna()\n",
    "#cleanup\n",
    "#df_molecule3_pre_loe = df_molecule3_pre_loe[df_molecule3_pre_loe['ID'] != 208]\n",
    "#df_molecule3_pre_loe = df_molecule3_pre_loe[df_molecule3_pre_loe['ID'] != 883]\n",
    "#df_molecule3_pre_loe = df_molecule3_pre_loe[df_molecule3_pre_loe['ID'] != 887]\n",
    "#df_molecule3_pre_loe = df_molecule3_pre_loe[df_molecule3_pre_loe['ID'] != 891]\n",
    "#df_molecule3_pre_loe['Region'].unique()\n",
    "#for region in df_molecule3_pre_loe[df_molecule3_pre_loe['Presentation'] == 'Presentation9']['Region'].unique():\n",
    "#    presentation9 = df_molecule3_pre_loe[df_molecule3_pre_loe['Region'] == region]\n",
    "#    print region\n",
    "#    fig = plt.figure(figsize=(20,10))\n",
    "#    ax = fig.add_subplot(111)\n",
    "#    plt.plot(presentation9['Start_date'], presentation9['Winning_price_per_standard_unit'])\n",
    "df_molecule3_pre_loe[(df_molecule3_pre_loe['Presentation'] == 'Presentation11') & (df_molecule3_pre_loe['Region'] == 'Region3')].sort_values(by='Start_date')"
   ]
  },
  {
   "cell_type": "code",
   "execution_count": 824,
   "metadata": {
    "collapsed": false,
    "scrolled": true
   },
   "outputs": [
    {
     "name": "stdout",
     "output_type": "stream",
     "text": [
      "Region19\n",
      "Region8\n",
      "Region2\n",
      "Region1\n",
      "Region5\n",
      "Region3\n",
      "Region10\n",
      "Region14\n",
      "Region16\n",
      "Region6\n",
      "Region12\n",
      "Region4\n"
     ]
    },
    {
     "data": {
      "image/png": "[encoded data removed]",
      "text/plain": [
       "<matplotlib.figure.Figure at 0x1234a23d0>"
      ]
     },
     "metadata": {},
     "output_type": "display_data"
    },
    {
     "data": {
      "image/png": "[encoded data removed]",
      "text/plain": [
       "<matplotlib.figure.Figure at 0x12110fd10>"
      ]
     },
     "metadata": {},
     "output_type": "display_data"
    },
    {
     "data": {
      "image/png": "[encoded data removed]",
      "text/plain": [
       "<matplotlib.figure.Figure at 0x11b8a5510>"
      ]
     },
     "metadata": {},
     "output_type": "display_data"
    },
    {
     "data": {
      "image/png": "[encoded data removed]",
      "text/plain": [
       "<matplotlib.figure.Figure at 0x120ec5810>"
      ]
     },
     "metadata": {},
     "output_type": "display_data"
    },
    {
     "data": {
      "image/png": "[encoded data removed]",
      "text/plain": [
       "<matplotlib.figure.Figure at 0x115c285d0>"
      ]
     },
     "metadata": {},
     "output_type": "display_data"
    },
    {
     "data": {
      "image/png": "[encoded data removed]",
      "text/plain": [
       "<matplotlib.figure.Figure at 0x121b06b50>"
      ]
     },
     "metadata": {},
     "output_type": "display_data"
    },
    {
     "data": {
      "image/png": "[encoded data removed]",
      "text/plain": [
       "<matplotlib.figure.Figure at 0x121104310>"
      ]
     },
     "metadata": {},
     "output_type": "display_data"
    },
    {
     "data": {
      "image/png": "[encoded data removed]",
      "text/plain": [
       "<matplotlib.figure.Figure at 0x11d32eb90>"
      ]
     },
     "metadata": {},
     "output_type": "display_data"
    },
    {
     "data": {
      "image/png": "[encoded data removed]",
      "text/plain": [
       "<matplotlib.figure.Figure at 0x1205e0b10>"
      ]
     },
     "metadata": {},
     "output_type": "display_data"
    },
    {
     "data": {
      "image/png": "[encoded data removed]",
      "text/plain": [
       "<matplotlib.figure.Figure at 0x122d659d0>"
      ]
     },
     "metadata": {},
     "output_type": "display_data"
    },
    {
     "data": {
      "image/png": "[encoded data removed]",
      "text/plain": [
       "<matplotlib.figure.Figure at 0x120c86450>"
      ]
     },
     "metadata": {},
     "output_type": "display_data"
    },
    {
     "data": {
      "image/png": "[encoded data removed]",
      "text/plain": [
       "<matplotlib.figure.Figure at 0x117b60090>"
      ]
     },
     "metadata": {},
     "output_type": "display_data"
    }
   ],
   "source": [
    "for region in df_molecule3_pre_loe[df_molecule3_pre_loe['Presentation'] == 'Presentation9']['Region'].unique():\n",
    "    presentation9 = df_molecule3_pre_loe[(df_molecule3_pre_loe['Presentation'] == 'Presentation9') & (df_molecule3_pre_loe['Region'] == region)]\n",
    "    print region\n",
    "    fig = plt.figure(figsize=(20,10))\n",
    "    ax = fig.add_subplot(111)\n",
    "    #ax.annotate(presentation9['Winning_price_per_standard_unit'], textcoords='offset points')\n",
    "    \n",
    "    plt.plot(presentation9['Start_date'], presentation9['Winning_price_per_standard_unit'])\n",
    "    plt.legend(region)\n"
   ]
  },
  {
   "cell_type": "code",
   "execution_count": 783,
   "metadata": {
    "collapsed": false
   },
   "outputs": [
    {
     "data": {
      "text/plain": [
       "[<matplotlib.lines.Line2D at 0x120f747d0>]"
      ]
     },
     "execution_count": 783,
     "metadata": {},
     "output_type": "execute_result"
    },
    {
     "data": {
      "image/png": "[encoded data removed]",
      "text/plain": [
       "<matplotlib.figure.Figure at 0x11fa3f290>"
      ]
     },
     "metadata": {},
     "output_type": "display_data"
    }
   ],
   "source": [
    "df_molecule3_pre_loe.sort_values(by='Start_date')\n",
    "\n",
    "presentation9 = df_molecule3_pre_loe[(df_molecule3_pre_loe['Presentation'] == 'Presentation11') & (df_molecule3_pre_loe['Region'] == 'Region3')]\n",
    "plt.figure(figsize=(20,10))\n",
    "plt.plot(presentation9['Start_date'], presentation9['Winning_price_per_standard_unit'])"
   ]
  },
  {
   "cell_type": "code",
   "execution_count": 759,
   "metadata": {
    "collapsed": false
   },
   "outputs": [
    {
     "data": {
      "text/html": [
       "<div>\n",
       "<table border=\"1\" class=\"dataframe\">\n",
       "  <thead>\n",
       "    <tr style=\"text-align: right;\">\n",
       "      <th></th>\n",
       "      <th>ID</th>\n",
       "      <th>Account</th>\n",
       "      <th>Molecule</th>\n",
       "      <th>Winning_price_per_standard_unit</th>\n",
       "      <th>Province</th>\n",
       "      <th>Region</th>\n",
       "      <th>Tender_Type</th>\n",
       "      <th>Length_of_contract_in_Months</th>\n",
       "      <th>Presentation</th>\n",
       "      <th>Start_date</th>\n",
       "    </tr>\n",
       "  </thead>\n",
       "  <tbody>\n",
       "    <tr>\n",
       "      <th>186</th>\n",
       "      <td>865</td>\n",
       "      <td>Account89</td>\n",
       "      <td>Molecule3</td>\n",
       "      <td>5.65000</td>\n",
       "      <td>Provice35</td>\n",
       "      <td>Region19</td>\n",
       "      <td>Tender Type1</td>\n",
       "      <td>36</td>\n",
       "      <td>Presentation11</td>\n",
       "      <td>2008-01-02</td>\n",
       "    </tr>\n",
       "    <tr>\n",
       "      <th>187</th>\n",
       "      <td>866</td>\n",
       "      <td>Account58</td>\n",
       "      <td>Molecule3</td>\n",
       "      <td>5.65850</td>\n",
       "      <td>Provice1</td>\n",
       "      <td>Region1</td>\n",
       "      <td>Tender Type1</td>\n",
       "      <td>24</td>\n",
       "      <td>Presentation11</td>\n",
       "      <td>2008-01-04</td>\n",
       "    </tr>\n",
       "    <tr>\n",
       "      <th>188</th>\n",
       "      <td>867</td>\n",
       "      <td>Account58</td>\n",
       "      <td>Molecule3</td>\n",
       "      <td>5.65850</td>\n",
       "      <td>Provice1</td>\n",
       "      <td>Region1</td>\n",
       "      <td>Tender Type1</td>\n",
       "      <td>24</td>\n",
       "      <td>Presentation11</td>\n",
       "      <td>2008-01-04</td>\n",
       "    </tr>\n",
       "    <tr>\n",
       "      <th>189</th>\n",
       "      <td>868</td>\n",
       "      <td>Account16</td>\n",
       "      <td>Molecule3</td>\n",
       "      <td>5.65000</td>\n",
       "      <td>Provice1</td>\n",
       "      <td>Region1</td>\n",
       "      <td>Tender Type4</td>\n",
       "      <td>36</td>\n",
       "      <td>Presentation11</td>\n",
       "      <td>2008-01-05</td>\n",
       "    </tr>\n",
       "    <tr>\n",
       "      <th>190</th>\n",
       "      <td>869</td>\n",
       "      <td>Account80</td>\n",
       "      <td>Molecule3</td>\n",
       "      <td>5.65850</td>\n",
       "      <td>Provice24</td>\n",
       "      <td>Region1</td>\n",
       "      <td>Tender Type1</td>\n",
       "      <td>36</td>\n",
       "      <td>Presentation11</td>\n",
       "      <td>2008-01-07</td>\n",
       "    </tr>\n",
       "    <tr>\n",
       "      <th>196</th>\n",
       "      <td>875</td>\n",
       "      <td>Account72</td>\n",
       "      <td>Molecule3</td>\n",
       "      <td>5.65900</td>\n",
       "      <td>Provice37</td>\n",
       "      <td>Region5</td>\n",
       "      <td>Tender Type1</td>\n",
       "      <td>36</td>\n",
       "      <td>Presentation11</td>\n",
       "      <td>2008-01-10</td>\n",
       "    </tr>\n",
       "    <tr>\n",
       "      <th>198</th>\n",
       "      <td>877</td>\n",
       "      <td>Account71</td>\n",
       "      <td>Molecule3</td>\n",
       "      <td>5.65850</td>\n",
       "      <td>Provice39</td>\n",
       "      <td>Region14</td>\n",
       "      <td>Tender Type1</td>\n",
       "      <td>36</td>\n",
       "      <td>Presentation11</td>\n",
       "      <td>2008-01-11</td>\n",
       "    </tr>\n",
       "    <tr>\n",
       "      <th>185</th>\n",
       "      <td>864</td>\n",
       "      <td>Account35</td>\n",
       "      <td>Molecule3</td>\n",
       "      <td>5.65850</td>\n",
       "      <td>Provice51</td>\n",
       "      <td>Region17</td>\n",
       "      <td>Tender Type1</td>\n",
       "      <td>36</td>\n",
       "      <td>Presentation11</td>\n",
       "      <td>2008-01-31</td>\n",
       "    </tr>\n",
       "    <tr>\n",
       "      <th>191</th>\n",
       "      <td>870</td>\n",
       "      <td>Account103</td>\n",
       "      <td>Molecule3</td>\n",
       "      <td>5.65850</td>\n",
       "      <td>Provice22</td>\n",
       "      <td>Region5</td>\n",
       "      <td>Tender Type1</td>\n",
       "      <td>36</td>\n",
       "      <td>Presentation11</td>\n",
       "      <td>2008-02-07</td>\n",
       "    </tr>\n",
       "    <tr>\n",
       "      <th>193</th>\n",
       "      <td>872</td>\n",
       "      <td>Account5</td>\n",
       "      <td>Molecule3</td>\n",
       "      <td>5.65850</td>\n",
       "      <td>Provice36</td>\n",
       "      <td>Region1</td>\n",
       "      <td>Tender Type1</td>\n",
       "      <td>36</td>\n",
       "      <td>Presentation11</td>\n",
       "      <td>2008-09-15</td>\n",
       "    </tr>\n",
       "    <tr>\n",
       "      <th>194</th>\n",
       "      <td>873</td>\n",
       "      <td>Account56</td>\n",
       "      <td>Molecule3</td>\n",
       "      <td>5.65800</td>\n",
       "      <td>Provice3</td>\n",
       "      <td>Region3</td>\n",
       "      <td>Tender Type1</td>\n",
       "      <td>12</td>\n",
       "      <td>Presentation11</td>\n",
       "      <td>2008-09-18</td>\n",
       "    </tr>\n",
       "    <tr>\n",
       "      <th>195</th>\n",
       "      <td>874</td>\n",
       "      <td>Account119</td>\n",
       "      <td>Molecule3</td>\n",
       "      <td>5.65850</td>\n",
       "      <td>Provice13</td>\n",
       "      <td>Region10</td>\n",
       "      <td>Tender Type1</td>\n",
       "      <td>24</td>\n",
       "      <td>Presentation11</td>\n",
       "      <td>2008-09-26</td>\n",
       "    </tr>\n",
       "    <tr>\n",
       "      <th>197</th>\n",
       "      <td>876</td>\n",
       "      <td>Account55</td>\n",
       "      <td>Molecule3</td>\n",
       "      <td>5.65850</td>\n",
       "      <td>Provice38</td>\n",
       "      <td>Region19</td>\n",
       "      <td>Tender Type1</td>\n",
       "      <td>36</td>\n",
       "      <td>Presentation11</td>\n",
       "      <td>2008-10-23</td>\n",
       "    </tr>\n",
       "    <tr>\n",
       "      <th>192</th>\n",
       "      <td>871</td>\n",
       "      <td>Account17</td>\n",
       "      <td>Molecule3</td>\n",
       "      <td>5.65850</td>\n",
       "      <td>Provice22</td>\n",
       "      <td>Region5</td>\n",
       "      <td>Tender Type1</td>\n",
       "      <td>48</td>\n",
       "      <td>Presentation11</td>\n",
       "      <td>2008-11-09</td>\n",
       "    </tr>\n",
       "    <tr>\n",
       "      <th>201</th>\n",
       "      <td>880</td>\n",
       "      <td>Account78</td>\n",
       "      <td>Molecule3</td>\n",
       "      <td>5.65850</td>\n",
       "      <td>Provice40</td>\n",
       "      <td>Region16</td>\n",
       "      <td>Tender Type4</td>\n",
       "      <td>12</td>\n",
       "      <td>Presentation11</td>\n",
       "      <td>2009-01-01</td>\n",
       "    </tr>\n",
       "    <tr>\n",
       "      <th>200</th>\n",
       "      <td>879</td>\n",
       "      <td>Account39</td>\n",
       "      <td>Molecule3</td>\n",
       "      <td>5.65850</td>\n",
       "      <td>Provice2</td>\n",
       "      <td>Region2</td>\n",
       "      <td>Tender Type1</td>\n",
       "      <td>36</td>\n",
       "      <td>Presentation11</td>\n",
       "      <td>2009-01-01</td>\n",
       "    </tr>\n",
       "    <tr>\n",
       "      <th>199</th>\n",
       "      <td>878</td>\n",
       "      <td>Account10</td>\n",
       "      <td>Molecule3</td>\n",
       "      <td>5.65850</td>\n",
       "      <td>Provice24</td>\n",
       "      <td>Region1</td>\n",
       "      <td>Tender Type1</td>\n",
       "      <td>36</td>\n",
       "      <td>Presentation11</td>\n",
       "      <td>2009-01-01</td>\n",
       "    </tr>\n",
       "    <tr>\n",
       "      <th>202</th>\n",
       "      <td>881</td>\n",
       "      <td>Account33</td>\n",
       "      <td>Molecule3</td>\n",
       "      <td>5.65400</td>\n",
       "      <td>Provice1</td>\n",
       "      <td>Region1</td>\n",
       "      <td>Tender Type1</td>\n",
       "      <td>36</td>\n",
       "      <td>Presentation11</td>\n",
       "      <td>2009-01-02</td>\n",
       "    </tr>\n",
       "    <tr>\n",
       "      <th>203</th>\n",
       "      <td>882</td>\n",
       "      <td>Account117</td>\n",
       "      <td>Molecule3</td>\n",
       "      <td>5.65850</td>\n",
       "      <td>Provice41</td>\n",
       "      <td>Region5</td>\n",
       "      <td>Tender Type1</td>\n",
       "      <td>36</td>\n",
       "      <td>Presentation11</td>\n",
       "      <td>2009-01-02</td>\n",
       "    </tr>\n",
       "    <tr>\n",
       "      <th>205</th>\n",
       "      <td>884</td>\n",
       "      <td>Account23</td>\n",
       "      <td>Molecule3</td>\n",
       "      <td>4.80000</td>\n",
       "      <td>Provice22</td>\n",
       "      <td>Region5</td>\n",
       "      <td>Tender Type1</td>\n",
       "      <td>36</td>\n",
       "      <td>Presentation11</td>\n",
       "      <td>2009-01-04</td>\n",
       "    </tr>\n",
       "    <tr>\n",
       "      <th>206</th>\n",
       "      <td>885</td>\n",
       "      <td>Account54</td>\n",
       "      <td>Molecule3</td>\n",
       "      <td>4.86000</td>\n",
       "      <td>Provice42</td>\n",
       "      <td>Region19</td>\n",
       "      <td>Tender Type1</td>\n",
       "      <td>24</td>\n",
       "      <td>Presentation11</td>\n",
       "      <td>2009-01-04</td>\n",
       "    </tr>\n",
       "    <tr>\n",
       "      <th>207</th>\n",
       "      <td>886</td>\n",
       "      <td>Account51</td>\n",
       "      <td>Molecule3</td>\n",
       "      <td>5.64750</td>\n",
       "      <td>Provice32</td>\n",
       "      <td>Region7</td>\n",
       "      <td>Tender Type1</td>\n",
       "      <td>24</td>\n",
       "      <td>Presentation11</td>\n",
       "      <td>2009-01-05</td>\n",
       "    </tr>\n",
       "    <tr>\n",
       "      <th>209</th>\n",
       "      <td>888</td>\n",
       "      <td>Account45</td>\n",
       "      <td>Molecule3</td>\n",
       "      <td>4.08000</td>\n",
       "      <td>Provice3</td>\n",
       "      <td>Region3</td>\n",
       "      <td>Tender Type1</td>\n",
       "      <td>36</td>\n",
       "      <td>Presentation11</td>\n",
       "      <td>2009-01-08</td>\n",
       "    </tr>\n",
       "    <tr>\n",
       "      <th>212</th>\n",
       "      <td>893</td>\n",
       "      <td>Account94</td>\n",
       "      <td>Molecule3</td>\n",
       "      <td>3.65000</td>\n",
       "      <td>Provice47</td>\n",
       "      <td>Region6</td>\n",
       "      <td>Tender Type4</td>\n",
       "      <td>12</td>\n",
       "      <td>Presentation11</td>\n",
       "      <td>2009-01-09</td>\n",
       "    </tr>\n",
       "    <tr>\n",
       "      <th>213</th>\n",
       "      <td>895</td>\n",
       "      <td>Account27</td>\n",
       "      <td>Molecule3</td>\n",
       "      <td>4.80000</td>\n",
       "      <td>Provice14</td>\n",
       "      <td>Region12</td>\n",
       "      <td>Tender Type1</td>\n",
       "      <td>24</td>\n",
       "      <td>Presentation11</td>\n",
       "      <td>2009-01-10</td>\n",
       "    </tr>\n",
       "    <tr>\n",
       "      <th>214</th>\n",
       "      <td>896</td>\n",
       "      <td>Account50</td>\n",
       "      <td>Molecule3</td>\n",
       "      <td>4.65000</td>\n",
       "      <td>Provice1</td>\n",
       "      <td>Region1</td>\n",
       "      <td>Tender Type1</td>\n",
       "      <td>36</td>\n",
       "      <td>Presentation11</td>\n",
       "      <td>2009-01-10</td>\n",
       "    </tr>\n",
       "    <tr>\n",
       "      <th>215</th>\n",
       "      <td>901</td>\n",
       "      <td>Account108</td>\n",
       "      <td>Molecule3</td>\n",
       "      <td>2.02000</td>\n",
       "      <td>Provice4</td>\n",
       "      <td>Region4</td>\n",
       "      <td>Tender Type1</td>\n",
       "      <td>36</td>\n",
       "      <td>Presentation11</td>\n",
       "      <td>2009-01-10</td>\n",
       "    </tr>\n",
       "    <tr>\n",
       "      <th>216</th>\n",
       "      <td>902</td>\n",
       "      <td>Account40</td>\n",
       "      <td>Molecule3</td>\n",
       "      <td>2.81999</td>\n",
       "      <td>Provice2</td>\n",
       "      <td>Region2</td>\n",
       "      <td>Tender Type1</td>\n",
       "      <td>36</td>\n",
       "      <td>Presentation11</td>\n",
       "      <td>2009-01-11</td>\n",
       "    </tr>\n",
       "    <tr>\n",
       "      <th>204</th>\n",
       "      <td>883</td>\n",
       "      <td>Account7</td>\n",
       "      <td>Molecule3</td>\n",
       "      <td>5.65850</td>\n",
       "      <td>Provice3</td>\n",
       "      <td>Region3</td>\n",
       "      <td>Tender Type4</td>\n",
       "      <td>3</td>\n",
       "      <td>Presentation11</td>\n",
       "      <td>2009-03-31</td>\n",
       "    </tr>\n",
       "    <tr>\n",
       "      <th>208</th>\n",
       "      <td>887</td>\n",
       "      <td>Account105</td>\n",
       "      <td>Molecule3</td>\n",
       "      <td>4.79000</td>\n",
       "      <td>Provice4</td>\n",
       "      <td>Region4</td>\n",
       "      <td>Tender Type1</td>\n",
       "      <td>12</td>\n",
       "      <td>Presentation11</td>\n",
       "      <td>2009-06-30</td>\n",
       "    </tr>\n",
       "    <tr>\n",
       "      <th>211</th>\n",
       "      <td>891</td>\n",
       "      <td>Account89</td>\n",
       "      <td>Molecule3</td>\n",
       "      <td>4.13000</td>\n",
       "      <td>Provice35</td>\n",
       "      <td>Region19</td>\n",
       "      <td>Tender Type4</td>\n",
       "      <td>23</td>\n",
       "      <td>Presentation11</td>\n",
       "      <td>2009-08-24</td>\n",
       "    </tr>\n",
       "  </tbody>\n",
       "</table>\n",
       "</div>"
      ],
      "text/plain": [
       "      ID     Account   Molecule  Winning_price_per_standard_unit   Province  \\\n",
       "186  865   Account89  Molecule3                          5.65000  Provice35   \n",
       "187  866   Account58  Molecule3                          5.65850   Provice1   \n",
       "188  867   Account58  Molecule3                          5.65850   Provice1   \n",
       "189  868   Account16  Molecule3                          5.65000   Provice1   \n",
       "190  869   Account80  Molecule3                          5.65850  Provice24   \n",
       "196  875   Account72  Molecule3                          5.65900  Provice37   \n",
       "198  877   Account71  Molecule3                          5.65850  Provice39   \n",
       "185  864   Account35  Molecule3                          5.65850  Provice51   \n",
       "191  870  Account103  Molecule3                          5.65850  Provice22   \n",
       "193  872    Account5  Molecule3                          5.65850  Provice36   \n",
       "194  873   Account56  Molecule3                          5.65800   Provice3   \n",
       "195  874  Account119  Molecule3                          5.65850  Provice13   \n",
       "197  876   Account55  Molecule3                          5.65850  Provice38   \n",
       "192  871   Account17  Molecule3                          5.65850  Provice22   \n",
       "201  880   Account78  Molecule3                          5.65850  Provice40   \n",
       "200  879   Account39  Molecule3                          5.65850   Provice2   \n",
       "199  878   Account10  Molecule3                          5.65850  Provice24   \n",
       "202  881   Account33  Molecule3                          5.65400   Provice1   \n",
       "203  882  Account117  Molecule3                          5.65850  Provice41   \n",
       "205  884   Account23  Molecule3                          4.80000  Provice22   \n",
       "206  885   Account54  Molecule3                          4.86000  Provice42   \n",
       "207  886   Account51  Molecule3                          5.64750  Provice32   \n",
       "209  888   Account45  Molecule3                          4.08000   Provice3   \n",
       "212  893   Account94  Molecule3                          3.65000  Provice47   \n",
       "213  895   Account27  Molecule3                          4.80000  Provice14   \n",
       "214  896   Account50  Molecule3                          4.65000   Provice1   \n",
       "215  901  Account108  Molecule3                          2.02000   Provice4   \n",
       "216  902   Account40  Molecule3                          2.81999   Provice2   \n",
       "204  883    Account7  Molecule3                          5.65850   Provice3   \n",
       "208  887  Account105  Molecule3                          4.79000   Provice4   \n",
       "211  891   Account89  Molecule3                          4.13000  Provice35   \n",
       "\n",
       "       Region   Tender_Type  Length_of_contract_in_Months    Presentation  \\\n",
       "186  Region19  Tender Type1                            36  Presentation11   \n",
       "187   Region1  Tender Type1                            24  Presentation11   \n",
       "188   Region1  Tender Type1                            24  Presentation11   \n",
       "189   Region1  Tender Type4                            36  Presentation11   \n",
       "190   Region1  Tender Type1                            36  Presentation11   \n",
       "196   Region5  Tender Type1                            36  Presentation11   \n",
       "198  Region14  Tender Type1                            36  Presentation11   \n",
       "185  Region17  Tender Type1                            36  Presentation11   \n",
       "191   Region5  Tender Type1                            36  Presentation11   \n",
       "193   Region1  Tender Type1                            36  Presentation11   \n",
       "194   Region3  Tender Type1                            12  Presentation11   \n",
       "195  Region10  Tender Type1                            24  Presentation11   \n",
       "197  Region19  Tender Type1                            36  Presentation11   \n",
       "192   Region5  Tender Type1                            48  Presentation11   \n",
       "201  Region16  Tender Type4                            12  Presentation11   \n",
       "200   Region2  Tender Type1                            36  Presentation11   \n",
       "199   Region1  Tender Type1                            36  Presentation11   \n",
       "202   Region1  Tender Type1                            36  Presentation11   \n",
       "203   Region5  Tender Type1                            36  Presentation11   \n",
       "205   Region5  Tender Type1                            36  Presentation11   \n",
       "206  Region19  Tender Type1                            24  Presentation11   \n",
       "207   Region7  Tender Type1                            24  Presentation11   \n",
       "209   Region3  Tender Type1                            36  Presentation11   \n",
       "212   Region6  Tender Type4                            12  Presentation11   \n",
       "213  Region12  Tender Type1                            24  Presentation11   \n",
       "214   Region1  Tender Type1                            36  Presentation11   \n",
       "215   Region4  Tender Type1                            36  Presentation11   \n",
       "216   Region2  Tender Type1                            36  Presentation11   \n",
       "204   Region3  Tender Type4                             3  Presentation11   \n",
       "208   Region4  Tender Type1                            12  Presentation11   \n",
       "211  Region19  Tender Type4                            23  Presentation11   \n",
       "\n",
       "    Start_date  \n",
       "186 2008-01-02  \n",
       "187 2008-01-04  \n",
       "188 2008-01-04  \n",
       "189 2008-01-05  \n",
       "190 2008-01-07  \n",
       "196 2008-01-10  \n",
       "198 2008-01-11  \n",
       "185 2008-01-31  \n",
       "191 2008-02-07  \n",
       "193 2008-09-15  \n",
       "194 2008-09-18  \n",
       "195 2008-09-26  \n",
       "197 2008-10-23  \n",
       "192 2008-11-09  \n",
       "201 2009-01-01  \n",
       "200 2009-01-01  \n",
       "199 2009-01-01  \n",
       "202 2009-01-02  \n",
       "203 2009-01-02  \n",
       "205 2009-01-04  \n",
       "206 2009-01-04  \n",
       "207 2009-01-05  \n",
       "209 2009-01-08  \n",
       "212 2009-01-09  \n",
       "213 2009-01-10  \n",
       "214 2009-01-10  \n",
       "215 2009-01-10  \n",
       "216 2009-01-11  \n",
       "204 2009-03-31  \n",
       "208 2009-06-30  \n",
       "211 2009-08-24  "
      ]
     },
     "execution_count": 759,
     "metadata": {},
     "output_type": "execute_result"
    }
   ],
   "source": [
    "presentation9.sort_values(by='Start_date')"
   ]
  },
  {
   "cell_type": "code",
   "execution_count": 638,
   "metadata": {
    "collapsed": false
   },
   "outputs": [],
   "source": [
    "grouped = df_molecule3_pre_loe.groupby(['Region', 'Presentation'])\n",
    "k=0\n",
    "items = []\n",
    "for (k1,k2),group in mol3_group_region:\n",
    "    date = mol3_group_region.get_group((k1, k2))['Start_date'].values\n",
    "    price = mol3_group_region.get_group((k1, k2))['Winning_price_per_standard_unit'].values\n",
    "    items.append({'date':date,'price':price})\n",
    "#    plt.scatter(date,price)\n",
    "    #plt.plot(date,price,label=k2)\n"
   ]
  },
  {
   "cell_type": "code",
   "execution_count": 640,
   "metadata": {
    "collapsed": false
   },
   "outputs": [
    {
     "data": {
      "text/html": [
       "<div>\n",
       "<table border=\"1\" class=\"dataframe\">\n",
       "  <thead>\n",
       "    <tr style=\"text-align: right;\">\n",
       "      <th></th>\n",
       "      <th>Molecule</th>\n",
       "      <th>Winning_price_per_standard_unit</th>\n",
       "      <th>Region</th>\n",
       "      <th>Length_of_contract_in_Months</th>\n",
       "      <th>Presentation</th>\n",
       "      <th>Start_date</th>\n",
       "    </tr>\n",
       "  </thead>\n",
       "  <tbody>\n",
       "    <tr>\n",
       "      <th>0</th>\n",
       "      <td>Molecule3</td>\n",
       "      <td>1.56353</td>\n",
       "      <td>Region6</td>\n",
       "      <td>36</td>\n",
       "      <td>Presentation8</td>\n",
       "      <td>2009-01-01</td>\n",
       "    </tr>\n",
       "    <tr>\n",
       "      <th>1</th>\n",
       "      <td>Molecule3</td>\n",
       "      <td>1.56353</td>\n",
       "      <td>Region6</td>\n",
       "      <td>20</td>\n",
       "      <td>Presentation8</td>\n",
       "      <td>2010-01-05</td>\n",
       "    </tr>\n",
       "    <tr>\n",
       "      <th>2</th>\n",
       "      <td>Molecule3</td>\n",
       "      <td>1.77000</td>\n",
       "      <td>Region13</td>\n",
       "      <td>24</td>\n",
       "      <td>Presentation8</td>\n",
       "      <td>2010-01-05</td>\n",
       "    </tr>\n",
       "    <tr>\n",
       "      <th>3</th>\n",
       "      <td>Molecule3</td>\n",
       "      <td>1.77000</td>\n",
       "      <td>Region9</td>\n",
       "      <td>24</td>\n",
       "      <td>Presentation8</td>\n",
       "      <td>2010-01-07</td>\n",
       "    </tr>\n",
       "    <tr>\n",
       "      <th>4</th>\n",
       "      <td>Molecule3</td>\n",
       "      <td>1.50000</td>\n",
       "      <td>Region7</td>\n",
       "      <td>12</td>\n",
       "      <td>Presentation8</td>\n",
       "      <td>2010-01-08</td>\n",
       "    </tr>\n",
       "  </tbody>\n",
       "</table>\n",
       "</div>"
      ],
      "text/plain": [
       "    Molecule  Winning_price_per_standard_unit    Region  \\\n",
       "0  Molecule3                          1.56353   Region6   \n",
       "1  Molecule3                          1.56353   Region6   \n",
       "2  Molecule3                          1.77000  Region13   \n",
       "3  Molecule3                          1.77000   Region9   \n",
       "4  Molecule3                          1.50000   Region7   \n",
       "\n",
       "   Length_of_contract_in_Months   Presentation Start_date  \n",
       "0                            36  Presentation8 2009-01-01  \n",
       "1                            20  Presentation8 2010-01-05  \n",
       "2                            24  Presentation8 2010-01-05  \n",
       "3                            24  Presentation8 2010-01-07  \n",
       "4                            12  Presentation8 2010-01-08  "
      ]
     },
     "execution_count": 640,
     "metadata": {},
     "output_type": "execute_result"
    }
   ],
   "source": [
    "df2.dropna()\n",
    "df2.head()"
   ]
  },
  {
   "cell_type": "code",
   "execution_count": 641,
   "metadata": {
    "collapsed": true
   },
   "outputs": [],
   "source": []
  },
  {
   "cell_type": "code",
   "execution_count": 642,
   "metadata": {
    "collapsed": false
   },
   "outputs": [],
   "source": [
    "#df2 = df2.drop(df2[df2['Winning_price_per_standard_unit'] == 20.6].index)\n",
    "#*math.log(row['Tenure']/30,2)"
   ]
  },
  {
   "cell_type": "code",
   "execution_count": 643,
   "metadata": {
    "collapsed": false
   },
   "outputs": [],
   "source": [
    "max_presentation = df2['Winning_price_per_standard_unit'].max()"
   ]
  },
  {
   "cell_type": "code",
   "execution_count": 644,
   "metadata": {
    "collapsed": false
   },
   "outputs": [
    {
     "data": {
      "text/html": [
       "<div>\n",
       "<table border=\"1\" class=\"dataframe\">\n",
       "  <thead>\n",
       "    <tr style=\"text-align: right;\">\n",
       "      <th></th>\n",
       "      <th>Molecule</th>\n",
       "      <th>Winning_price_per_standard_unit</th>\n",
       "      <th>Region</th>\n",
       "      <th>Length_of_contract_in_Months</th>\n",
       "      <th>Presentation</th>\n",
       "      <th>Start_date</th>\n",
       "    </tr>\n",
       "  </thead>\n",
       "  <tbody>\n",
       "    <tr>\n",
       "      <th>0</th>\n",
       "      <td>Molecule3</td>\n",
       "      <td>1.56353</td>\n",
       "      <td>Region6</td>\n",
       "      <td>36</td>\n",
       "      <td>Presentation8</td>\n",
       "      <td>2009-01-01</td>\n",
       "    </tr>\n",
       "    <tr>\n",
       "      <th>1</th>\n",
       "      <td>Molecule3</td>\n",
       "      <td>1.56353</td>\n",
       "      <td>Region6</td>\n",
       "      <td>20</td>\n",
       "      <td>Presentation8</td>\n",
       "      <td>2010-01-05</td>\n",
       "    </tr>\n",
       "    <tr>\n",
       "      <th>2</th>\n",
       "      <td>Molecule3</td>\n",
       "      <td>1.77000</td>\n",
       "      <td>Region13</td>\n",
       "      <td>24</td>\n",
       "      <td>Presentation8</td>\n",
       "      <td>2010-01-05</td>\n",
       "    </tr>\n",
       "    <tr>\n",
       "      <th>3</th>\n",
       "      <td>Molecule3</td>\n",
       "      <td>1.77000</td>\n",
       "      <td>Region9</td>\n",
       "      <td>24</td>\n",
       "      <td>Presentation8</td>\n",
       "      <td>2010-01-07</td>\n",
       "    </tr>\n",
       "    <tr>\n",
       "      <th>4</th>\n",
       "      <td>Molecule3</td>\n",
       "      <td>1.50000</td>\n",
       "      <td>Region7</td>\n",
       "      <td>12</td>\n",
       "      <td>Presentation8</td>\n",
       "      <td>2010-01-08</td>\n",
       "    </tr>\n",
       "  </tbody>\n",
       "</table>\n",
       "</div>"
      ],
      "text/plain": [
       "    Molecule  Winning_price_per_standard_unit    Region  \\\n",
       "0  Molecule3                          1.56353   Region6   \n",
       "1  Molecule3                          1.56353   Region6   \n",
       "2  Molecule3                          1.77000  Region13   \n",
       "3  Molecule3                          1.77000   Region9   \n",
       "4  Molecule3                          1.50000   Region7   \n",
       "\n",
       "   Length_of_contract_in_Months   Presentation Start_date  \n",
       "0                            36  Presentation8 2009-01-01  \n",
       "1                            20  Presentation8 2010-01-05  \n",
       "2                            24  Presentation8 2010-01-05  \n",
       "3                            24  Presentation8 2010-01-07  \n",
       "4                            12  Presentation8 2010-01-08  "
      ]
     },
     "execution_count": 644,
     "metadata": {},
     "output_type": "execute_result"
    }
   ],
   "source": [
    "df2=df2.dropna()\n",
    "df2.head()"
   ]
  },
  {
   "cell_type": "code",
   "execution_count": 645,
   "metadata": {
    "collapsed": false
   },
   "outputs": [],
   "source": [
    "def days_since_loe(a, b):\n",
    "    if a=='Molecule3':\n",
    "        return (b - datetime(2009,1,31,0,0,0)).days\n",
    "    elif a=='Molecule4':\n",
    "        return (b - datetime(2011,1,31,0,0,0)).days\n",
    "    else:\n",
    "        return (b - datetime(2011,1,31,0,0,0)).days\n"
   ]
  },
  {
   "cell_type": "code",
   "execution_count": 646,
   "metadata": {
    "collapsed": false
   },
   "outputs": [],
   "source": [
    "df2['Tenure'] = df2.apply(lambda row: days_since_loe(row['Molecule'], row['Start_date']), axis=1)"
   ]
  },
  {
   "cell_type": "code",
   "execution_count": 647,
   "metadata": {
    "collapsed": false
   },
   "outputs": [
    {
     "name": "stdout",
     "output_type": "stream",
     "text": [
      "34 34\n",
      "59 59\n",
      "344 344\n"
     ]
    }
   ],
   "source": [
    "pPresentationDict  = {}\n",
    "for item in df2['Presentation'].unique():\n",
    "    row = df2.ix[df2[df2['Presentation'] == item]['Winning_price_per_standard_unit'].idxmax()]\n",
    "    if row['Tenure'] > 0:\n",
    "        print row['Tenure'], row['Tenure']\n",
    "        pPresentationDict[row['Presentation']] = row['Winning_price_per_standard_unit']*row['Tenure']/30\n",
    "    else:\n",
    "        pPresentationDict[row['Presentation']] = row['Winning_price_per_standard_unit']"
   ]
  },
  {
   "cell_type": "code",
   "execution_count": 583,
   "metadata": {
    "collapsed": false
   },
   "outputs": [
    {
     "data": {
      "text/plain": [
       "{'Presentation10': 21.672000000000001,\n",
       " 'Presentation11': 5.6589999999999998,\n",
       " 'Presentation12': 24.870000000000001,\n",
       " 'Presentation13': 1.54,\n",
       " 'Presentation14': 2.7108400000000001,\n",
       " 'Presentation15': 3.0410699999999999,\n",
       " 'Presentation16': 1.5203500000000001,\n",
       " 'Presentation17': 3.0410699999999999,\n",
       " 'Presentation18': 0.76034999999999997,\n",
       " 'Presentation19': 1.5203500000000001,\n",
       " 'Presentation8': 5.5193333333333339,\n",
       " 'Presentation9': 22.163153333333334}"
      ]
     },
     "execution_count": 583,
     "metadata": {},
     "output_type": "execute_result"
    }
   ],
   "source": [
    "pPresentationDict "
   ]
  },
  {
   "cell_type": "code",
   "execution_count": 584,
   "metadata": {
    "collapsed": false
   },
   "outputs": [],
   "source": [
    "#pPresentationDict\n",
    "#df2.head()\n",
    "#pRegionPresentationDict = {}\n",
    "#pPresentationDict = {}\n",
    "\n",
    "#for name, group in grouped_by_presantation:\n",
    "#    pPresentationDict[name]= (group['Winning_price_per_standard_unit'].max()*group['Tenure'].)/12*-1/max_presentation\n",
    "\n",
    "#for (k1,k2), group in grouped:\n",
    "    #price = group['Winning_price_per_standard_unit'].max()\n",
    "#    price_mean = group['Winning_price_per_standard_unit'].max()\n",
    "    #print k1+k2\n",
    "#   pRegionPresentationDict[k1+k2] = price_mean"
   ]
  },
  {
   "cell_type": "code",
   "execution_count": 585,
   "metadata": {
    "collapsed": false
   },
   "outputs": [],
   "source": [
    "def factor_presentation(presentation):\n",
    "    return pPresentationDict[presentation]/max_presentation"
   ]
  },
  {
   "cell_type": "code",
   "execution_count": 586,
   "metadata": {
    "collapsed": false
   },
   "outputs": [
    {
     "data": {
      "text/plain": [
       "0.0611318858061922"
      ]
     },
     "execution_count": 586,
     "metadata": {},
     "output_type": "execute_result"
    }
   ],
   "source": [
    "factor_presentation('Presentation19')\n",
    "#doCleanDataNotPresentInPreLoe('Region10','Presentation9')"
   ]
  },
  {
   "cell_type": "code",
   "execution_count": 587,
   "metadata": {
    "collapsed": false
   },
   "outputs": [],
   "source": [
    "#df2['Presentation'] = df2.apply(lambda row: np.log(factor_presentation(row['Presentation'])), axis=1)\n",
    "df2['Presentation'] = df2.apply(lambda row: factor_presentation(row['Presentation']), axis=1)"
   ]
  },
  {
   "cell_type": "code",
   "execution_count": 588,
   "metadata": {
    "collapsed": false
   },
   "outputs": [],
   "source": [
    "df2['Length_of_contract_in_Months'] = df2.apply(lambda row: np.log(row['Length_of_contract_in_Months']), axis=1)"
   ]
  },
  {
   "cell_type": "code",
   "execution_count": 589,
   "metadata": {
    "collapsed": false
   },
   "outputs": [],
   "source": [
    "df2['Tenure'] = df2.apply(lambda row: row['Tenure'], axis=1)"
   ]
  },
  {
   "cell_type": "code",
   "execution_count": 590,
   "metadata": {
    "collapsed": true
   },
   "outputs": [],
   "source": [
    "df2=df2[df2['Tenure'] >= 0]"
   ]
  },
  {
   "cell_type": "code",
   "execution_count": 591,
   "metadata": {
    "collapsed": false
   },
   "outputs": [
    {
     "data": {
      "text/html": [
       "<div>\n",
       "<table border=\"1\" class=\"dataframe\">\n",
       "  <thead>\n",
       "    <tr style=\"text-align: right;\">\n",
       "      <th></th>\n",
       "      <th>Molecule</th>\n",
       "      <th>Winning_price_per_standard_unit</th>\n",
       "      <th>Region</th>\n",
       "      <th>Length_of_contract_in_Months</th>\n",
       "      <th>Presentation</th>\n",
       "      <th>Start_date</th>\n",
       "      <th>Tenure</th>\n",
       "    </tr>\n",
       "  </thead>\n",
       "  <tbody>\n",
       "    <tr>\n",
       "      <th>1</th>\n",
       "      <td>Molecule3</td>\n",
       "      <td>1.563530</td>\n",
       "      <td>Region6</td>\n",
       "      <td>2.995732</td>\n",
       "      <td>0.221927</td>\n",
       "      <td>2010-01-05</td>\n",
       "      <td>339</td>\n",
       "    </tr>\n",
       "    <tr>\n",
       "      <th>2</th>\n",
       "      <td>Molecule3</td>\n",
       "      <td>1.770000</td>\n",
       "      <td>Region13</td>\n",
       "      <td>3.178054</td>\n",
       "      <td>0.221927</td>\n",
       "      <td>2010-01-05</td>\n",
       "      <td>339</td>\n",
       "    </tr>\n",
       "    <tr>\n",
       "      <th>3</th>\n",
       "      <td>Molecule3</td>\n",
       "      <td>1.770000</td>\n",
       "      <td>Region9</td>\n",
       "      <td>3.178054</td>\n",
       "      <td>0.221927</td>\n",
       "      <td>2010-01-07</td>\n",
       "      <td>341</td>\n",
       "    </tr>\n",
       "    <tr>\n",
       "      <th>4</th>\n",
       "      <td>Molecule3</td>\n",
       "      <td>1.500000</td>\n",
       "      <td>Region7</td>\n",
       "      <td>2.484907</td>\n",
       "      <td>0.221927</td>\n",
       "      <td>2010-01-08</td>\n",
       "      <td>342</td>\n",
       "    </tr>\n",
       "    <tr>\n",
       "      <th>5</th>\n",
       "      <td>Molecule3</td>\n",
       "      <td>1.450000</td>\n",
       "      <td>Region1</td>\n",
       "      <td>3.583519</td>\n",
       "      <td>0.221927</td>\n",
       "      <td>2010-01-11</td>\n",
       "      <td>345</td>\n",
       "    </tr>\n",
       "    <tr>\n",
       "      <th>6</th>\n",
       "      <td>Molecule3</td>\n",
       "      <td>1.812000</td>\n",
       "      <td>Region1</td>\n",
       "      <td>2.484907</td>\n",
       "      <td>0.221927</td>\n",
       "      <td>2010-12-16</td>\n",
       "      <td>684</td>\n",
       "    </tr>\n",
       "    <tr>\n",
       "      <th>7</th>\n",
       "      <td>Molecule3</td>\n",
       "      <td>1.310000</td>\n",
       "      <td>Region12</td>\n",
       "      <td>3.178054</td>\n",
       "      <td>0.221927</td>\n",
       "      <td>2011-03-28</td>\n",
       "      <td>786</td>\n",
       "    </tr>\n",
       "    <tr>\n",
       "      <th>8</th>\n",
       "      <td>Molecule3</td>\n",
       "      <td>1.294850</td>\n",
       "      <td>Region3</td>\n",
       "      <td>3.583519</td>\n",
       "      <td>0.221927</td>\n",
       "      <td>2011-01-06</td>\n",
       "      <td>705</td>\n",
       "    </tr>\n",
       "    <tr>\n",
       "      <th>9</th>\n",
       "      <td>Molecule3</td>\n",
       "      <td>1.540000</td>\n",
       "      <td>Region5</td>\n",
       "      <td>3.583519</td>\n",
       "      <td>0.221927</td>\n",
       "      <td>2011-10-31</td>\n",
       "      <td>1003</td>\n",
       "    </tr>\n",
       "    <tr>\n",
       "      <th>10</th>\n",
       "      <td>Molecule3</td>\n",
       "      <td>1.309860</td>\n",
       "      <td>Region6</td>\n",
       "      <td>3.583519</td>\n",
       "      <td>0.221927</td>\n",
       "      <td>2011-01-11</td>\n",
       "      <td>710</td>\n",
       "    </tr>\n",
       "    <tr>\n",
       "      <th>11</th>\n",
       "      <td>Molecule3</td>\n",
       "      <td>1.278000</td>\n",
       "      <td>Region12</td>\n",
       "      <td>3.258097</td>\n",
       "      <td>0.221927</td>\n",
       "      <td>2011-11-30</td>\n",
       "      <td>1033</td>\n",
       "    </tr>\n",
       "    <tr>\n",
       "      <th>12</th>\n",
       "      <td>Molecule3</td>\n",
       "      <td>1.110000</td>\n",
       "      <td>Region2</td>\n",
       "      <td>2.484907</td>\n",
       "      <td>0.221927</td>\n",
       "      <td>2012-01-01</td>\n",
       "      <td>1065</td>\n",
       "    </tr>\n",
       "    <tr>\n",
       "      <th>13</th>\n",
       "      <td>Molecule3</td>\n",
       "      <td>1.286000</td>\n",
       "      <td>Region10</td>\n",
       "      <td>2.484907</td>\n",
       "      <td>0.221927</td>\n",
       "      <td>2012-01-04</td>\n",
       "      <td>1068</td>\n",
       "    </tr>\n",
       "    <tr>\n",
       "      <th>14</th>\n",
       "      <td>Molecule3</td>\n",
       "      <td>1.535100</td>\n",
       "      <td>Region14</td>\n",
       "      <td>3.178054</td>\n",
       "      <td>0.221927</td>\n",
       "      <td>2012-05-31</td>\n",
       "      <td>1216</td>\n",
       "    </tr>\n",
       "    <tr>\n",
       "      <th>15</th>\n",
       "      <td>Molecule3</td>\n",
       "      <td>3.657870</td>\n",
       "      <td>Region1</td>\n",
       "      <td>2.397895</td>\n",
       "      <td>0.221927</td>\n",
       "      <td>2014-01-07</td>\n",
       "      <td>1802</td>\n",
       "    </tr>\n",
       "    <tr>\n",
       "      <th>16</th>\n",
       "      <td>Molecule3</td>\n",
       "      <td>1.390000</td>\n",
       "      <td>Region1</td>\n",
       "      <td>2.484907</td>\n",
       "      <td>0.221927</td>\n",
       "      <td>2015-05-31</td>\n",
       "      <td>2311</td>\n",
       "    </tr>\n",
       "    <tr>\n",
       "      <th>37</th>\n",
       "      <td>Molecule3</td>\n",
       "      <td>11.269400</td>\n",
       "      <td>Region3</td>\n",
       "      <td>1.098612</td>\n",
       "      <td>0.891160</td>\n",
       "      <td>2009-03-31</td>\n",
       "      <td>59</td>\n",
       "    </tr>\n",
       "    <tr>\n",
       "      <th>40</th>\n",
       "      <td>Molecule3</td>\n",
       "      <td>8.370000</td>\n",
       "      <td>Region3</td>\n",
       "      <td>1.791759</td>\n",
       "      <td>0.891160</td>\n",
       "      <td>2009-05-31</td>\n",
       "      <td>120</td>\n",
       "    </tr>\n",
       "    <tr>\n",
       "      <th>41</th>\n",
       "      <td>Molecule3</td>\n",
       "      <td>8.370000</td>\n",
       "      <td>Region12</td>\n",
       "      <td>3.178054</td>\n",
       "      <td>0.891160</td>\n",
       "      <td>2009-03-06</td>\n",
       "      <td>34</td>\n",
       "    </tr>\n",
       "    <tr>\n",
       "      <th>49</th>\n",
       "      <td>Molecule3</td>\n",
       "      <td>8.350000</td>\n",
       "      <td>Region1</td>\n",
       "      <td>3.871201</td>\n",
       "      <td>0.891160</td>\n",
       "      <td>2010-01-01</td>\n",
       "      <td>335</td>\n",
       "    </tr>\n",
       "    <tr>\n",
       "      <th>50</th>\n",
       "      <td>Molecule3</td>\n",
       "      <td>4.850000</td>\n",
       "      <td>Region7</td>\n",
       "      <td>2.484907</td>\n",
       "      <td>0.891160</td>\n",
       "      <td>2010-01-01</td>\n",
       "      <td>335</td>\n",
       "    </tr>\n",
       "    <tr>\n",
       "      <th>51</th>\n",
       "      <td>Molecule3</td>\n",
       "      <td>7.400000</td>\n",
       "      <td>Region5</td>\n",
       "      <td>3.583519</td>\n",
       "      <td>0.891160</td>\n",
       "      <td>2010-01-02</td>\n",
       "      <td>336</td>\n",
       "    </tr>\n",
       "    <tr>\n",
       "      <th>52</th>\n",
       "      <td>Molecule3</td>\n",
       "      <td>5.790000</td>\n",
       "      <td>Region5</td>\n",
       "      <td>3.583519</td>\n",
       "      <td>0.891160</td>\n",
       "      <td>2010-01-02</td>\n",
       "      <td>336</td>\n",
       "    </tr>\n",
       "    <tr>\n",
       "      <th>53</th>\n",
       "      <td>Molecule3</td>\n",
       "      <td>4.100000</td>\n",
       "      <td>Region9</td>\n",
       "      <td>3.178054</td>\n",
       "      <td>0.891160</td>\n",
       "      <td>2010-01-03</td>\n",
       "      <td>337</td>\n",
       "    </tr>\n",
       "    <tr>\n",
       "      <th>54</th>\n",
       "      <td>Molecule3</td>\n",
       "      <td>4.850000</td>\n",
       "      <td>Region7</td>\n",
       "      <td>2.772589</td>\n",
       "      <td>0.891160</td>\n",
       "      <td>2010-01-03</td>\n",
       "      <td>337</td>\n",
       "    </tr>\n",
       "    <tr>\n",
       "      <th>55</th>\n",
       "      <td>Molecule3</td>\n",
       "      <td>6.180000</td>\n",
       "      <td>Region1</td>\n",
       "      <td>3.871201</td>\n",
       "      <td>0.891160</td>\n",
       "      <td>2010-01-04</td>\n",
       "      <td>338</td>\n",
       "    </tr>\n",
       "    <tr>\n",
       "      <th>56</th>\n",
       "      <td>Molecule3</td>\n",
       "      <td>4.199580</td>\n",
       "      <td>Region2</td>\n",
       "      <td>3.583519</td>\n",
       "      <td>0.891160</td>\n",
       "      <td>2010-01-04</td>\n",
       "      <td>338</td>\n",
       "    </tr>\n",
       "    <tr>\n",
       "      <th>57</th>\n",
       "      <td>Molecule3</td>\n",
       "      <td>3.890000</td>\n",
       "      <td>Region17</td>\n",
       "      <td>3.583519</td>\n",
       "      <td>0.891160</td>\n",
       "      <td>2010-04-27</td>\n",
       "      <td>451</td>\n",
       "    </tr>\n",
       "    <tr>\n",
       "      <th>58</th>\n",
       "      <td>Molecule3</td>\n",
       "      <td>4.477420</td>\n",
       "      <td>Region1</td>\n",
       "      <td>3.583519</td>\n",
       "      <td>0.891160</td>\n",
       "      <td>2010-01-05</td>\n",
       "      <td>339</td>\n",
       "    </tr>\n",
       "    <tr>\n",
       "      <th>59</th>\n",
       "      <td>Molecule3</td>\n",
       "      <td>3.489000</td>\n",
       "      <td>Region6</td>\n",
       "      <td>2.995732</td>\n",
       "      <td>0.891160</td>\n",
       "      <td>2010-01-05</td>\n",
       "      <td>339</td>\n",
       "    </tr>\n",
       "    <tr>\n",
       "      <th>...</th>\n",
       "      <td>...</td>\n",
       "      <td>...</td>\n",
       "      <td>...</td>\n",
       "      <td>...</td>\n",
       "      <td>...</td>\n",
       "      <td>...</td>\n",
       "      <td>...</td>\n",
       "    </tr>\n",
       "    <tr>\n",
       "      <th>756</th>\n",
       "      <td>Molecule5</td>\n",
       "      <td>0.028700</td>\n",
       "      <td>Region7</td>\n",
       "      <td>2.708050</td>\n",
       "      <td>0.061132</td>\n",
       "      <td>2012-10-26</td>\n",
       "      <td>634</td>\n",
       "    </tr>\n",
       "    <tr>\n",
       "      <th>757</th>\n",
       "      <td>Molecule5</td>\n",
       "      <td>0.021000</td>\n",
       "      <td>Region1</td>\n",
       "      <td>3.433987</td>\n",
       "      <td>0.061132</td>\n",
       "      <td>2012-10-28</td>\n",
       "      <td>636</td>\n",
       "    </tr>\n",
       "    <tr>\n",
       "      <th>758</th>\n",
       "      <td>Molecule5</td>\n",
       "      <td>0.078500</td>\n",
       "      <td>Region2</td>\n",
       "      <td>2.484907</td>\n",
       "      <td>0.061132</td>\n",
       "      <td>2012-07-12</td>\n",
       "      <td>528</td>\n",
       "    </tr>\n",
       "    <tr>\n",
       "      <th>759</th>\n",
       "      <td>Molecule5</td>\n",
       "      <td>0.025000</td>\n",
       "      <td>Region12</td>\n",
       "      <td>3.178054</td>\n",
       "      <td>0.061132</td>\n",
       "      <td>2013-01-02</td>\n",
       "      <td>702</td>\n",
       "    </tr>\n",
       "    <tr>\n",
       "      <th>760</th>\n",
       "      <td>Molecule5</td>\n",
       "      <td>0.045000</td>\n",
       "      <td>Region14</td>\n",
       "      <td>3.583519</td>\n",
       "      <td>0.061132</td>\n",
       "      <td>2013-06-02</td>\n",
       "      <td>853</td>\n",
       "    </tr>\n",
       "    <tr>\n",
       "      <th>761</th>\n",
       "      <td>Molecule5</td>\n",
       "      <td>0.032000</td>\n",
       "      <td>Region18</td>\n",
       "      <td>3.583519</td>\n",
       "      <td>0.061132</td>\n",
       "      <td>2013-02-20</td>\n",
       "      <td>751</td>\n",
       "    </tr>\n",
       "    <tr>\n",
       "      <th>762</th>\n",
       "      <td>Molecule5</td>\n",
       "      <td>0.066720</td>\n",
       "      <td>Region3</td>\n",
       "      <td>3.583519</td>\n",
       "      <td>0.061132</td>\n",
       "      <td>2013-05-20</td>\n",
       "      <td>840</td>\n",
       "    </tr>\n",
       "    <tr>\n",
       "      <th>763</th>\n",
       "      <td>Molecule5</td>\n",
       "      <td>0.046640</td>\n",
       "      <td>Region1</td>\n",
       "      <td>2.484907</td>\n",
       "      <td>0.061132</td>\n",
       "      <td>2013-01-06</td>\n",
       "      <td>706</td>\n",
       "    </tr>\n",
       "    <tr>\n",
       "      <th>764</th>\n",
       "      <td>Molecule5</td>\n",
       "      <td>0.041000</td>\n",
       "      <td>Region20</td>\n",
       "      <td>3.583519</td>\n",
       "      <td>0.061132</td>\n",
       "      <td>2013-01-06</td>\n",
       "      <td>706</td>\n",
       "    </tr>\n",
       "    <tr>\n",
       "      <th>765</th>\n",
       "      <td>Molecule5</td>\n",
       "      <td>0.044000</td>\n",
       "      <td>Region14</td>\n",
       "      <td>3.178054</td>\n",
       "      <td>0.061132</td>\n",
       "      <td>2013-06-06</td>\n",
       "      <td>857</td>\n",
       "    </tr>\n",
       "    <tr>\n",
       "      <th>766</th>\n",
       "      <td>Molecule5</td>\n",
       "      <td>0.033000</td>\n",
       "      <td>Region12</td>\n",
       "      <td>3.871201</td>\n",
       "      <td>0.061132</td>\n",
       "      <td>2013-06-21</td>\n",
       "      <td>872</td>\n",
       "    </tr>\n",
       "    <tr>\n",
       "      <th>767</th>\n",
       "      <td>Molecule5</td>\n",
       "      <td>0.041300</td>\n",
       "      <td>Region1</td>\n",
       "      <td>1.791759</td>\n",
       "      <td>0.061132</td>\n",
       "      <td>2013-01-07</td>\n",
       "      <td>707</td>\n",
       "    </tr>\n",
       "    <tr>\n",
       "      <th>768</th>\n",
       "      <td>Molecule5</td>\n",
       "      <td>0.041996</td>\n",
       "      <td>Region2</td>\n",
       "      <td>2.484907</td>\n",
       "      <td>0.061132</td>\n",
       "      <td>2013-01-10</td>\n",
       "      <td>710</td>\n",
       "    </tr>\n",
       "    <tr>\n",
       "      <th>769</th>\n",
       "      <td>Molecule5</td>\n",
       "      <td>0.055750</td>\n",
       "      <td>Region2</td>\n",
       "      <td>2.484907</td>\n",
       "      <td>0.061132</td>\n",
       "      <td>2014-01-01</td>\n",
       "      <td>1066</td>\n",
       "    </tr>\n",
       "    <tr>\n",
       "      <th>770</th>\n",
       "      <td>Molecule5</td>\n",
       "      <td>0.031200</td>\n",
       "      <td>Region15</td>\n",
       "      <td>3.871201</td>\n",
       "      <td>0.061132</td>\n",
       "      <td>2014-02-21</td>\n",
       "      <td>1117</td>\n",
       "    </tr>\n",
       "    <tr>\n",
       "      <th>771</th>\n",
       "      <td>Molecule5</td>\n",
       "      <td>0.037000</td>\n",
       "      <td>Region5</td>\n",
       "      <td>3.583519</td>\n",
       "      <td>0.061132</td>\n",
       "      <td>2014-12-03</td>\n",
       "      <td>1402</td>\n",
       "    </tr>\n",
       "    <tr>\n",
       "      <th>772</th>\n",
       "      <td>Molecule5</td>\n",
       "      <td>0.013500</td>\n",
       "      <td>Region17</td>\n",
       "      <td>3.178054</td>\n",
       "      <td>0.061132</td>\n",
       "      <td>2014-05-30</td>\n",
       "      <td>1215</td>\n",
       "    </tr>\n",
       "    <tr>\n",
       "      <th>773</th>\n",
       "      <td>Molecule5</td>\n",
       "      <td>0.023000</td>\n",
       "      <td>Region9</td>\n",
       "      <td>3.583519</td>\n",
       "      <td>0.061132</td>\n",
       "      <td>2014-07-08</td>\n",
       "      <td>1254</td>\n",
       "    </tr>\n",
       "    <tr>\n",
       "      <th>774</th>\n",
       "      <td>Molecule5</td>\n",
       "      <td>0.037980</td>\n",
       "      <td>Region1</td>\n",
       "      <td>2.484907</td>\n",
       "      <td>0.061132</td>\n",
       "      <td>2014-08-15</td>\n",
       "      <td>1292</td>\n",
       "    </tr>\n",
       "    <tr>\n",
       "      <th>775</th>\n",
       "      <td>Molecule5</td>\n",
       "      <td>0.076410</td>\n",
       "      <td>Region6</td>\n",
       "      <td>3.583519</td>\n",
       "      <td>0.061132</td>\n",
       "      <td>2014-01-09</td>\n",
       "      <td>1074</td>\n",
       "    </tr>\n",
       "    <tr>\n",
       "      <th>776</th>\n",
       "      <td>Molecule5</td>\n",
       "      <td>0.059000</td>\n",
       "      <td>Region11</td>\n",
       "      <td>3.295837</td>\n",
       "      <td>0.061132</td>\n",
       "      <td>2014-01-10</td>\n",
       "      <td>1075</td>\n",
       "    </tr>\n",
       "    <tr>\n",
       "      <th>777</th>\n",
       "      <td>Molecule5</td>\n",
       "      <td>0.013000</td>\n",
       "      <td>Region6</td>\n",
       "      <td>3.178054</td>\n",
       "      <td>0.061132</td>\n",
       "      <td>2014-01-11</td>\n",
       "      <td>1076</td>\n",
       "    </tr>\n",
       "    <tr>\n",
       "      <th>778</th>\n",
       "      <td>Molecule5</td>\n",
       "      <td>0.013500</td>\n",
       "      <td>Region7</td>\n",
       "      <td>3.178054</td>\n",
       "      <td>0.061132</td>\n",
       "      <td>2014-12-18</td>\n",
       "      <td>1417</td>\n",
       "    </tr>\n",
       "    <tr>\n",
       "      <th>779</th>\n",
       "      <td>Molecule5</td>\n",
       "      <td>0.014860</td>\n",
       "      <td>Region2</td>\n",
       "      <td>2.484907</td>\n",
       "      <td>0.061132</td>\n",
       "      <td>2015-01-01</td>\n",
       "      <td>1431</td>\n",
       "    </tr>\n",
       "    <tr>\n",
       "      <th>780</th>\n",
       "      <td>Molecule5</td>\n",
       "      <td>0.022000</td>\n",
       "      <td>Region5</td>\n",
       "      <td>3.583519</td>\n",
       "      <td>0.061132</td>\n",
       "      <td>2015-12-01</td>\n",
       "      <td>1765</td>\n",
       "    </tr>\n",
       "    <tr>\n",
       "      <th>781</th>\n",
       "      <td>Molecule5</td>\n",
       "      <td>0.017000</td>\n",
       "      <td>Region12</td>\n",
       "      <td>3.583519</td>\n",
       "      <td>0.061132</td>\n",
       "      <td>2015-12-02</td>\n",
       "      <td>1766</td>\n",
       "    </tr>\n",
       "    <tr>\n",
       "      <th>782</th>\n",
       "      <td>Molecule5</td>\n",
       "      <td>0.035500</td>\n",
       "      <td>Region2</td>\n",
       "      <td>2.079442</td>\n",
       "      <td>0.061132</td>\n",
       "      <td>2015-11-05</td>\n",
       "      <td>1739</td>\n",
       "    </tr>\n",
       "    <tr>\n",
       "      <th>783</th>\n",
       "      <td>Molecule5</td>\n",
       "      <td>0.016400</td>\n",
       "      <td>Region1</td>\n",
       "      <td>2.484907</td>\n",
       "      <td>0.061132</td>\n",
       "      <td>2015-05-31</td>\n",
       "      <td>1581</td>\n",
       "    </tr>\n",
       "    <tr>\n",
       "      <th>784</th>\n",
       "      <td>Molecule5</td>\n",
       "      <td>0.021750</td>\n",
       "      <td>Region5</td>\n",
       "      <td>3.178054</td>\n",
       "      <td>0.061132</td>\n",
       "      <td>2015-09-24</td>\n",
       "      <td>1697</td>\n",
       "    </tr>\n",
       "    <tr>\n",
       "      <th>785</th>\n",
       "      <td>Molecule5</td>\n",
       "      <td>0.016500</td>\n",
       "      <td>Region1</td>\n",
       "      <td>3.871201</td>\n",
       "      <td>0.061132</td>\n",
       "      <td>2016-01-01</td>\n",
       "      <td>1796</td>\n",
       "    </tr>\n",
       "  </tbody>\n",
       "</table>\n",
       "<p>609 rows × 7 columns</p>\n",
       "</div>"
      ],
      "text/plain": [
       "      Molecule  Winning_price_per_standard_unit    Region  \\\n",
       "1    Molecule3                         1.563530   Region6   \n",
       "2    Molecule3                         1.770000  Region13   \n",
       "3    Molecule3                         1.770000   Region9   \n",
       "4    Molecule3                         1.500000   Region7   \n",
       "5    Molecule3                         1.450000   Region1   \n",
       "6    Molecule3                         1.812000   Region1   \n",
       "7    Molecule3                         1.310000  Region12   \n",
       "8    Molecule3                         1.294850   Region3   \n",
       "9    Molecule3                         1.540000   Region5   \n",
       "10   Molecule3                         1.309860   Region6   \n",
       "11   Molecule3                         1.278000  Region12   \n",
       "12   Molecule3                         1.110000   Region2   \n",
       "13   Molecule3                         1.286000  Region10   \n",
       "14   Molecule3                         1.535100  Region14   \n",
       "15   Molecule3                         3.657870   Region1   \n",
       "16   Molecule3                         1.390000   Region1   \n",
       "37   Molecule3                        11.269400   Region3   \n",
       "40   Molecule3                         8.370000   Region3   \n",
       "41   Molecule3                         8.370000  Region12   \n",
       "49   Molecule3                         8.350000   Region1   \n",
       "50   Molecule3                         4.850000   Region7   \n",
       "51   Molecule3                         7.400000   Region5   \n",
       "52   Molecule3                         5.790000   Region5   \n",
       "53   Molecule3                         4.100000   Region9   \n",
       "54   Molecule3                         4.850000   Region7   \n",
       "55   Molecule3                         6.180000   Region1   \n",
       "56   Molecule3                         4.199580   Region2   \n",
       "57   Molecule3                         3.890000  Region17   \n",
       "58   Molecule3                         4.477420   Region1   \n",
       "59   Molecule3                         3.489000   Region6   \n",
       "..         ...                              ...       ...   \n",
       "756  Molecule5                         0.028700   Region7   \n",
       "757  Molecule5                         0.021000   Region1   \n",
       "758  Molecule5                         0.078500   Region2   \n",
       "759  Molecule5                         0.025000  Region12   \n",
       "760  Molecule5                         0.045000  Region14   \n",
       "761  Molecule5                         0.032000  Region18   \n",
       "762  Molecule5                         0.066720   Region3   \n",
       "763  Molecule5                         0.046640   Region1   \n",
       "764  Molecule5                         0.041000  Region20   \n",
       "765  Molecule5                         0.044000  Region14   \n",
       "766  Molecule5                         0.033000  Region12   \n",
       "767  Molecule5                         0.041300   Region1   \n",
       "768  Molecule5                         0.041996   Region2   \n",
       "769  Molecule5                         0.055750   Region2   \n",
       "770  Molecule5                         0.031200  Region15   \n",
       "771  Molecule5                         0.037000   Region5   \n",
       "772  Molecule5                         0.013500  Region17   \n",
       "773  Molecule5                         0.023000   Region9   \n",
       "774  Molecule5                         0.037980   Region1   \n",
       "775  Molecule5                         0.076410   Region6   \n",
       "776  Molecule5                         0.059000  Region11   \n",
       "777  Molecule5                         0.013000   Region6   \n",
       "778  Molecule5                         0.013500   Region7   \n",
       "779  Molecule5                         0.014860   Region2   \n",
       "780  Molecule5                         0.022000   Region5   \n",
       "781  Molecule5                         0.017000  Region12   \n",
       "782  Molecule5                         0.035500   Region2   \n",
       "783  Molecule5                         0.016400   Region1   \n",
       "784  Molecule5                         0.021750   Region5   \n",
       "785  Molecule5                         0.016500   Region1   \n",
       "\n",
       "     Length_of_contract_in_Months  Presentation Start_date  Tenure  \n",
       "1                        2.995732      0.221927 2010-01-05     339  \n",
       "2                        3.178054      0.221927 2010-01-05     339  \n",
       "3                        3.178054      0.221927 2010-01-07     341  \n",
       "4                        2.484907      0.221927 2010-01-08     342  \n",
       "5                        3.583519      0.221927 2010-01-11     345  \n",
       "6                        2.484907      0.221927 2010-12-16     684  \n",
       "7                        3.178054      0.221927 2011-03-28     786  \n",
       "8                        3.583519      0.221927 2011-01-06     705  \n",
       "9                        3.583519      0.221927 2011-10-31    1003  \n",
       "10                       3.583519      0.221927 2011-01-11     710  \n",
       "11                       3.258097      0.221927 2011-11-30    1033  \n",
       "12                       2.484907      0.221927 2012-01-01    1065  \n",
       "13                       2.484907      0.221927 2012-01-04    1068  \n",
       "14                       3.178054      0.221927 2012-05-31    1216  \n",
       "15                       2.397895      0.221927 2014-01-07    1802  \n",
       "16                       2.484907      0.221927 2015-05-31    2311  \n",
       "37                       1.098612      0.891160 2009-03-31      59  \n",
       "40                       1.791759      0.891160 2009-05-31     120  \n",
       "41                       3.178054      0.891160 2009-03-06      34  \n",
       "49                       3.871201      0.891160 2010-01-01     335  \n",
       "50                       2.484907      0.891160 2010-01-01     335  \n",
       "51                       3.583519      0.891160 2010-01-02     336  \n",
       "52                       3.583519      0.891160 2010-01-02     336  \n",
       "53                       3.178054      0.891160 2010-01-03     337  \n",
       "54                       2.772589      0.891160 2010-01-03     337  \n",
       "55                       3.871201      0.891160 2010-01-04     338  \n",
       "56                       3.583519      0.891160 2010-01-04     338  \n",
       "57                       3.583519      0.891160 2010-04-27     451  \n",
       "58                       3.583519      0.891160 2010-01-05     339  \n",
       "59                       2.995732      0.891160 2010-01-05     339  \n",
       "..                            ...           ...        ...     ...  \n",
       "756                      2.708050      0.061132 2012-10-26     634  \n",
       "757                      3.433987      0.061132 2012-10-28     636  \n",
       "758                      2.484907      0.061132 2012-07-12     528  \n",
       "759                      3.178054      0.061132 2013-01-02     702  \n",
       "760                      3.583519      0.061132 2013-06-02     853  \n",
       "761                      3.583519      0.061132 2013-02-20     751  \n",
       "762                      3.583519      0.061132 2013-05-20     840  \n",
       "763                      2.484907      0.061132 2013-01-06     706  \n",
       "764                      3.583519      0.061132 2013-01-06     706  \n",
       "765                      3.178054      0.061132 2013-06-06     857  \n",
       "766                      3.871201      0.061132 2013-06-21     872  \n",
       "767                      1.791759      0.061132 2013-01-07     707  \n",
       "768                      2.484907      0.061132 2013-01-10     710  \n",
       "769                      2.484907      0.061132 2014-01-01    1066  \n",
       "770                      3.871201      0.061132 2014-02-21    1117  \n",
       "771                      3.583519      0.061132 2014-12-03    1402  \n",
       "772                      3.178054      0.061132 2014-05-30    1215  \n",
       "773                      3.583519      0.061132 2014-07-08    1254  \n",
       "774                      2.484907      0.061132 2014-08-15    1292  \n",
       "775                      3.583519      0.061132 2014-01-09    1074  \n",
       "776                      3.295837      0.061132 2014-01-10    1075  \n",
       "777                      3.178054      0.061132 2014-01-11    1076  \n",
       "778                      3.178054      0.061132 2014-12-18    1417  \n",
       "779                      2.484907      0.061132 2015-01-01    1431  \n",
       "780                      3.583519      0.061132 2015-12-01    1765  \n",
       "781                      3.583519      0.061132 2015-12-02    1766  \n",
       "782                      2.079442      0.061132 2015-11-05    1739  \n",
       "783                      2.484907      0.061132 2015-05-31    1581  \n",
       "784                      3.178054      0.061132 2015-09-24    1697  \n",
       "785                      3.871201      0.061132 2016-01-01    1796  \n",
       "\n",
       "[609 rows x 7 columns]"
      ]
     },
     "execution_count": 591,
     "metadata": {},
     "output_type": "execute_result"
    }
   ],
   "source": [
    "df2"
   ]
  },
  {
   "cell_type": "code",
   "execution_count": 592,
   "metadata": {
    "collapsed": false
   },
   "outputs": [],
   "source": [
    "df2=df2.drop(['Molecule', 'Start_date', 'Region'],1)"
   ]
  },
  {
   "cell_type": "code",
   "execution_count": 593,
   "metadata": {
    "collapsed": true
   },
   "outputs": [],
   "source": [
    "df2=pd.get_dummies(df2)"
   ]
  },
  {
   "cell_type": "code",
   "execution_count": 594,
   "metadata": {
    "collapsed": false
   },
   "outputs": [],
   "source": [
    "y=df2.as_matrix()[:,0]"
   ]
  },
  {
   "cell_type": "code",
   "execution_count": 595,
   "metadata": {
    "collapsed": false
   },
   "outputs": [
    {
     "data": {
      "text/plain": [
       "(609,)"
      ]
     },
     "execution_count": 595,
     "metadata": {},
     "output_type": "execute_result"
    }
   ],
   "source": [
    "y.shape"
   ]
  },
  {
   "cell_type": "code",
   "execution_count": 596,
   "metadata": {
    "collapsed": false
   },
   "outputs": [],
   "source": [
    "X=df2.as_matrix()[:,1:]"
   ]
  },
  {
   "cell_type": "code",
   "execution_count": 597,
   "metadata": {
    "collapsed": false
   },
   "outputs": [
    {
     "data": {
      "text/plain": [
       "(609, 3)"
      ]
     },
     "execution_count": 597,
     "metadata": {},
     "output_type": "execute_result"
    }
   ],
   "source": [
    "X.shape"
   ]
  },
  {
   "cell_type": "code",
   "execution_count": 598,
   "metadata": {
    "collapsed": true
   },
   "outputs": [],
   "source": [
    "X_train,X_test,y_train,y_test=train_test_split(X,y)"
   ]
  },
  {
   "cell_type": "code",
   "execution_count": 599,
   "metadata": {
    "collapsed": false
   },
   "outputs": [
    {
     "data": {
      "text/plain": [
       "Index([u'Winning_price_per_standard_unit', u'Length_of_contract_in_Months',\n",
       "       u'Presentation', u'Tenure'],\n",
       "      dtype='object')"
      ]
     },
     "execution_count": 599,
     "metadata": {},
     "output_type": "execute_result"
    }
   ],
   "source": [
    "df2.columns"
   ]
  },
  {
   "cell_type": "code",
   "execution_count": 600,
   "metadata": {
    "collapsed": false
   },
   "outputs": [],
   "source": [
    "#randForest=RandomForestRegressor()\n",
    "#randForest.fit_transform(X_train,y_train)\n",
    "#randForest.score(X_test,y_test)\n",
    "#y_rand_pred=randForest.predict(X_test)\n",
    "#mean_squared_error(y_test,y_rand_pred)"
   ]
  },
  {
   "cell_type": "code",
   "execution_count": 601,
   "metadata": {
    "collapsed": false
   },
   "outputs": [
    {
     "data": {
      "text/plain": [
       "0.17734091925502771"
      ]
     },
     "execution_count": 601,
     "metadata": {},
     "output_type": "execute_result"
    }
   ],
   "source": [
    "reg=linear_model.LinearRegression()\n",
    "reg.fit(X_train,y_train)\n",
    "reg.score(X_test,y_test)"
   ]
  },
  {
   "cell_type": "code",
   "execution_count": 602,
   "metadata": {
    "collapsed": false
   },
   "outputs": [
    {
     "data": {
      "text/plain": [
       "array([  2.19289786e-01,   2.63581724e+00,  -1.01255486e-03])"
      ]
     },
     "execution_count": 602,
     "metadata": {},
     "output_type": "execute_result"
    }
   ],
   "source": [
    "reg.coef_"
   ]
  },
  {
   "cell_type": "code",
   "execution_count": 603,
   "metadata": {
    "collapsed": false
   },
   "outputs": [],
   "source": [
    "y_pred=reg.predict(X_test)"
   ]
  },
  {
   "cell_type": "code",
   "execution_count": 604,
   "metadata": {
    "collapsed": false
   },
   "outputs": [],
   "source": [
    "#y_pred"
   ]
  },
  {
   "cell_type": "code",
   "execution_count": 605,
   "metadata": {
    "collapsed": false
   },
   "outputs": [
    {
     "data": {
      "image/png": "[encoded data removed]",
      "text/plain": [
       "<matplotlib.figure.Figure at 0x1171e4b50>"
      ]
     },
     "metadata": {},
     "output_type": "display_data"
    }
   ],
   "source": [
    "fig, ax = plt.subplots()\n",
    "ax.scatter(y_test, y_pred)\n",
    "ax.plot([y_test.min(), y_test.max()], [y_test.min(), y_test.max()], 'k--', lw=4)\n",
    "ax.set_xlabel('Measured')\n",
    "ax.set_ylabel('Predicted')\n",
    "plt.show()"
   ]
  },
  {
   "cell_type": "code",
   "execution_count": 606,
   "metadata": {
    "collapsed": false
   },
   "outputs": [
    {
     "data": {
      "text/plain": [
       "array([ 0.06   ,  1.99999,  2.8    ,  0.2    ,  0.875  ,  3.65787,\n",
       "        0.048  ,  3.489  ,  1.812  ,  1.65   ])"
      ]
     },
     "execution_count": 606,
     "metadata": {},
     "output_type": "execute_result"
    }
   ],
   "source": [
    "y_test[0:10]"
   ]
  },
  {
   "cell_type": "code",
   "execution_count": 607,
   "metadata": {
    "collapsed": false
   },
   "outputs": [
    {
     "data": {
      "text/plain": [
       "array([ 0.49961179,  1.85086886,  2.43721172,  0.80078097, -0.27680917,\n",
       "       -0.45864216,  0.49961179,  2.95778179,  0.69247488,  0.93097831])"
      ]
     },
     "execution_count": 607,
     "metadata": {},
     "output_type": "execute_result"
    }
   ],
   "source": [
    "y_pred[0:10]"
   ]
  },
  {
   "cell_type": "code",
   "execution_count": 608,
   "metadata": {
    "collapsed": false
   },
   "outputs": [],
   "source": [
    "#plt.scatter(y_pred,y_test)"
   ]
  },
  {
   "cell_type": "code",
   "execution_count": 609,
   "metadata": {
    "collapsed": false
   },
   "outputs": [
    {
     "data": {
      "text/plain": [
       "1.0500660131861239"
      ]
     },
     "execution_count": 609,
     "metadata": {},
     "output_type": "execute_result"
    }
   ],
   "source": [
    "mean_squared_error(y_test,y_pred)"
   ]
  },
  {
   "cell_type": "code",
   "execution_count": 610,
   "metadata": {
    "collapsed": true
   },
   "outputs": [],
   "source": [
    "df_test=pd.read_csv('data/CAX_Bidding_TEST_Molecule_6_Post_LOE.csv')"
   ]
  },
  {
   "cell_type": "code",
   "execution_count": 611,
   "metadata": {
    "collapsed": false
   },
   "outputs": [],
   "source": [
    "#df_test.head()"
   ]
  },
  {
   "cell_type": "code",
   "execution_count": 612,
   "metadata": {
    "collapsed": false
   },
   "outputs": [],
   "source": [
    "#import csv\n",
    "#b = open('test.csv', 'w')\n",
    "#a = csv.writer(b)\n",
    "#data = ytest_pred\n",
    "#a.writerow(data)\n",
    "#b.close()"
   ]
  },
  {
   "cell_type": "code",
   "execution_count": 613,
   "metadata": {
    "collapsed": false
   },
   "outputs": [
    {
     "name": "stderr",
     "output_type": "stream",
     "text": [
      "/Users/ssing25/anaconda2/envs/dato-env/lib/python2.7/site-packages/ipykernel/__main__.py:4: SettingWithCopyWarning: \n",
      "A value is trying to be set on a copy of a slice from a DataFrame.\n",
      "Try using .loc[row_indexer,col_indexer] = value instead\n",
      "\n",
      "See the caveats in the documentation: http://pandas.pydata.org/pandas-docs/stable/indexing.html#indexing-view-versus-copy\n"
     ]
    }
   ],
   "source": [
    "df_test=pd.read_csv('data/CAX_Bidding_TEST_Molecule_6_Post_LOE.csv')\n",
    "col_test =['Molecule', 'Region','Length_of_contract_in_Months', 'Presentation', 'Start_date']\n",
    "df2_test =df_test[col_test]\n",
    "df2_test['Start_date']=pd.to_datetime(df2_test['Start_date'])"
   ]
  },
  {
   "cell_type": "code",
   "execution_count": 614,
   "metadata": {
    "collapsed": false
   },
   "outputs": [],
   "source": [
    "def days_since_loe_test(a, b):\n",
    "    if a=='Molecule6':\n",
    "        return (b - datetime(2011,1,1,0,0,0)).days\n",
    "    else:\n",
    "        return (b - datetime(2011,1,1,0,0,0)).days\n",
    "    "
   ]
  },
  {
   "cell_type": "code",
   "execution_count": 615,
   "metadata": {
    "collapsed": false
   },
   "outputs": [
    {
     "name": "stderr",
     "output_type": "stream",
     "text": [
      "/Users/ssing25/anaconda2/envs/dato-env/lib/python2.7/site-packages/ipykernel/__main__.py:2: SettingWithCopyWarning: \n",
      "A value is trying to be set on a copy of a slice from a DataFrame.\n",
      "Try using .loc[row_indexer,col_indexer] = value instead\n",
      "\n",
      "See the caveats in the documentation: http://pandas.pydata.org/pandas-docs/stable/indexing.html#indexing-view-versus-copy\n",
      "  from ipykernel import kernelapp as app\n"
     ]
    }
   ],
   "source": [
    "\n",
    "df2_test['Tenure'] = df2_test.apply(lambda row: days_since_loe_test(row['Molecule'], row['Start_date']), axis=1)"
   ]
  },
  {
   "cell_type": "code",
   "execution_count": 616,
   "metadata": {
    "collapsed": false
   },
   "outputs": [],
   "source": [
    "#df2_test=df2_test[df2_test['Tenure']>0]\n",
    "\n",
    "#df2_test\n",
    "\n",
    "df_pres=pd.read_csv('data/CAX_Bidding_TEST_Molecule_6_Pre_LOE.csv')\n",
    "col_pres =['Molecule', 'Region','Winning_price_per_standard_unit', 'Length_of_contract_in_Months', 'Presentation', 'Start_date']\n",
    "\n",
    "df_pres = df_pres[col_pres]"
   ]
  },
  {
   "cell_type": "code",
   "execution_count": 617,
   "metadata": {
    "collapsed": false
   },
   "outputs": [
    {
     "data": {
      "text/html": [
       "<div>\n",
       "<table border=\"1\" class=\"dataframe\">\n",
       "  <thead>\n",
       "    <tr style=\"text-align: right;\">\n",
       "      <th></th>\n",
       "      <th>Molecule</th>\n",
       "      <th>Region</th>\n",
       "      <th>Winning_price_per_standard_unit</th>\n",
       "      <th>Length_of_contract_in_Months</th>\n",
       "      <th>Presentation</th>\n",
       "      <th>Start_date</th>\n",
       "    </tr>\n",
       "  </thead>\n",
       "  <tbody>\n",
       "    <tr>\n",
       "      <th>0</th>\n",
       "      <td>Molecule6</td>\n",
       "      <td>Region2</td>\n",
       "      <td>19.41545</td>\n",
       "      <td>12</td>\n",
       "      <td>Presentation20</td>\n",
       "      <td>01-01-2010</td>\n",
       "    </tr>\n",
       "    <tr>\n",
       "      <th>1</th>\n",
       "      <td>Molecule6</td>\n",
       "      <td>Region9</td>\n",
       "      <td>19.41545</td>\n",
       "      <td>24</td>\n",
       "      <td>Presentation20</td>\n",
       "      <td>01-03-2010</td>\n",
       "    </tr>\n",
       "    <tr>\n",
       "      <th>2</th>\n",
       "      <td>Molecule6</td>\n",
       "      <td>Region1</td>\n",
       "      <td>15.92067</td>\n",
       "      <td>36</td>\n",
       "      <td>Presentation20</td>\n",
       "      <td>01-05-2010</td>\n",
       "    </tr>\n",
       "    <tr>\n",
       "      <th>3</th>\n",
       "      <td>Molecule6</td>\n",
       "      <td>Region16</td>\n",
       "      <td>19.41000</td>\n",
       "      <td>36</td>\n",
       "      <td>Presentation20</td>\n",
       "      <td>30-07-2010</td>\n",
       "    </tr>\n",
       "    <tr>\n",
       "      <th>4</th>\n",
       "      <td>Molecule6</td>\n",
       "      <td>Region6</td>\n",
       "      <td>17.99000</td>\n",
       "      <td>36</td>\n",
       "      <td>Presentation20</td>\n",
       "      <td>01-10-2010</td>\n",
       "    </tr>\n",
       "  </tbody>\n",
       "</table>\n",
       "</div>"
      ],
      "text/plain": [
       "    Molecule    Region  Winning_price_per_standard_unit  \\\n",
       "0  Molecule6   Region2                         19.41545   \n",
       "1  Molecule6   Region9                         19.41545   \n",
       "2  Molecule6   Region1                         15.92067   \n",
       "3  Molecule6  Region16                         19.41000   \n",
       "4  Molecule6   Region6                         17.99000   \n",
       "\n",
       "   Length_of_contract_in_Months    Presentation  Start_date  \n",
       "0                            12  Presentation20  01-01-2010  \n",
       "1                            24  Presentation20  01-03-2010  \n",
       "2                            36  Presentation20  01-05-2010  \n",
       "3                            36  Presentation20  30-07-2010  \n",
       "4                            36  Presentation20  01-10-2010  "
      ]
     },
     "execution_count": 617,
     "metadata": {},
     "output_type": "execute_result"
    }
   ],
   "source": [
    "df_pres.head()"
   ]
  },
  {
   "cell_type": "code",
   "execution_count": 618,
   "metadata": {
    "collapsed": false
   },
   "outputs": [],
   "source": [
    "pTestPresentationDict = {}\n",
    "for item in df_pres['Presentation'].unique():\n",
    "    row = df_pres.ix[df_pres[df_pres['Presentation'] == item]['Winning_price_per_standard_unit'].idxmax()]\n",
    "    pTestPresentationDict[row['Presentation']] = row['Winning_price_per_standard_unit']"
   ]
  },
  {
   "cell_type": "code",
   "execution_count": 619,
   "metadata": {
    "collapsed": false
   },
   "outputs": [
    {
     "data": {
      "text/plain": [
       "{'Presentation20': 19.41545, 'Presentation21': 10.49}"
      ]
     },
     "execution_count": 619,
     "metadata": {},
     "output_type": "execute_result"
    }
   ],
   "source": [
    "pTestPresentationDict"
   ]
  },
  {
   "cell_type": "code",
   "execution_count": 620,
   "metadata": {
    "collapsed": true
   },
   "outputs": [],
   "source": [
    "def factor_test_presentation(presentation):\n",
    "    return pTestPresentationDict[presentation]/max_presentation"
   ]
  },
  {
   "cell_type": "code",
   "execution_count": 621,
   "metadata": {
    "collapsed": false
   },
   "outputs": [],
   "source": [
    "#df2_test"
   ]
  },
  {
   "cell_type": "code",
   "execution_count": 622,
   "metadata": {
    "collapsed": false
   },
   "outputs": [
    {
     "name": "stderr",
     "output_type": "stream",
     "text": [
      "/Users/ssing25/anaconda2/envs/dato-env/lib/python2.7/site-packages/ipykernel/__main__.py:1: SettingWithCopyWarning: \n",
      "A value is trying to be set on a copy of a slice from a DataFrame.\n",
      "Try using .loc[row_indexer,col_indexer] = value instead\n",
      "\n",
      "See the caveats in the documentation: http://pandas.pydata.org/pandas-docs/stable/indexing.html#indexing-view-versus-copy\n",
      "  if __name__ == '__main__':\n"
     ]
    }
   ],
   "source": [
    "df2_test['Presentation'] = df2_test.apply(lambda row: factor_test_presentation(row['Presentation']), axis=1)"
   ]
  },
  {
   "cell_type": "code",
   "execution_count": 623,
   "metadata": {
    "collapsed": false
   },
   "outputs": [
    {
     "name": "stderr",
     "output_type": "stream",
     "text": [
      "/Users/ssing25/anaconda2/envs/dato-env/lib/python2.7/site-packages/ipykernel/__main__.py:1: SettingWithCopyWarning: \n",
      "A value is trying to be set on a copy of a slice from a DataFrame.\n",
      "Try using .loc[row_indexer,col_indexer] = value instead\n",
      "\n",
      "See the caveats in the documentation: http://pandas.pydata.org/pandas-docs/stable/indexing.html#indexing-view-versus-copy\n",
      "  if __name__ == '__main__':\n"
     ]
    }
   ],
   "source": [
    "df2_test['Tenure'] = df2_test.apply(lambda row: row['Tenure'], axis=1)"
   ]
  },
  {
   "cell_type": "code",
   "execution_count": 624,
   "metadata": {
    "collapsed": false
   },
   "outputs": [
    {
     "name": "stderr",
     "output_type": "stream",
     "text": [
      "/Users/ssing25/anaconda2/envs/dato-env/lib/python2.7/site-packages/ipykernel/__main__.py:1: SettingWithCopyWarning: \n",
      "A value is trying to be set on a copy of a slice from a DataFrame.\n",
      "Try using .loc[row_indexer,col_indexer] = value instead\n",
      "\n",
      "See the caveats in the documentation: http://pandas.pydata.org/pandas-docs/stable/indexing.html#indexing-view-versus-copy\n",
      "  if __name__ == '__main__':\n"
     ]
    }
   ],
   "source": [
    "df2_test['Length_of_contract_in_Months'] = df2_test.apply(lambda row: np.log(row['Length_of_contract_in_Months']), axis=1)"
   ]
  },
  {
   "cell_type": "code",
   "execution_count": 625,
   "metadata": {
    "collapsed": false
   },
   "outputs": [],
   "source": [
    "#df2_test"
   ]
  },
  {
   "cell_type": "code",
   "execution_count": 626,
   "metadata": {
    "collapsed": false
   },
   "outputs": [
    {
     "data": {
      "text/html": [
       "<div>\n",
       "<table border=\"1\" class=\"dataframe\">\n",
       "  <thead>\n",
       "    <tr style=\"text-align: right;\">\n",
       "      <th></th>\n",
       "      <th>Length_of_contract_in_Months</th>\n",
       "      <th>Presentation</th>\n",
       "      <th>Tenure</th>\n",
       "    </tr>\n",
       "  </thead>\n",
       "  <tbody>\n",
       "    <tr>\n",
       "      <th>0</th>\n",
       "      <td>1.386294</td>\n",
       "      <td>0.780678</td>\n",
       "      <td>2</td>\n",
       "    </tr>\n",
       "    <tr>\n",
       "      <th>1</th>\n",
       "      <td>3.583519</td>\n",
       "      <td>0.780678</td>\n",
       "      <td>2</td>\n",
       "    </tr>\n",
       "    <tr>\n",
       "      <th>2</th>\n",
       "      <td>2.708050</td>\n",
       "      <td>0.780678</td>\n",
       "      <td>111</td>\n",
       "    </tr>\n",
       "    <tr>\n",
       "      <th>3</th>\n",
       "      <td>2.079442</td>\n",
       "      <td>0.780678</td>\n",
       "      <td>4</td>\n",
       "    </tr>\n",
       "    <tr>\n",
       "      <th>4</th>\n",
       "      <td>2.302585</td>\n",
       "      <td>0.780678</td>\n",
       "      <td>4</td>\n",
       "    </tr>\n",
       "  </tbody>\n",
       "</table>\n",
       "</div>"
      ],
      "text/plain": [
       "   Length_of_contract_in_Months  Presentation  Tenure\n",
       "0                      1.386294      0.780678       2\n",
       "1                      3.583519      0.780678       2\n",
       "2                      2.708050      0.780678     111\n",
       "3                      2.079442      0.780678       4\n",
       "4                      2.302585      0.780678       4"
      ]
     },
     "execution_count": 626,
     "metadata": {},
     "output_type": "execute_result"
    }
   ],
   "source": [
    "df3_test = df2_test.drop(['Molecule', 'Start_date', 'Region'], 1)\n",
    "\n",
    "df3_test.head()"
   ]
  },
  {
   "cell_type": "code",
   "execution_count": 627,
   "metadata": {
    "collapsed": false
   },
   "outputs": [
    {
     "data": {
      "text/html": [
       "<div>\n",
       "<table border=\"1\" class=\"dataframe\">\n",
       "  <thead>\n",
       "    <tr style=\"text-align: right;\">\n",
       "      <th></th>\n",
       "      <th>Length_of_contract_in_Months</th>\n",
       "      <th>Presentation</th>\n",
       "      <th>Tenure</th>\n",
       "    </tr>\n",
       "  </thead>\n",
       "  <tbody>\n",
       "    <tr>\n",
       "      <th>0</th>\n",
       "      <td>1.386294</td>\n",
       "      <td>0.780678</td>\n",
       "      <td>2</td>\n",
       "    </tr>\n",
       "    <tr>\n",
       "      <th>1</th>\n",
       "      <td>3.583519</td>\n",
       "      <td>0.780678</td>\n",
       "      <td>2</td>\n",
       "    </tr>\n",
       "    <tr>\n",
       "      <th>2</th>\n",
       "      <td>2.708050</td>\n",
       "      <td>0.780678</td>\n",
       "      <td>111</td>\n",
       "    </tr>\n",
       "    <tr>\n",
       "      <th>3</th>\n",
       "      <td>2.079442</td>\n",
       "      <td>0.780678</td>\n",
       "      <td>4</td>\n",
       "    </tr>\n",
       "    <tr>\n",
       "      <th>4</th>\n",
       "      <td>2.302585</td>\n",
       "      <td>0.780678</td>\n",
       "      <td>4</td>\n",
       "    </tr>\n",
       "  </tbody>\n",
       "</table>\n",
       "</div>"
      ],
      "text/plain": [
       "   Length_of_contract_in_Months  Presentation  Tenure\n",
       "0                      1.386294      0.780678       2\n",
       "1                      3.583519      0.780678       2\n",
       "2                      2.708050      0.780678     111\n",
       "3                      2.079442      0.780678       4\n",
       "4                      2.302585      0.780678       4"
      ]
     },
     "execution_count": 627,
     "metadata": {},
     "output_type": "execute_result"
    }
   ],
   "source": [
    "df3_test=pd.get_dummies(df3_test)\n",
    "\n",
    "df3_test.head()"
   ]
  },
  {
   "cell_type": "code",
   "execution_count": 628,
   "metadata": {
    "collapsed": true
   },
   "outputs": [],
   "source": [
    "x_test_mtx=df3_test.as_matrix()"
   ]
  },
  {
   "cell_type": "code",
   "execution_count": 629,
   "metadata": {
    "collapsed": false
   },
   "outputs": [],
   "source": [
    "y_test_pred=reg.predict(x_test_mtx)"
   ]
  },
  {
   "cell_type": "code",
   "execution_count": 630,
   "metadata": {
    "collapsed": false
   },
   "outputs": [
    {
     "data": {
      "text/plain": [
       "(152,)"
      ]
     },
     "execution_count": 630,
     "metadata": {},
     "output_type": "execute_result"
    }
   ],
   "source": [
    "y_test_pred.shape"
   ]
  },
  {
   "cell_type": "code",
   "execution_count": 631,
   "metadata": {
    "collapsed": false
   },
   "outputs": [],
   "source": [
    "#df2_test.info()"
   ]
  },
  {
   "cell_type": "code",
   "execution_count": 632,
   "metadata": {
    "collapsed": false
   },
   "outputs": [
    {
     "name": "stdout",
     "output_type": "stream",
     "text": [
      "2.61488616997\n",
      "3.09671507768\n",
      "2.79436524584\n",
      "2.76486115725\n",
      "2.8137942589\n",
      "2.61286106025\n",
      "3.09468996796\n",
      "3.06886135126\n",
      "3.02310591186\n",
      "2.94067937295\n",
      "2.94685695854\n",
      "2.73456653186\n",
      "3.0936774131\n",
      "2.73456653186\n",
      "2.85175040439\n",
      "2.85175040439\n",
      "2.34422668372\n",
      "3.00273794653\n",
      "3.09165230338\n",
      "2.52387310081\n",
      "2.54471254581\n",
      "2.84871273981\n",
      "2.79193606511\n",
      "3.0886146388\n",
      "2.69019761073\n",
      "2.69019761073\n",
      "2.48824321\n",
      "2.6002620518\n",
      "2.48824321\n",
      "2.30103742922\n",
      "2.67295240138\n",
      "2.66505936884\n",
      "2.79021829428\n",
      "2.56531424743\n",
      "2.56531424743\n",
      "2.48520554542\n",
      "2.36774918177\n",
      "2.54082246007\n",
      "2.78616807484\n",
      "2.78515551998\n",
      "2.78414296513\n",
      "2.63113031327\n",
      "2.72004467012\n",
      "2.2344224088\n",
      "2.39158786931\n",
      "2.47811766141\n",
      "2.2928201222\n",
      "2.26863567373\n",
      "2.20465424687\n",
      "2.30793484249\n",
      "2.11562302187\n",
      "2.26844520299\n",
      "2.41759810616\n",
      "2.21781746004\n",
      "2.35349981115\n",
      "2.11168967058\n",
      "1.62846726654\n",
      "1.9889800619\n",
      "1.74806560805\n",
      "2.00042550424\n",
      "1.64876162927\n",
      "1.98492984246\n",
      "1.74919503105\n",
      "1.7986197484\n",
      "1.51922820991\n",
      "1.51922820991\n",
      "1.89196526618\n",
      "1.98087962303\n",
      "1.61974363207\n",
      "1.88994015646\n",
      "1.54465894953\n",
      "1.3784830845\n",
      "1.28120421544\n",
      "1.28019166058\n",
      "1.5120667233\n",
      "1.22659985565\n",
      "1.46143898035\n",
      "1.31290075496\n",
      "1.8484120885\n",
      "1.86784110156\n",
      "1.66690790291\n",
      "2.14873681061\n",
      "2.12290819391\n",
      "2.07715275451\n",
      "2.0009038012\n",
      "2.14772425576\n",
      "1.78861337452\n",
      "1.97153971028\n",
      "2.1467117009\n",
      "2.05678478919\n",
      "2.14569914604\n",
      "1.59875938847\n",
      "1.90275958247\n",
      "1.84598290776\n",
      "2.14266148146\n",
      "1.74424445339\n",
      "1.74424445339\n",
      "1.54229005265\n",
      "1.65430889445\n",
      "1.54229005265\n",
      "1.7191062115\n",
      "1.48254931597\n",
      "1.61936109009\n",
      "1.61936109009\n",
      "1.53925238808\n",
      "1.42179602443\n",
      "1.59486930273\n",
      "1.59486930273\n",
      "1.8402149175\n",
      "1.83920236264\n",
      "1.83818980778\n",
      "1.68517715592\n",
      "1.77409151277\n",
      "1.28846925145\n",
      "1.44563471197\n",
      "1.53216450406\n",
      "1.34686696486\n",
      "1.32268251639\n",
      "1.17068241939\n",
      "1.25870108953\n",
      "1.36198168515\n",
      "1.16966986453\n",
      "1.32249204565\n",
      "1.47164494881\n",
      "1.40754665381\n",
      "1.16573651324\n",
      "1.01361954809\n",
      "1.40450898923\n",
      "0.682514109192\n",
      "0.732436636174\n",
      "1.04302690456\n",
      "0.802112450704\n",
      "0.801099895845\n",
      "1.05447234689\n",
      "0.702808471922\n",
      "1.03897668512\n",
      "0.803241873709\n",
      "0.542076322677\n",
      "1.0369515754\n",
      "0.852666591058\n",
      "0.573275052563\n",
      "0.573275052563\n",
      "0.946012108832\n",
      "0.943986999114\n",
      "0.598705792186\n",
      "0.432529927159\n",
      "0.335251058095\n",
      "0.334238503236\n",
      "0.280646698304\n",
      "0.515485823002\n",
      "0.426454598004\n",
      "0.366947597615\n"
     ]
    }
   ],
   "source": [
    "for elem in y_test_pred:\n",
    "    print elem"
   ]
  },
  {
   "cell_type": "code",
   "execution_count": null,
   "metadata": {
    "collapsed": true
   },
   "outputs": [],
   "source": []
  }
 ],
 "metadata": {
  "kernelspec": {
   "display_name": "Python 2",
   "language": "python",
   "name": "python2"
  },
  "language_info": {
   "codemirror_mode": {
    "name": "ipython",
    "version": 2
   },
   "file_extension": ".py",
   "mimetype": "text/x-python",
   "name": "python",
   "nbconvert_exporter": "python",
   "pygments_lexer": "ipython2",
   "version": "2.7.11"
  }
 },
 "nbformat": 4,
 "nbformat_minor": 0
}
