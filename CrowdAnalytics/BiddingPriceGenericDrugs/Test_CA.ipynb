{
 "cells": [
  {
   "cell_type": "code",
   "execution_count": 1,
   "metadata": {
    "collapsed": false
   },
   "outputs": [
    {
     "name": "stderr",
     "output_type": "stream",
     "text": [
      "[INFO] \u001b[1;32m1451620129 : INFO:     (initialize_globals_from_environment:282): Setting configuration variable GRAPHLAB_FILEIO_ALTERNATIVE_SSL_CERT_FILE to /Users/ssing25/anaconda2/envs/dato-env/lib/python2.7/site-packages/certifi/cacert.pem\n",
      "\u001b[0m\u001b[1;32m1451620129 : INFO:     (initialize_globals_from_environment:282): Setting configuration variable GRAPHLAB_FILEIO_ALTERNATIVE_SSL_CERT_DIR to \n",
      "\u001b[0mThis non-commercial license of GraphLab Create is assigned to ssingh@vimagino.com and will expire on December 30, 2016. For commercial licensing options, visit https://dato.com/buy/.\n",
      "\n",
      "[INFO] Start server at: ipc:///tmp/graphlab_server-5415 - Server binary: /Users/ssing25/anaconda2/envs/dato-env/lib/python2.7/site-packages/graphlab/unity_server - Server log: /tmp/graphlab_server_1451620129.log\n",
      "[INFO] GraphLab Server Version: 1.7.1\n"
     ]
    }
   ],
   "source": [
    "import pandas as pd\n",
    "import graphlab as gl\n",
    "from sklearn import linear_model\n",
    "from sklearn.cross_validation import train_test_split\n",
    "from sklearn.metrics import mean_squared_error\n",
    "import matplotlib.pyplot as plt\n",
    "from datetime import datetime\n",
    "from sklearn.ensemble import RandomForestRegressor\n",
    "%matplotlib inline"
   ]
  },
  {
   "cell_type": "code",
   "execution_count": 2,
   "metadata": {
    "collapsed": true
   },
   "outputs": [],
   "source": [
    "df_test=pd.read_csv('data/CAX_Bidding_TEST_Molecule_6_Post_LOE.csv')\n",
    "\n",
    "col_test =['Molecule', 'Region','Length_of_contract_in_Months', 'Presentation', 'Start_date']\n",
    "\n",
    "df2_test =df_test[col_test]\n",
    "\n",
    "df2_test.head()\n",
    "\n",
    "df2_test['Start_date']=pd.to_datetime(df2_test['Start_date'])\n",
    "def days_since_loe(a, b):\n",
    "    if a=='Molecule6':\n",
    "        return (b - datetime(2011,1,1,0,0,0)).days\n",
    "    else:\n",
    "        return (b - datetime(2011,1,1,0,0,0)).days\n",
    "\n",
    "df2_test['Value'] = df2_test.apply(lambda row: days_since_loe(row['Molecule'], row['Start_date']), axis=1)\n",
    "\n",
    "df2_test=df2_test[df2_test['Value']>0]\n",
    "\n",
    "#df2_test\n",
    "\n",
    "df_pres=pd.read_csv('data/CAX_Bidding_TEST_Molecule_6_Pre_LOE.csv')\n",
    "\n",
    "pList = df_pres['Presentation'].unique()\n",
    "pDict = {}\n",
    "for x in pList:\n",
    "    for index, row in df_pres.iterrows():\n",
    "        pDict[x] = df_pres[df_pres['Presentation']== x]['Winning_price_per_standard_unit'].max()\n",
    "        break\n",
    "            \n",
    "\n",
    "pDict\n",
    "\n",
    "def factor_price(price, presentation):\n",
    "    return price/pDict[presentation]\n",
    "\n",
    "df2_test.head()\n",
    "\n",
    "df3_test = df2_test.drop(['Molecule', 'Presentation', 'Start_date'], 1)\n",
    "\n",
    "df3_test.head()\n",
    "\n",
    "df3_test=pd.get_dummies(df3_test)\n",
    "\n",
    "df3_test.head()\n",
    "\n",
    "x_test_mtx=df3_test.as_matrix()"
   ]
  },
  {
   "cell_type": "code",
   "execution_count": null,
   "metadata": {
    "collapsed": true
   },
   "outputs": [],
   "source": []
  }
 ],
 "metadata": {
  "kernelspec": {
   "display_name": "Python 2",
   "language": "python",
   "name": "python2"
  },
  "language_info": {
   "codemirror_mode": {
    "name": "ipython",
    "version": 2
   },
   "file_extension": ".py",
   "mimetype": "text/x-python",
   "name": "python",
   "nbconvert_exporter": "python",
   "pygments_lexer": "ipython2",
   "version": "2.7.11"
  }
 },
 "nbformat": 4,
 "nbformat_minor": 0
}
